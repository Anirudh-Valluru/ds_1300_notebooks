{
 "cells": [
  {
   "cell_type": "markdown",
   "id": "b33ca67a",
   "metadata": {},
   "source": [
    "# Working with Big(ger) Data"
   ]
  }
 ],
 "metadata": {
  "jupytext": {
   "formats": "ipynb,md"
  },
  "kernelspec": {
   "display_name": "Python 3",
   "language": "python",
   "name": "python3"
  }
 },
 "nbformat": 4,
 "nbformat_minor": 5
}

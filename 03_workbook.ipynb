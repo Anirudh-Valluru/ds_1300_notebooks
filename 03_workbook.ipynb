{
 "cells": [
  {
   "cell_type": "markdown",
   "id": "a3e956f8",
   "metadata": {},
   "source": [
    "# Working with Big(ger) Data"
   ]
  }
 ],
 "metadata": {
  "jupytext": {
   "formats": "ipynb,md"
  },
  "kernelspec": {
   "display_name": "Python 3",
   "language": "python",
   "name": "python3"
  }
 },
 "nbformat": 4,
 "nbformat_minor": 5
}

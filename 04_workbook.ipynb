{
 "cells": [
  {
   "cell_type": "markdown",
   "id": "57d01fd6",
   "metadata": {},
   "source": [
    "# Exploring and Cleaning a Data Set"
   ]
  },
  {
   "cell_type": "code",
   "execution_count": null,
   "id": "94649c00",
   "metadata": {},
   "outputs": [],
   "source": []
  }
 ],
 "metadata": {
  "jupytext": {
   "formats": "ipynb,md"
  },
  "kernelspec": {
   "display_name": "Python 3",
   "language": "python",
   "name": "python3"
  }
 },
 "nbformat": 4,
 "nbformat_minor": 5
}

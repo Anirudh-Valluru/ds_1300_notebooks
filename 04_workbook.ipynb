{
 "cells": [
  {
   "cell_type": "markdown",
   "id": "ec0f0f04",
   "metadata": {},
   "source": [
    "# Exploring and Cleaning a Data Set"
   ]
  },
  {
   "cell_type": "code",
   "execution_count": null,
   "id": "d5562ad5",
   "metadata": {},
   "outputs": [],
   "source": []
  }
 ],
 "metadata": {
  "jupytext": {
   "formats": "ipynb,md"
  },
  "kernelspec": {
   "display_name": "Python 3",
   "language": "python",
   "name": "python3"
  }
 },
 "nbformat": 4,
 "nbformat_minor": 5
}

{
 "cells": [
  {
   "cell_type": "markdown",
   "id": "45d33708",
   "metadata": {},
   "source": [
    "# Exploring and Cleaning a Data Set"
   ]
  },
  {
   "cell_type": "code",
   "execution_count": null,
   "id": "50202714",
   "metadata": {},
   "outputs": [],
   "source": []
  }
 ],
 "metadata": {
  "jupytext": {
   "formats": "ipynb,md"
  },
  "kernelspec": {
   "display_name": "Python 3",
   "language": "python",
   "name": "python3"
  }
 },
 "nbformat": 4,
 "nbformat_minor": 5
}

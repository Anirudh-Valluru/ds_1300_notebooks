{
 "cells": [
  {
   "cell_type": "markdown",
   "id": "1c6d60da",
   "metadata": {},
   "source": [
    "# Exploring and Cleaning a Data Set"
   ]
  },
  {
   "cell_type": "code",
   "execution_count": null,
   "id": "32e059c3",
   "metadata": {},
   "outputs": [],
   "source": []
  }
 ],
 "metadata": {
  "jupytext": {
   "formats": "ipynb,md"
  },
  "kernelspec": {
   "display_name": "Python 3",
   "language": "python",
   "name": "python3"
  }
 },
 "nbformat": 4,
 "nbformat_minor": 5
}

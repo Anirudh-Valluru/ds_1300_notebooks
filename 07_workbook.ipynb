{
 "cells": [
  {
   "cell_type": "markdown",
   "id": "d233da97",
   "metadata": {},
   "source": [
    "# Modeling Data"
   ]
  },
  {
   "cell_type": "code",
   "execution_count": null,
   "id": "0bf5134c",
   "metadata": {},
   "outputs": [],
   "source": []
  }
 ],
 "metadata": {
  "jupytext": {
   "formats": "ipynb,md"
  },
  "kernelspec": {
   "display_name": "Python 3",
   "language": "python",
   "name": "python3"
  }
 },
 "nbformat": 4,
 "nbformat_minor": 5
}

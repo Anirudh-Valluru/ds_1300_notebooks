{
 "cells": [
  {
   "cell_type": "markdown",
   "id": "59fbe6cd",
   "metadata": {},
   "source": [
    "# Modeling Data"
   ]
  },
  {
   "cell_type": "code",
   "execution_count": null,
   "id": "ab675dc2",
   "metadata": {},
   "outputs": [],
   "source": []
  }
 ],
 "metadata": {
  "jupytext": {
   "formats": "ipynb,md"
  },
  "kernelspec": {
   "display_name": "Python 3",
   "language": "python",
   "name": "python3"
  }
 },
 "nbformat": 4,
 "nbformat_minor": 5
}

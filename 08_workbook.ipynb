{
 "cells": [
  {
   "cell_type": "markdown",
   "id": "e2442a3c",
   "metadata": {},
   "source": [
    "# Data Analysis Revisit"
   ]
  },
  {
   "cell_type": "code",
   "execution_count": null,
   "id": "19d046fe",
   "metadata": {},
   "outputs": [],
   "source": []
  }
 ],
 "metadata": {
  "jupytext": {
   "formats": "ipynb,md"
  },
  "kernelspec": {
   "display_name": "Python 3",
   "language": "python",
   "name": "python3"
  }
 },
 "nbformat": 4,
 "nbformat_minor": 5
}

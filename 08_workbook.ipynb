{
 "cells": [
  {
   "cell_type": "markdown",
   "id": "0da0fe60",
   "metadata": {},
   "source": [
    "# Data Analysis Revisit"
   ]
  },
  {
   "cell_type": "code",
   "execution_count": null,
   "id": "f9cce378",
   "metadata": {},
   "outputs": [],
   "source": []
  }
 ],
 "metadata": {
  "jupytext": {
   "formats": "ipynb,md"
  },
  "kernelspec": {
   "display_name": "Python 3",
   "language": "python",
   "name": "python3"
  }
 },
 "nbformat": 4,
 "nbformat_minor": 5
}

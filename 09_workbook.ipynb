{
 "cells": [
  {
   "cell_type": "markdown",
   "id": "b753d026",
   "metadata": {},
   "source": [
    "# Data Story Telling"
   ]
  },
  {
   "cell_type": "code",
   "execution_count": null,
   "id": "0188ae8f",
   "metadata": {},
   "outputs": [],
   "source": []
  }
 ],
 "metadata": {
  "jupytext": {
   "formats": "ipynb,md"
  },
  "kernelspec": {
   "display_name": "Python 3",
   "language": "python",
   "name": "python3"
  }
 },
 "nbformat": 4,
 "nbformat_minor": 5
}

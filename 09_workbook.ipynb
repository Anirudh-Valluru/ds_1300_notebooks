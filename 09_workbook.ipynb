{
 "cells": [
  {
   "cell_type": "markdown",
   "id": "ec3f220c",
   "metadata": {},
   "source": [
    "# Data Story Telling"
   ]
  },
  {
   "cell_type": "code",
   "execution_count": null,
   "id": "30d06a89",
   "metadata": {},
   "outputs": [],
   "source": []
  }
 ],
 "metadata": {
  "jupytext": {
   "formats": "ipynb,md"
  },
  "kernelspec": {
   "display_name": "Python 3",
   "language": "python",
   "name": "python3"
  }
 },
 "nbformat": 4,
 "nbformat_minor": 5
}

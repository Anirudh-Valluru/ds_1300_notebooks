{
 "cells": [
  {
   "cell_type": "markdown",
   "id": "fd6c95b2",
   "metadata": {},
   "source": [
    "# Data Story Telling"
   ]
  },
  {
   "cell_type": "code",
   "execution_count": null,
   "id": "8ae4d822",
   "metadata": {},
   "outputs": [],
   "source": []
  }
 ],
 "metadata": {
  "jupytext": {
   "formats": "ipynb,md"
  },
  "kernelspec": {
   "display_name": "Python 3",
   "language": "python",
   "name": "python3"
  }
 },
 "nbformat": 4,
 "nbformat_minor": 5
}

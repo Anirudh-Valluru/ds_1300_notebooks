{
 "cells": [
  {
   "cell_type": "markdown",
   "id": "c99498f8",
   "metadata": {},
   "source": [
    "# Working with Data"
   ]
  },
  {
   "cell_type": "markdown",
   "id": "9754b3a2",
   "metadata": {},
   "source": [
    "By: Dr. Eric Godat and Dr. Rob Kalescky "
   ]
  },
  {
   "cell_type": "markdown",
   "id": "4737a434",
   "metadata": {},
   "source": [
    "As implied by the name, a Data Scientist needs to be able to work with data. However, what consitutes data can vary wildly depending on the project you're working on.\n",
    "\n",
    "In this notebook, we will dive into a few common types of data and some of the common pitfalls you'll encounter."
   ]
  },
  {
   "cell_type": "code",
   "execution_count": null,
   "id": "34e6244e",
   "metadata": {},
   "outputs": [],
   "source": [
    "import pandas as pd"
   ]
  },
  {
   "cell_type": "markdown",
   "id": "3182c5e3",
   "metadata": {},
   "source": [
    "## Loading Data into Python"
   ]
  },
  {
   "cell_type": "markdown",
   "id": "a7150e14",
   "metadata": {},
   "source": [
    "The first step is getting data into python. While you could type the data into a dictionary, list, or other data format, that quickly becomes unsustainable. Fortunately there are several ways to load our data directly. "
   ]
  },
  {
   "cell_type": "markdown",
   "id": "d0ab7b7b",
   "metadata": {},
   "source": [
    "### From csv"
   ]
  },
  {
   "cell_type": "markdown",
   "id": "a2888439",
   "metadata": {},
   "source": [
    "The easiest way to load data is to use pandas to [read a csv](https://pandas.pydata.org/docs/reference/api/pandas.read_csv.html) (comma separated values) file into a data frame. This also works with other deliminators (things that split your data fields) too."
   ]
  },
  {
   "cell_type": "code",
   "execution_count": null,
   "id": "304b09d8",
   "metadata": {},
   "outputs": [],
   "source": [
    "df = pd.read_csv(\"../data/sample_data.csv\") # This means that our data lives one level up (..) and in a directory named data\n",
    "df"
   ]
  },
  {
   "cell_type": "markdown",
   "id": "6aad968a",
   "metadata": {},
   "source": [
    "## Numbers as Data"
   ]
  },
  {
   "cell_type": "markdown",
   "id": "d6414edc",
   "metadata": {},
   "source": [
    "The most classic example of data (and the one most people think of when you say data) is numerical data.\n",
    "\n",
    "Using the data we just loaded. Let's ask a question and work towards a solution.\n",
    "\n",
    "Before we start, let's look at two neat tricks that will come in handy as we explore our data."
   ]
  },
  {
   "cell_type": "code",
   "execution_count": null,
   "id": "997d3516",
   "metadata": {},
   "outputs": [],
   "source": [
    "# Trick 1: Getting a list of columns names\n",
    "df.columns"
   ]
  },
  {
   "cell_type": "code",
   "execution_count": null,
   "id": "2447649b",
   "metadata": {},
   "outputs": [],
   "source": [
    "# Trick 2: Slicing multiple columns\n",
    "df[['Property','bedrooms','bathrooms']] # Rember that a single [] will give us a single column. Using [[]] lets us select multiple columns"
   ]
  },
  {
   "cell_type": "code",
   "execution_count": null,
   "id": "9a296baa",
   "metadata": {},
   "outputs": [],
   "source": [
    "# Trick 3: Only showing a few lines\n",
    "df.head(3)"
   ]
  },
  {
   "cell_type": "code",
   "execution_count": null,
   "id": "3b271504",
   "metadata": {},
   "outputs": [],
   "source": [
    "df.tail(3)"
   ]
  },
  {
   "cell_type": "markdown",
   "id": "e4e8f252",
   "metadata": {},
   "source": [
    "### Question 1) Which property increased in value the most from price 1 to price 3?\n",
    "\n",
    "Let's assume that our data means price in year 1, year 2, year 3. This is a guess we have to make because we don't know much about where this data comes from.\n"
   ]
  },
  {
   "cell_type": "markdown",
   "id": "d09dee99",
   "metadata": {},
   "source": [
    "Now that we have a little less to look at, we want to make a column with the increase in price."
   ]
  },
  {
   "cell_type": "code",
   "execution_count": null,
   "id": "45ae3dc5",
   "metadata": {},
   "outputs": [],
   "source": [
    "df['increase'] = df['price_3']-df['price_1'] #operation on 2 columns, saving to a new column"
   ]
  },
  {
   "cell_type": "code",
   "execution_count": null,
   "id": "273afb73",
   "metadata": {},
   "outputs": [],
   "source": [
    "df"
   ]
  },
  {
   "cell_type": "code",
   "execution_count": null,
   "id": "39cff61f",
   "metadata": {},
   "outputs": [],
   "source": [
    "df.sort_values(by='increase',ascending=False) #Sort values by the column 'increase', we want the largest values at the top so ascending needs to be false"
   ]
  },
  {
   "cell_type": "markdown",
   "id": "d21f96bc",
   "metadata": {},
   "source": [
    "Answer 1) Property F has increased the most in value"
   ]
  },
  {
   "cell_type": "markdown",
   "id": "88feee5e",
   "metadata": {},
   "source": [
    "### Question 2) Which property is the best price (year_3) per square foot (sqft)?"
   ]
  },
  {
   "cell_type": "code",
   "execution_count": null,
   "id": "8a01ec00",
   "metadata": {},
   "outputs": [],
   "source": [
    "df['p/sqft']=df['price_3']/df['sqft']"
   ]
  },
  {
   "cell_type": "code",
   "execution_count": null,
   "id": "3ae2a90b",
   "metadata": {},
   "outputs": [],
   "source": [
    "df.sort_values(by='p/sqft',ascending=False)"
   ]
  },
  {
   "cell_type": "markdown",
   "id": "b7ddef9d",
   "metadata": {},
   "source": [
    "Answer 2) Property C has the best price per square foot"
   ]
  },
  {
   "cell_type": "markdown",
   "id": "757fab67",
   "metadata": {},
   "source": [
    "### Question 3) I'm in the market for a house that has more than 3 bedrooms and more than 2 bathrooms, what are my options?"
   ]
  },
  {
   "cell_type": "code",
   "execution_count": null,
   "id": "d5d61766",
   "metadata": {},
   "outputs": [],
   "source": [
    "df[(df['bedrooms']>3)&(df['bathrooms']>2)]"
   ]
  },
  {
   "cell_type": "markdown",
   "id": "2eafcfac",
   "metadata": {},
   "source": [
    "Answer 3) B or C are good options for what I'm looking for"
   ]
  },
  {
   "cell_type": "markdown",
   "id": "3f96b69a",
   "metadata": {},
   "source": [
    "### Question 4) I'm a relator and trying to write a formula for the best house to show my clients. I want to show them the place with high bed/bath/sqft with a low price but consistent growth. How could I make that determination?"
   ]
  },
  {
   "cell_type": "markdown",
   "id": "54f3b7b8",
   "metadata": {},
   "source": [
    "Let's break this one down into smaller pieces. I need to:\n",
    "- Combine bedrooms, bathrooms, and sqft into a single number (larger is better)\n",
    "- Factor in price (smaller is better)\n",
    "- Consistent growth, maybe this could be an average of price_1 -> price_2 and price_2 -> price_3 ? Maybe we need to think about this one.\n",
    "- Combine all of this into a single score\n",
    "- Finally sort and cut the results down for the client"
   ]
  },
  {
   "cell_type": "code",
   "execution_count": null,
   "id": "38435647",
   "metadata": {},
   "outputs": [],
   "source": [
    "df['bbsqft'] = (df['bedrooms']+df['bathrooms'])*df['sqft']"
   ]
  },
  {
   "cell_type": "code",
   "execution_count": null,
   "id": "1e02adce",
   "metadata": {},
   "outputs": [],
   "source": [
    "df['bbsqft/p3'] = df['bbsqft']/df['price_3']"
   ]
  },
  {
   "cell_type": "code",
   "execution_count": null,
   "id": "8ffafe38",
   "metadata": {},
   "outputs": [],
   "source": [
    "df['p2-p1'] = df['price_2']-df['price_1']"
   ]
  },
  {
   "cell_type": "code",
   "execution_count": null,
   "id": "55733e87",
   "metadata": {},
   "outputs": [],
   "source": [
    "df['p3-p2'] = df['price_3']-df['price_2']"
   ]
  },
  {
   "cell_type": "code",
   "execution_count": null,
   "id": "3d1c0c8b",
   "metadata": {},
   "outputs": [],
   "source": [
    "df['growth_1'] = (df['p3-p2']+df['p2-p1'])/2"
   ]
  },
  {
   "cell_type": "code",
   "execution_count": null,
   "id": "0fe8c871",
   "metadata": {},
   "outputs": [],
   "source": [
    "#This gives us a boolean column. Booleans can act like 1 (True) and 0 (False) if we want to use them in calculations\n",
    "df['growth_2'] = df['p3-p2']>=df['p2-p1']\n",
    "#This will let us zero out scores that don't meet our criteria"
   ]
  },
  {
   "cell_type": "code",
   "execution_count": null,
   "id": "90c2e9ec",
   "metadata": {},
   "outputs": [],
   "source": [
    "df['score'] = 100*df['bbsqft/p3']*df['growth_1']*df['growth_2'] # Added a scaling factor to make the numbers easier"
   ]
  },
  {
   "cell_type": "code",
   "execution_count": null,
   "id": "dd6cb46c",
   "metadata": {},
   "outputs": [],
   "source": [
    "df[['Property','price_3','bedrooms','bathrooms','score']].sort_values(by='score',ascending=False)"
   ]
  },
  {
   "cell_type": "markdown",
   "id": "4c6a4427",
   "metadata": {},
   "source": [
    "If I find out later that my client has a budget of 600, can I adapt my data to only show them those?"
   ]
  },
  {
   "cell_type": "code",
   "execution_count": null,
   "id": "caa522f6",
   "metadata": {},
   "outputs": [],
   "source": [
    "df[df['price_3']<600]"
   ]
  },
  {
   "cell_type": "code",
   "execution_count": null,
   "id": "17fddf86",
   "metadata": {},
   "outputs": [],
   "source": [
    "df[df['price_3']<600][['Property','price_3','bedrooms','bathrooms','score']].sort_values(by='score',ascending=False)"
   ]
  },
  {
   "cell_type": "markdown",
   "id": "96ef28da",
   "metadata": {},
   "source": [
    "Looks like I should start by showing my client property A\n",
    "\n",
    "**Is this the only way I could do this? What could we change?**"
   ]
  },
  {
   "cell_type": "markdown",
   "id": "b5dcdd81",
   "metadata": {},
   "source": [
    "## Text as Data"
   ]
  },
  {
   "cell_type": "markdown",
   "id": "870fde18",
   "metadata": {},
   "source": [
    "A type of data that has become especially popular and powerful to investigate is text. Turns out there is a lot that we can learn by looking at what we write down. We'll spend more time working with text later in the class but for now, we'll just load the data and do some basic parsing."
   ]
  },
  {
   "cell_type": "code",
   "execution_count": null,
   "id": "ba5ff887",
   "metadata": {},
   "outputs": [],
   "source": [
    "df = pd.read_csv(\"../data/folktales.csv\")"
   ]
  },
  {
   "cell_type": "code",
   "execution_count": null,
   "id": "2271d900",
   "metadata": {},
   "outputs": [],
   "source": [
    "df"
   ]
  },
  {
   "cell_type": "markdown",
   "id": "54c59414",
   "metadata": {},
   "source": [
    "### Question 1) What countries do we have stories from?"
   ]
  },
  {
   "cell_type": "code",
   "execution_count": null,
   "id": "2a6cab16",
   "metadata": {},
   "outputs": [],
   "source": [
    "df['Country of Origin'].values"
   ]
  },
  {
   "cell_type": "code",
   "execution_count": null,
   "id": "55f92b80",
   "metadata": {},
   "outputs": [],
   "source": [
    "# How about a more compressed list\n",
    "df['Country of Origin'].value_counts()"
   ]
  },
  {
   "cell_type": "markdown",
   "id": "1366eec1",
   "metadata": {},
   "source": [
    "### Question 2) What fraction of my stories were written by the Brothers Grimm?"
   ]
  },
  {
   "cell_type": "code",
   "execution_count": null,
   "id": "4e9469db",
   "metadata": {},
   "outputs": [],
   "source": [
    "total_stories = len(df)\n",
    "total_stories"
   ]
  },
  {
   "cell_type": "code",
   "execution_count": null,
   "id": "e87370e4",
   "metadata": {},
   "outputs": [],
   "source": [
    "grimm = len(df[(df['Author'].str.contains('Grimm'))==True])\n",
    "grimm"
   ]
  },
  {
   "cell_type": "code",
   "execution_count": null,
   "id": "8e49b1e0",
   "metadata": {},
   "outputs": [],
   "source": [
    "grimm/total_stories"
   ]
  },
  {
   "cell_type": "markdown",
   "id": "0ef6e018",
   "metadata": {},
   "source": [
    "### Question 3) How many titles contain animals?"
   ]
  },
  {
   "cell_type": "markdown",
   "id": "87c4dd9e",
   "metadata": {},
   "source": [
    "How would I even do this?"
   ]
  },
  {
   "cell_type": "code",
   "execution_count": null,
   "id": "7db245f1",
   "metadata": {},
   "outputs": [],
   "source": [
    "df['Title'].str.contains('animals').value_counts()"
   ]
  },
  {
   "cell_type": "markdown",
   "id": "53d7369d",
   "metadata": {},
   "source": [
    "That clearly doesn't seem like what the question is asking... Maybe this isn't something we can answer. Why not? What would we need to answer this question?"
   ]
  },
  {
   "cell_type": "markdown",
   "id": "2ecd0d7e",
   "metadata": {},
   "source": [
    "## People as Data"
   ]
  },
  {
   "cell_type": "markdown",
   "id": "0eacc007",
   "metadata": {},
   "source": [
    "Another common type of data set is personal information. Just think of every sign up sheet, grade book, or class roster. One major problem with personal data is that people generally don't fit into clean data \"boxes\"."
   ]
  },
  {
   "cell_type": "code",
   "execution_count": null,
   "id": "77c06be2",
   "metadata": {},
   "outputs": [],
   "source": [
    "messy = pd.read_csv(\"../data/messy_data.csv\",delimiter=\";\")\n",
    "messy"
   ]
  },
  {
   "cell_type": "markdown",
   "id": "b18c1b45",
   "metadata": {},
   "source": [
    "Let's just look at this data. How many data issues can you find that would hinder an analysis? How would you handle it?"
   ]
  },
  {
   "cell_type": "markdown",
   "id": "0f623d37",
   "metadata": {},
   "source": [
    "## Tricks for messy data"
   ]
  },
  {
   "cell_type": "markdown",
   "id": "2b64ae4b",
   "metadata": {},
   "source": [
    "#### Names"
   ]
  },
  {
   "cell_type": "markdown",
   "id": "8bd18707",
   "metadata": {},
   "source": [
    "One common problem is that names tend to be really bad ways to identify people. Why is that?\n",
    "\n",
    "A solution to this is to use something called a unique identifier (think your SMU ID number). A unique identifier can be used instead of a name because it will have a standard format and generally can be used to link an individual across multiple data sets. If used properly it can also be a good way to de-identify individuals."
   ]
  },
  {
   "cell_type": "code",
   "execution_count": null,
   "id": "8db4a510",
   "metadata": {},
   "outputs": [],
   "source": [
    "import random\n",
    "messy['uID'] = [str(random.randint(0,1000)).zfill(4) for i in range(len(messy))]\n",
    "messy"
   ]
  },
  {
   "cell_type": "markdown",
   "id": "2b9dc0f8",
   "metadata": {},
   "source": [
    "There is a lot to unpack with what we did there, let's break that down:\n",
    "\n",
    "- First we're generating a list using a single line for loop\n",
    "- Our loop is over the elements in the range that goes from 0 to the length of our data frame - effectively saying make the list the same length as our dataframe\n",
    "- Then our loop generates a random integer from 0 to 1000 but we needed to import python's random number generator to do that for us\n",
    "- Then we want to convert our random integer to a string. We wouldn't want to accidentally do math with our unique ID numbers\n",
    "- We want to make sure our IDs are all the same length using zfill to add 0s to the front of our string. This is common for numbers like this. Just think of your credit card number, social security number, SMU ID....\n",
    "- Lastly, we assign our list to the new column in our dataframe 'uID'"
   ]
  },
  {
   "cell_type": "code",
   "execution_count": null,
   "id": "1cfc58df",
   "metadata": {},
   "outputs": [],
   "source": [
    "# The same code but unpacked\n",
    "import random\n",
    "\n",
    "ll = [] #initialize an empty list\n",
    "length = len(messy)\n",
    "for i in range(0,length):\n",
    "    r = random.randint(0,1000)\n",
    "    s = str(r)\n",
    "    s4 = s.zfill(4)\n",
    "    ll.append(s4) # This lets us add elements to a list\n",
    "messy['uID']=ll\n",
    "messy"
   ]
  },
  {
   "cell_type": "markdown",
   "id": "76ed4317",
   "metadata": {},
   "source": [
    "#### Dates"
   ]
  },
  {
   "cell_type": "markdown",
   "id": "c4250a34",
   "metadata": {},
   "source": [
    "Another common issue is that there are lots of formats for dates and times. This isn't just an issue with personal data but is one that can cause huge headaches when working with data sets. Even asking simple questions can become complicated when working with dates if you aren't sure of the formatting.\n",
    "\n",
    "Think about all the steps your brain makes if I ask you what the date was 3 weeks ago?"
   ]
  },
  {
   "cell_type": "markdown",
   "id": "81e55f62",
   "metadata": {},
   "source": [
    "Somewhat incredibly, pandas can actually recognize several forms of dates and guess what the date formats are and convert them to a standardize format using the function [to_datetime](https://pandas.pydata.org/docs/reference/api/pandas.to_datetime.html?highlight=to_datetime#pandas.to_datetime)."
   ]
  },
  {
   "cell_type": "code",
   "execution_count": null,
   "id": "9e85a7a2",
   "metadata": {},
   "outputs": [],
   "source": [
    "messy['Date_Fixed'] = pd.to_datetime(messy['Air_Date'],errors='raise')\n",
    "messy[['Air_Date','Date_Fixed']]"
   ]
  },
  {
   "cell_type": "markdown",
   "id": "bd974a2f",
   "metadata": {},
   "source": [
    "#### Missing Values"
   ]
  },
  {
   "cell_type": "markdown",
   "id": "2346470a",
   "metadata": {},
   "source": [
    "Another problem we can encounter is missing data. This happens all the time with \"wild data\" and can happen for numerous reasons, for example:\n",
    "- no data should exist for a reason\n",
    "- an error in the data creation\n",
    "- an operation induced the missing data\n",
    "\n",
    "Pandas has a simple function to handle this called [fillna](https://pandas.pydata.org/docs/reference/api/pandas.DataFrame.fillna.html)."
   ]
  },
  {
   "cell_type": "code",
   "execution_count": null,
   "id": "8e92b9d3",
   "metadata": {},
   "outputs": [],
   "source": [
    "messy = messy.fillna('No Data Available') #Note this will change our data\n",
    "messy"
   ]
  },
  {
   "cell_type": "markdown",
   "id": "36df668b",
   "metadata": {},
   "source": [
    "#### Case Sensitivity"
   ]
  },
  {
   "cell_type": "markdown",
   "id": "3c8c7d5d",
   "metadata": {},
   "source": [
    "Another common issue with dealing with messy data is case sensitivity. Since python sees 'A' and 'a' as two different characters, it is important to be aware of case sensitivity. The easiest way to do this is to send all the characters in a particular column to a single case pattern. Fortunately, pandas has a family of functions to do that for us. [lower](https://pandas.pydata.org/docs/reference/api/pandas.Series.str.lower.html?highlight=lower#pandas.Series.str.lower) is a good example."
   ]
  },
  {
   "cell_type": "code",
   "execution_count": null,
   "id": "621b9ea6",
   "metadata": {},
   "outputs": [],
   "source": [
    "messy['Ship'] = messy['Ship'].str.lower()\n",
    "messy"
   ]
  },
  {
   "cell_type": "markdown",
   "id": "9c1e08fa",
   "metadata": {},
   "source": [
    "That might not actually be what we want but at least we can compare the values now."
   ]
  },
  {
   "cell_type": "code",
   "execution_count": null,
   "id": "b4e78567",
   "metadata": {},
   "outputs": [],
   "source": [
    "messy['Ship'].value_counts()"
   ]
  },
  {
   "cell_type": "markdown",
   "id": "bf92ddfb",
   "metadata": {},
   "source": [
    "### Wrap Up"
   ]
  },
  {
   "cell_type": "markdown",
   "id": "746aa7d4",
   "metadata": {},
   "source": [
    "Let's look at our messy data before:"
   ]
  },
  {
   "cell_type": "code",
   "execution_count": null,
   "id": "32985bdb",
   "metadata": {},
   "outputs": [],
   "source": [
    "before = pd.read_csv(\"../data/messy_data.csv\",delimiter=\";\")\n",
    "before"
   ]
  },
  {
   "cell_type": "markdown",
   "id": "04f23ff9",
   "metadata": {},
   "source": [
    "and after:"
   ]
  },
  {
   "cell_type": "code",
   "execution_count": null,
   "id": "17ae6872",
   "metadata": {},
   "outputs": [],
   "source": [
    "messy"
   ]
  },
  {
   "cell_type": "markdown",
   "id": "e4a7ac20",
   "metadata": {},
   "source": [
    "What were we able to fix? What else could we do?"
   ]
  },
  {
   "cell_type": "code",
   "execution_count": null,
   "id": "f46dca37",
   "metadata": {},
   "outputs": [],
   "source": []
  }
 ],
 "metadata": {
  "jupytext": {
   "formats": "ipynb"
  },
  "kernelspec": {
   "display_name": "Python 3",
   "language": "python",
   "name": "python3"
  }
 },
 "nbformat": 4,
 "nbformat_minor": 5
}

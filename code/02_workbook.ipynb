{
 "cells": [
  {
   "cell_type": "markdown",
   "id": "214aa00f",
   "metadata": {},
   "source": [
    "# Working with Data"
   ]
  },
  {
   "cell_type": "markdown",
   "id": "76e035ff",
   "metadata": {},
   "source": [
    "By: Dr. Eric Godat and Dr. Rob Kalescky "
   ]
  },
  {
   "cell_type": "markdown",
   "id": "3df0694c",
   "metadata": {},
   "source": [
    "As implied by the name, a Data Scientist needs to be able to work with data. However, what consitutes data can vary wildly depending on the project you're working on.\n",
    "\n",
    "In this notebook, we will dive into a few common types of data and some of the common pitfalls you'll encounter."
   ]
  },
  {
   "cell_type": "code",
   "execution_count": null,
   "id": "5e2e9622",
   "metadata": {},
   "outputs": [],
   "source": [
    "import pandas as pd"
   ]
  },
  {
   "cell_type": "markdown",
   "id": "8d3452f4",
   "metadata": {},
   "source": [
    "## Loading Data into Python"
   ]
  },
  {
   "cell_type": "markdown",
   "id": "0d656bfa",
   "metadata": {},
   "source": [
    "The first step is getting data into python. While you could type the data into a dictionary, list, or other data format, that quickly becomes unsustainable. Fortunately there are several ways to load our data directly. "
   ]
  },
  {
   "cell_type": "markdown",
   "id": "307b532c",
   "metadata": {},
   "source": [
    "### From csv"
   ]
  },
  {
   "cell_type": "markdown",
   "id": "5bb6c7d7",
   "metadata": {},
   "source": [
    "The easiest way to load data is to use pandas to [read a csv](https://pandas.pydata.org/docs/reference/api/pandas.read_csv.html) (comma separated values) file into a data frame. This also works with other deliminators (things that split your data fields) too."
   ]
  },
  {
   "cell_type": "code",
   "execution_count": null,
   "id": "f30d4204",
   "metadata": {},
   "outputs": [],
   "source": [
    "df = pd.read_csv(\"../data/sample_data.csv\") # This means that our data lives one level up (..) and in a directory named data\n",
    "df"
   ]
  },
  {
   "cell_type": "markdown",
   "id": "3e7c0bab",
   "metadata": {},
   "source": [
    "## Numbers as Data"
   ]
  },
  {
   "cell_type": "markdown",
   "id": "a0dac2d5",
   "metadata": {},
   "source": [
    "The most classic example of data (and the one most people think of when you say data) is numerical data.\n",
    "\n",
    "Using the data we just loaded. Let's ask a question and work towards a solution.\n",
    "\n",
    "Before we start, let's look at two neat tricks that will come in handy as we explore our data."
   ]
  },
  {
   "cell_type": "code",
   "execution_count": null,
   "id": "55c8594a",
   "metadata": {},
   "outputs": [],
   "source": [
    "# Trick 1: Getting a list of columns names\n",
    "df.columns"
   ]
  },
  {
   "cell_type": "code",
   "execution_count": null,
   "id": "da505c5a",
   "metadata": {},
   "outputs": [],
   "source": [
    "# Trick 2: Slicing multiple columns\n",
    "df[['Property','bedrooms','bathrooms']] # Rember that a single [] will give us a single column. Using [[]] lets us select multiple columns"
   ]
  },
  {
   "cell_type": "code",
   "execution_count": null,
   "id": "3366a32d",
   "metadata": {},
   "outputs": [],
   "source": [
    "# Trick 3: Only showing a few lines\n",
    "df.head(3)"
   ]
  },
  {
   "cell_type": "code",
   "execution_count": null,
   "id": "b36b8eda",
   "metadata": {},
   "outputs": [],
   "source": [
    "df.tail(3)"
   ]
  },
  {
   "cell_type": "markdown",
   "id": "0b6de47a",
   "metadata": {},
   "source": [
    "### Question 1) Which property increased in value the most from price 1 to price 3?\n",
    "\n",
    "Let's assume that our data means price in year 1, year 2, year 3. This is a guess we have to make because we don't know much about where this data comes from.\n"
   ]
  },
  {
   "cell_type": "markdown",
   "id": "6d7fd6fe",
   "metadata": {},
   "source": [
    "Now that we have a little less to look at, we want to make a column with the increase in price."
   ]
  },
  {
   "cell_type": "code",
   "execution_count": null,
   "id": "2f2f52d3",
   "metadata": {},
   "outputs": [],
   "source": [
    "df['increase'] = df['price_3']-df['price_1'] #operation on 2 columns, saving to a new column"
   ]
  },
  {
   "cell_type": "code",
   "execution_count": null,
   "id": "8c2d3ff8",
   "metadata": {},
   "outputs": [],
   "source": [
    "df"
   ]
  },
  {
   "cell_type": "code",
   "execution_count": null,
   "id": "2331f33e",
   "metadata": {},
   "outputs": [],
   "source": [
    "df.sort_values(by='increase',ascending=False) #Sort values by the column 'increase', we want the largest values at the top so ascending needs to be false"
   ]
  },
  {
   "cell_type": "markdown",
   "id": "d366fb5e",
   "metadata": {},
   "source": [
    "Answer 1) Property F has increased the most in value"
   ]
  },
  {
   "cell_type": "markdown",
   "id": "310aaac2",
   "metadata": {},
   "source": [
    "### Question 2) Which property is the best price (year_3) per square foot (sqft)?"
   ]
  },
  {
   "cell_type": "code",
   "execution_count": null,
   "id": "79963995",
   "metadata": {},
   "outputs": [],
   "source": [
    "df['p/sqft']=df['price_3']/df['sqft']"
   ]
  },
  {
   "cell_type": "code",
   "execution_count": null,
   "id": "99bff4fc",
   "metadata": {},
   "outputs": [],
   "source": [
    "df.sort_values(by='p/sqft',ascending=False)"
   ]
  },
  {
   "cell_type": "markdown",
   "id": "15c45007",
   "metadata": {},
   "source": [
    "Answer 2) Property C has the best price per square foot"
   ]
  },
  {
   "cell_type": "markdown",
   "id": "696e51b3",
   "metadata": {},
   "source": [
    "### Question 3) I'm in the market for a house that has more than 3 bedrooms and more than 2 bathrooms, what are my options?"
   ]
  },
  {
   "cell_type": "code",
   "execution_count": null,
   "id": "801aedbf",
   "metadata": {},
   "outputs": [],
   "source": [
    "df[(df['bedrooms']>3)&(df['bathrooms']>2)]"
   ]
  },
  {
   "cell_type": "markdown",
   "id": "49bbf656",
   "metadata": {},
   "source": [
    "Answer 3) B or C are good options for what I'm looking for"
   ]
  },
  {
   "cell_type": "markdown",
   "id": "002b5b78",
   "metadata": {},
   "source": [
    "### Question 4) I'm a relator and trying to write a formula for the best house to show my clients. I want to show them the place with high bed/bath/sqft with a low price but consistent growth. How could I make that determination?"
   ]
  },
  {
   "cell_type": "markdown",
   "id": "6a46fcbe",
   "metadata": {},
   "source": [
    "Let's break this one down into smaller pieces. I need to:\n",
    "- Combine bedrooms, bathrooms, and sqft into a single number (larger is better)\n",
    "- Factor in price (smaller is better)\n",
    "- Consistent growth, maybe this could be an average of price_1 -> price_2 and price_2 -> price_3 ? Maybe we need to think about this one.\n",
    "- Combine all of this into a single score\n",
    "- Finally sort and cut the results down for the client"
   ]
  },
  {
   "cell_type": "code",
   "execution_count": null,
   "id": "eef15c8f",
   "metadata": {},
   "outputs": [],
   "source": [
    "df['bbsqft'] = (df['bedrooms']+df['bathrooms'])*df['sqft']"
   ]
  },
  {
   "cell_type": "code",
   "execution_count": null,
   "id": "78f2a5ca",
   "metadata": {},
   "outputs": [],
   "source": [
    "df['bbsqft/p3'] = df['bbsqft']/df['price_3']"
   ]
  },
  {
   "cell_type": "code",
   "execution_count": null,
   "id": "0da2d2b1",
   "metadata": {},
   "outputs": [],
   "source": [
    "df['p2-p1'] = df['price_2']-df['price_1']"
   ]
  },
  {
   "cell_type": "code",
   "execution_count": null,
   "id": "b01521f5",
   "metadata": {},
   "outputs": [],
   "source": [
    "df['p3-p2'] = df['price_3']-df['price_2']"
   ]
  },
  {
   "cell_type": "code",
   "execution_count": null,
   "id": "1d75203c",
   "metadata": {},
   "outputs": [],
   "source": [
    "df['growth_1'] = (df['p3-p2']+df['p2-p1'])/2"
   ]
  },
  {
   "cell_type": "code",
   "execution_count": null,
   "id": "3ad4765e",
   "metadata": {},
   "outputs": [],
   "source": [
    "#This gives us a boolean column. Booleans can act like 1 (True) and 0 (False) if we want to use them in calculations\n",
    "df['growth_2'] = df['p3-p2']>=df['p2-p1']\n",
    "#This will let us zero out scores that don't meet our criteria"
   ]
  },
  {
   "cell_type": "code",
   "execution_count": null,
   "id": "e690bde3",
   "metadata": {},
   "outputs": [],
   "source": [
    "df['score'] = 100*df['bbsqft/p3']*df['growth_1']*df['growth_2'] # Added a scaling factor to make the numbers easier"
   ]
  },
  {
   "cell_type": "code",
   "execution_count": null,
   "id": "7400218e",
   "metadata": {},
   "outputs": [],
   "source": [
    "df[['Property','price_3','bedrooms','bathrooms','score']].sort_values(by='score',ascending=False)"
   ]
  },
  {
   "cell_type": "markdown",
   "id": "521df358",
   "metadata": {},
   "source": [
    "If I find out later that my client has a budget of 600, can I adapt my data to only show them those?"
   ]
  },
  {
   "cell_type": "code",
   "execution_count": null,
   "id": "03aef99d",
   "metadata": {},
   "outputs": [],
   "source": [
    "df[df['price_3']<600]"
   ]
  },
  {
   "cell_type": "code",
   "execution_count": null,
   "id": "cba71566",
   "metadata": {},
   "outputs": [],
   "source": [
    "df[df['price_3']<600][['Property','price_3','bedrooms','bathrooms','score']].sort_values(by='score',ascending=False)"
   ]
  },
  {
   "cell_type": "markdown",
   "id": "9ebafc3f",
   "metadata": {},
   "source": [
    "Looks like I should start by showing my client property A\n",
    "\n",
    "**Is this the only way I could do this? What could we change?**"
   ]
  },
  {
   "cell_type": "markdown",
   "id": "40613b80",
   "metadata": {},
   "source": [
    "## Text as Data"
   ]
  },
  {
   "cell_type": "markdown",
   "id": "6782aa75",
   "metadata": {},
   "source": [
    "A type of data that has become especially popular and powerful to investigate is text. Turns out there is a lot that we can learn by looking at what we write down. We'll spend more time working with text later in the class but for now, we'll just load the data and do some basic parsing."
   ]
  },
  {
   "cell_type": "code",
   "execution_count": null,
   "id": "38d02e49",
   "metadata": {},
   "outputs": [],
   "source": [
    "df = pd.read_csv(\"../data/folktales.csv\")"
   ]
  },
  {
   "cell_type": "code",
   "execution_count": null,
   "id": "1002baa5",
   "metadata": {},
   "outputs": [],
   "source": [
    "df"
   ]
  },
  {
   "cell_type": "markdown",
   "id": "1b7aa739",
   "metadata": {},
   "source": [
    "### Question 1) What countries do we have stories from?"
   ]
  },
  {
   "cell_type": "code",
   "execution_count": null,
   "id": "a0712663",
   "metadata": {},
   "outputs": [],
   "source": [
    "df['Country of Origin'].values"
   ]
  },
  {
   "cell_type": "code",
   "execution_count": null,
   "id": "5f393ab6",
   "metadata": {},
   "outputs": [],
   "source": [
    "# How about a more compressed list\n",
    "df['Country of Origin'].value_counts()"
   ]
  },
  {
   "cell_type": "markdown",
   "id": "79a290a6",
   "metadata": {},
   "source": [
    "### Question 2) What fraction of my stories were written by the Brothers Grimm?"
   ]
  },
  {
   "cell_type": "code",
   "execution_count": null,
   "id": "57ff15d3",
   "metadata": {},
   "outputs": [],
   "source": [
    "total_stories = len(df)\n",
    "total_stories"
   ]
  },
  {
   "cell_type": "code",
   "execution_count": null,
   "id": "d89f6acd",
   "metadata": {},
   "outputs": [],
   "source": [
    "grimm = len(df[(df['Author'].str.contains('Grimm'))==True])\n",
    "grimm"
   ]
  },
  {
   "cell_type": "code",
   "execution_count": null,
   "id": "570f052d",
   "metadata": {},
   "outputs": [],
   "source": [
    "grimm/total_stories"
   ]
  },
  {
   "cell_type": "markdown",
   "id": "e6c87f08",
   "metadata": {},
   "source": [
    "### Question 3) How many titles contain animals?"
   ]
  },
  {
   "cell_type": "markdown",
   "id": "d1a9358c",
   "metadata": {},
   "source": [
    "How would I even do this?"
   ]
  },
  {
   "cell_type": "code",
   "execution_count": null,
   "id": "ff0d8067",
   "metadata": {},
   "outputs": [],
   "source": [
    "df['Title'].str.contains('animals').value_counts()"
   ]
  },
  {
   "cell_type": "markdown",
   "id": "348335f4",
   "metadata": {},
   "source": [
    "That clearly doesn't seem like what the question is asking... Maybe this isn't something we can answer. Why not? What would we need to answer this question?"
   ]
  },
  {
   "cell_type": "markdown",
   "id": "b808f75d",
   "metadata": {},
   "source": [
    "## People as Data"
   ]
  },
  {
   "cell_type": "markdown",
   "id": "56b3577b",
   "metadata": {},
   "source": [
    "Another common type of data set is personal information. Just think of every sign up sheet, grade book, or class roster. One major problem with personal data is that people generally don't fit into clean data \"boxes\"."
   ]
  },
  {
   "cell_type": "code",
   "execution_count": null,
   "id": "84413e05",
   "metadata": {},
   "outputs": [],
   "source": [
    "messy = pd.read_csv(\"../data/messy_data.csv\",delimiter=\";\")\n",
    "messy"
   ]
  },
  {
   "cell_type": "markdown",
   "id": "cce6f60e",
   "metadata": {},
   "source": [
    "Let's just look at this data. How many data issues can you find that would hinder an analysis? How would you handle it?"
   ]
  },
  {
   "cell_type": "markdown",
   "id": "4bc4ed90",
   "metadata": {},
   "source": [
    "## Tricks for messy data"
   ]
  },
  {
   "cell_type": "markdown",
   "id": "b4607237",
   "metadata": {},
   "source": [
    "#### Names"
   ]
  },
  {
   "cell_type": "markdown",
   "id": "b752eb62",
   "metadata": {},
   "source": [
    "One common problem is that names tend to be really bad ways to identify people. Why is that?\n",
    "\n",
    "A solution to this is to use something called a unique identifier (think your SMU ID number). A unique identifier can be used instead of a name because it will have a standard format and generally can be used to link an individual across multiple data sets. If used properly it can also be a good way to de-identify individuals."
   ]
  },
  {
   "cell_type": "code",
   "execution_count": null,
   "id": "28195844",
   "metadata": {},
   "outputs": [],
   "source": [
    "import random\n",
    "messy['uID'] = [str(random.randint(0,1000)).zfill(4) for i in range(len(messy))]\n",
    "messy"
   ]
  },
  {
   "cell_type": "markdown",
   "id": "2aa8c1d2",
   "metadata": {},
   "source": [
    "There is a lot to unpack with what we did there, let's break that down:\n",
    "\n",
    "- First we're generating a list using a single line for loop\n",
    "- Our loop is over the elements in the range that goes from 0 to the length of our data frame - effectively saying make the list the same length as our dataframe\n",
    "- Then our loop generates a random integer from 0 to 1000 but we needed to import python's random number generator to do that for us\n",
    "- Then we want to convert our random integer to a string. We wouldn't want to accidentally do math with our unique ID numbers\n",
    "- We want to make sure our IDs are all the same length using zfill to add 0s to the front of our string. This is common for numbers like this. Just think of your credit card number, social security number, SMU ID....\n",
    "- Lastly, we assign our list to the new column in our dataframe 'uID'"
   ]
  },
  {
   "cell_type": "code",
   "execution_count": null,
   "id": "5021d23d",
   "metadata": {},
   "outputs": [],
   "source": [
    "# The same code but unpacked\n",
    "import random\n",
    "\n",
    "ll = [] #initialize an empty list\n",
    "length = len(messy)\n",
    "for i in range(0,length):\n",
    "    r = random.randint(0,1000)\n",
    "    s = str(r)\n",
    "    s4 = s.zfill(4)\n",
    "    ll.append(s4) # This lets us add elements to a list\n",
    "messy['uID']=ll\n",
    "messy"
   ]
  },
  {
   "cell_type": "markdown",
   "id": "0b61cc77",
   "metadata": {},
   "source": [
    "#### Dates"
   ]
  },
  {
   "cell_type": "markdown",
   "id": "81f6a7a0",
   "metadata": {},
   "source": [
    "Another common issue is that there are lots of formats for dates and times. This isn't just an issue with personal data but is one that can cause huge headaches when working with data sets. Even asking simple questions can become complicated when working with dates if you aren't sure of the formatting.\n",
    "\n",
    "Think about all the steps your brain makes if I ask you what the date was 3 weeks ago?"
   ]
  },
  {
   "cell_type": "markdown",
   "id": "48cee8bf",
   "metadata": {},
   "source": [
    "Somewhat incredibly, pandas can actually recognize several forms of dates and guess what the date formats are and convert them to a standardize format using the function [to_datetime](https://pandas.pydata.org/docs/reference/api/pandas.to_datetime.html?highlight=to_datetime#pandas.to_datetime)."
   ]
  },
  {
   "cell_type": "code",
   "execution_count": null,
   "id": "97600a05",
   "metadata": {},
   "outputs": [],
   "source": [
    "messy['Date_Fixed'] = pd.to_datetime(messy['Air_Date'],errors='raise')\n",
    "messy[['Air_Date','Date_Fixed']]"
   ]
  },
  {
   "cell_type": "markdown",
   "id": "ab3c5d43",
   "metadata": {},
   "source": [
    "#### Missing Values"
   ]
  },
  {
   "cell_type": "markdown",
   "id": "e853ff44",
   "metadata": {},
   "source": [
    "Another problem we can encounter is missing data. This happens all the time with \"wild data\" and can happen for numerous reasons, for example:\n",
    "- no data should exist for a reason\n",
    "- an error in the data creation\n",
    "- an operation induced the missing data\n",
    "\n",
    "Pandas has a simple function to handle this called [fillna](https://pandas.pydata.org/docs/reference/api/pandas.DataFrame.fillna.html)."
   ]
  },
  {
   "cell_type": "code",
   "execution_count": null,
   "id": "0029cdf3",
   "metadata": {},
   "outputs": [],
   "source": [
    "messy = messy.fillna('No Data Available') #Note this will change our data\n",
    "messy"
   ]
  },
  {
   "cell_type": "markdown",
   "id": "06fa3221",
   "metadata": {},
   "source": [
    "#### Case Sensitivity"
   ]
  },
  {
   "cell_type": "markdown",
   "id": "a84a24a5",
   "metadata": {},
   "source": [
    "Another common issue with dealing with messy data is case sensitivity. Since python sees 'A' and 'a' as two different characters, it is important to be aware of case sensitivity. The easiest way to do this is to send all the characters in a particular column to a single case pattern. Fortunately, pandas has a family of functions to do that for us. [lower](https://pandas.pydata.org/docs/reference/api/pandas.Series.str.lower.html?highlight=lower#pandas.Series.str.lower) is a good example."
   ]
  },
  {
   "cell_type": "code",
   "execution_count": null,
   "id": "5dcfece5",
   "metadata": {},
   "outputs": [],
   "source": [
    "messy['Ship'] = messy['Ship'].str.lower()\n",
    "messy"
   ]
  },
  {
   "cell_type": "markdown",
   "id": "2ebced72",
   "metadata": {},
   "source": [
    "That might not actually be what we want but at least we can compare the values now."
   ]
  },
  {
   "cell_type": "code",
   "execution_count": null,
   "id": "70ffc245",
   "metadata": {},
   "outputs": [],
   "source": [
    "messy['Ship'].value_counts()"
   ]
  },
  {
   "cell_type": "markdown",
   "id": "666a8894",
   "metadata": {},
   "source": [
    "### Wrap Up"
   ]
  },
  {
   "cell_type": "markdown",
   "id": "a64ddb62",
   "metadata": {},
   "source": [
    "Let's look at our messy data before:"
   ]
  },
  {
   "cell_type": "code",
   "execution_count": null,
   "id": "eb6119dc",
   "metadata": {},
   "outputs": [],
   "source": [
    "before = pd.read_csv(\"../data/messy_data.csv\",delimiter=\";\")\n",
    "before"
   ]
  },
  {
   "cell_type": "markdown",
   "id": "6529c8a7",
   "metadata": {},
   "source": [
    "and after:"
   ]
  },
  {
   "cell_type": "code",
   "execution_count": null,
   "id": "f6f9eb66",
   "metadata": {},
   "outputs": [],
   "source": [
    "messy"
   ]
  },
  {
   "cell_type": "markdown",
   "id": "b729f15d",
   "metadata": {},
   "source": [
    "What were we able to fix? What else could we do?"
   ]
  },
  {
   "cell_type": "code",
   "execution_count": null,
   "id": "498008f2",
   "metadata": {},
   "outputs": [],
   "source": []
  }
 ],
 "metadata": {
  "jupytext": {
   "formats": "ipynb"
  },
  "kernelspec": {
   "display_name": "Python 3",
   "language": "python",
   "name": "python3"
  }
 },
 "nbformat": 4,
 "nbformat_minor": 5
}

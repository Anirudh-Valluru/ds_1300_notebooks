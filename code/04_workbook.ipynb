{
 "cells": [
  {
   "cell_type": "markdown",
   "id": "e6371105",
   "metadata": {},
   "source": [
    "# Exploring and Cleaning a Data Set\n"
   ]
  },
  {
   "cell_type": "markdown",
   "id": "6a263b40",
   "metadata": {},
   "source": [
    " By: Dr. Eric Godat and Dr. Rob Kalescky\n",
    " \n",
    " Natural Language Toolkit: [Documentation](http://www.nltk.org/)\n",
    " \n",
    " Reference Text: [Natural Language Processing with Python](http://www.nltk.org/book/)\n",
    " "
   ]
  },
  {
   "cell_type": "markdown",
   "id": "47eaddec",
   "metadata": {},
   "source": [
    "## Setup"
   ]
  },
  {
   "cell_type": "markdown",
   "id": "196a5edb",
   "metadata": {},
   "source": [
    "These are the basic libraries we will use in for data manipulation (pandas) and math functions (numpy). We will add more libraries as we need them.\n",
    "\n",
    "As a best practice, it is a good idea to load all your libraries in a single cell at the top of a notebook, however for the purposes of this tutorial we will load them as we go."
   ]
  },
  {
   "cell_type": "code",
   "execution_count": null,
   "id": "5a62143b",
   "metadata": {},
   "outputs": [],
   "source": [
    "import pandas as pd\n",
    "import numpy as np"
   ]
  },
  {
   "cell_type": "markdown",
   "id": "60ba647f",
   "metadata": {},
   "source": [
    "Load a data file into a pandas DataFrame.\n",
    "\n",
    "This tutorial was designed around using sets of data you have yourselves in a form like a CSV, TSV, or TXT file.  Feel free to use any set of data, but for now we will use a dataset created from scraping this [Multilingual Folktale Database](http://www.mftd.org/).\n",
    "\n",
    "This file is a CSV filetype, common for text data, but your data may also be stored as TSV's, TXT's, or other file types.  This will slightly change how you read from Pandas, but the concept is largely the same for the different filetypes.  Just keep this in mind when you see references to CSV.\n",
    "\n",
    "To proceed, you will need to have this file downloaded and in the same folder as this notebook. Alternatively you can put the full path to the file.  Typically, your program will look for the file with the name you specified in the folder that contains your program unless you give the program a path to follow."
   ]
  },
  {
   "cell_type": "code",
   "execution_count": null,
   "id": "86349696",
   "metadata": {},
   "outputs": [],
   "source": [
    "data = pd.read_csv('../data/folktales.csv')\n",
    "data.head()"
   ]
  },
  {
   "cell_type": "markdown",
   "id": "58d9e279",
   "metadata": {},
   "source": [
    "Here we can see all the information available to us from the file in the form of a Pandas DataFrame. For the remainder of this tutorial, we will focus primarily on the full text of each data chunk, which we will name the *Story* column.  With your data set this is likely to be something very different, so feel free to call is something else."
   ]
  },
  {
   "cell_type": "markdown",
   "id": "a3290966",
   "metadata": {},
   "source": [
    "## Counting Words and Characters"
   ]
  },
  {
   "cell_type": "markdown",
   "id": "7e4a8e14",
   "metadata": {},
   "source": [
    "The first bit of analysis we might want to do is to count the number of words in one piece of data. To do this we will add a column called *wordcount* and write an operation that applies a function to every row of the column.\n",
    "\n",
    "Unpacking this piece of code, *len(str(x).split(\" \")*, tells us what is happening.\n",
    "\n",
    "For the content of cell *x*, convert it to a string, *str()*, then split that string into pieces at each space, *split()*.\n",
    "\n",
    "The result of that is a list of all the words in the text and then we can count the length of that list, *len()*."
   ]
  },
  {
   "cell_type": "code",
   "execution_count": null,
   "id": "3d7c34ec",
   "metadata": {},
   "outputs": [],
   "source": [
    "data['wordcount'] = data['Story'].apply(lambda x: len(str(x).split(\" \")))\n",
    "data[['Story','wordcount']].head()"
   ]
  },
  {
   "cell_type": "markdown",
   "id": "dba31d71",
   "metadata": {},
   "source": [
    "We can do something similar to count the number of characters in the data chunk, including spaces. If you wanted to exclude whitespaces, you could take the list we made above, join it together and count the length of the resulting string."
   ]
  },
  {
   "cell_type": "code",
   "execution_count": null,
   "id": "606bf16a",
   "metadata": {},
   "outputs": [],
   "source": [
    "data = data.fillna(\"No Information Provided\") #If some of our data is missing, this will replace the blank entries. This is only necessary in some cases\n"
   ]
  },
  {
   "cell_type": "code",
   "execution_count": null,
   "id": "eeb3c9de",
   "metadata": {},
   "outputs": [],
   "source": [
    "data['char_count'] = data['Story'].str.len() ## this also includes spaces, to do it without spaces, you could use something like this: \"\".join()\n",
    "data[['Story','char_count']].head()"
   ]
  },
  {
   "cell_type": "markdown",
   "id": "4025f9b7",
   "metadata": {},
   "source": [
    "Now we want to calculate the average word length in the data.\n",
    "\n",
    "Let's define a function that will do that for us:"
   ]
  },
  {
   "cell_type": "code",
   "execution_count": null,
   "id": "da17eef6",
   "metadata": {},
   "outputs": [],
   "source": [
    "def avg_word(sentence):\n",
    "    words = sentence.split()\n",
    "    return (sum(len(word) for word in words)/len(words))"
   ]
  },
  {
   "cell_type": "markdown",
   "id": "b9be097e",
   "metadata": {},
   "source": [
    "We can now apply that function to all the data chunks and save that in a new column."
   ]
  },
  {
   "cell_type": "code",
   "execution_count": null,
   "id": "81fa21a0",
   "metadata": {},
   "outputs": [],
   "source": [
    "data['avg_word'] = data['Story'].apply(lambda x: avg_word(x))\n",
    "data[['Story','avg_word']].head()"
   ]
  },
  {
   "cell_type": "markdown",
   "id": "1d8774f6",
   "metadata": {},
   "source": [
    "We can then sort by the average word length."
   ]
  },
  {
   "cell_type": "code",
   "execution_count": null,
   "id": "f625d922",
   "metadata": {},
   "outputs": [],
   "source": [
    "data[['Story','avg_word']].sort_values(by='avg_word', ascending=True).head()"
   ]
  },
  {
   "cell_type": "markdown",
   "id": "f9efa1f6",
   "metadata": {},
   "source": [
    "### Count Stopwords"
   ]
  },
  {
   "cell_type": "markdown",
   "id": "ae620473",
   "metadata": {},
   "source": [
    "Stopwords are words that are commonly used and do little to aid in the understanding of the content of a text. There is no universal list of stopwords and they vary on the style, time period and media from which your text came from.  Typically, people choose to remove stopwords from their data, as it adds extra clutter while the words themselves provide little to no insight as to the nature of the data.  For now, we are simply going to count them to get an idea of how many there are.\n",
    "\n",
    "For this tutorial, we will use the standard list of stopwords provided by the Natural Language Toolkit python library."
   ]
  },
  {
   "cell_type": "code",
   "execution_count": null,
   "id": "cdd4b1e9",
   "metadata": {},
   "outputs": [],
   "source": [
    "import nltk\n",
    "nltk.download('stopwords')"
   ]
  },
  {
   "cell_type": "code",
   "execution_count": null,
   "id": "c5aacd6e",
   "metadata": {},
   "outputs": [],
   "source": [
    "from nltk.corpus import stopwords\n",
    "stop = stopwords.words('english')"
   ]
  },
  {
   "cell_type": "markdown",
   "id": "a3136f88",
   "metadata": {},
   "source": [
    "To count the number of stopwords in a chunk of data, we make a list of all the words in our data that are also in the stopword list. We can then just take the length of that list and store it in a new column"
   ]
  },
  {
   "cell_type": "code",
   "execution_count": null,
   "id": "c350c199",
   "metadata": {},
   "outputs": [],
   "source": [
    "data['stopwords'] = data['Story'].apply(lambda x: len([x for x in x.split() if x in stop]))\n",
    "data[['Story','stopwords','wordcount']].head()"
   ]
  },
  {
   "cell_type": "markdown",
   "id": "bcecdcea",
   "metadata": {},
   "source": [
    "### Other Ways to Count"
   ]
  },
  {
   "cell_type": "markdown",
   "id": "0ef18a3d",
   "metadata": {},
   "source": [
    "There are other types of counting we might want to do. These might be more or less relevant depending on the test you are working with.\n",
    "\n",
    "For completeness, we have put them here but we will skip over them in this tutorial"
   ]
  },
  {
   "cell_type": "markdown",
   "id": "0606094c",
   "metadata": {},
   "source": [
    "#### Counting Special Characters"
   ]
  },
  {
   "cell_type": "markdown",
   "id": "3a83897e",
   "metadata": {},
   "source": [
    "This is really only useful for Twitter or other Internet texts but you could imagine wanting to count quotations or exclamations with something similar."
   ]
  },
  {
   "cell_type": "code",
   "execution_count": null,
   "id": "ce64dd8a",
   "metadata": {},
   "outputs": [],
   "source": [
    "data['special_char'] = data['Story'].apply(lambda x: len([x for x in x.split() if x.startswith('#')]))\n",
    "data[['Story','special_char']].head()"
   ]
  },
  {
   "cell_type": "markdown",
   "id": "69ca2c86",
   "metadata": {},
   "source": [
    "#### Counting Numbers"
   ]
  },
  {
   "cell_type": "markdown",
   "id": "eff3d450",
   "metadata": {},
   "source": [
    "This counts the number of numerical digits in a text, which for strict text may not be helpful, but mostly numerical data will make more use of this."
   ]
  },
  {
   "cell_type": "code",
   "execution_count": null,
   "id": "c11459dc",
   "metadata": {},
   "outputs": [],
   "source": [
    "data['numerics'] = data['Story'].apply(lambda x: len([x for x in x.split() if x.isdigit()]))\n",
    "data[['Story','numerics']].sort_values(by='numerics', ascending=False).head()"
   ]
  },
  {
   "cell_type": "markdown",
   "id": "25b2aac7",
   "metadata": {},
   "source": [
    "#### Counting Uppercase"
   ]
  },
  {
   "cell_type": "markdown",
   "id": "c8149b65",
   "metadata": {},
   "source": [
    "Counting uppercase words could give us an indication of how many sentences or proper nouns are in a text but this is likely too broad to be used to classify either on its own."
   ]
  },
  {
   "cell_type": "code",
   "execution_count": null,
   "id": "b69849a6",
   "metadata": {},
   "outputs": [],
   "source": [
    "data['upper'] = data['Story'].apply(lambda x: len([x for x in x.split() if x.isupper()]))\n",
    "data[['Story','upper']].head()"
   ]
  },
  {
   "cell_type": "markdown",
   "id": "c4a1af53",
   "metadata": {},
   "source": [
    "# Processing Text"
   ]
  },
  {
   "cell_type": "markdown",
   "id": "6956d739",
   "metadata": {},
   "source": [
    "A major component of doing analysis on text is the cleaning of the text prior to the analysis.\n",
    "\n",
    "Though this process destroys some elements of the text (sentence structure, for example), it is often necessary in order to describe a text analytically. Depending on your choice of cleaning techniques, some elements might be preserved better than others if that is of importance to your analysis."
   ]
  },
  {
   "cell_type": "markdown",
   "id": "06ce1493",
   "metadata": {},
   "source": [
    "## Cleaning Up Words"
   ]
  },
  {
   "cell_type": "markdown",
   "id": "2a9187ed",
   "metadata": {},
   "source": [
    "This series of steps aims to clean up and standardize the text itself. This generally consists of removing common elements such as stopwords and punctuation but can be expanded to more detailed removals."
   ]
  },
  {
   "cell_type": "markdown",
   "id": "66f9751f",
   "metadata": {},
   "source": [
    "### Lowercase"
   ]
  },
  {
   "cell_type": "markdown",
   "id": "b74552c7",
   "metadata": {},
   "source": [
    "Here we enforce that all of the text is lowercase. This makes it easier to match cases and sort words.\n",
    "\n",
    "Notice we are assigning our modified column back to itself. This will save our modifications to our DataFrame"
   ]
  },
  {
   "cell_type": "code",
   "execution_count": null,
   "id": "ad37e1f5",
   "metadata": {},
   "outputs": [],
   "source": [
    "data['Story'] = data['Story'].apply(lambda x: \" \".join(x.lower() for x in x.split()))\n",
    "data['Story'].head()"
   ]
  },
  {
   "cell_type": "markdown",
   "id": "9aceb04b",
   "metadata": {},
   "source": [
    "### Remove Punctuation"
   ]
  },
  {
   "cell_type": "markdown",
   "id": "aa15eca0",
   "metadata": {},
   "source": [
    "Here we remove all punctuation from the data. This allows us to focus on the words only as well as assist in matching."
   ]
  },
  {
   "cell_type": "code",
   "execution_count": null,
   "id": "c77670e3",
   "metadata": {},
   "outputs": [],
   "source": [
    "data['Story'] = data['Story'].str.replace('[^\\w\\s]','')\n",
    "data['Story'].head()"
   ]
  },
  {
   "cell_type": "markdown",
   "id": "a95a416b",
   "metadata": {},
   "source": [
    "### Remove Stopwords"
   ]
  },
  {
   "cell_type": "markdown",
   "id": "a5efd252",
   "metadata": {},
   "source": [
    "Similar to what we did earlier when we counted stopwords, we now want to remove the stopwords. We will again use the NLTK list of stopwords but this time keep a list of words that do not appear in the list of stopwords."
   ]
  },
  {
   "cell_type": "code",
   "execution_count": null,
   "id": "59d8129c",
   "metadata": {},
   "outputs": [],
   "source": [
    "from nltk.corpus import stopwords\n",
    "stop = stopwords.words('english')"
   ]
  },
  {
   "cell_type": "code",
   "execution_count": null,
   "id": "0e5cac99",
   "metadata": {},
   "outputs": [],
   "source": [
    "data['Story'] = data['Story'].apply(lambda x: \" \".join(x for x in x.split() if x not in stop))\n",
    "data['Story'].head()"
   ]
  },
  {
   "cell_type": "markdown",
   "id": "ad180d83",
   "metadata": {},
   "source": [
    "### Remove Frequent Words"
   ]
  },
  {
   "cell_type": "markdown",
   "id": "5885a5e9",
   "metadata": {},
   "source": [
    "If we want to catch common words that might have slipped through the stopword removal, we can build out a list of the most common words remaining in our text.\n",
    "\n",
    "Here we have built a list of the 10 most common words. Some of these words might actually be relevant to our analysis so it is important to be careful with this method."
   ]
  },
  {
   "cell_type": "code",
   "execution_count": null,
   "id": "08776fdd",
   "metadata": {},
   "outputs": [],
   "source": [
    "freq = pd.Series(' '.join(data['Story']).split()).value_counts()[:10]\n",
    "freq"
   ]
  },
  {
   "cell_type": "markdown",
   "id": "afef3d34",
   "metadata": {},
   "source": [
    "We now follow the same procedure with which we removed stopwords to remove the most frequent words."
   ]
  },
  {
   "cell_type": "code",
   "execution_count": null,
   "id": "04f72a1a",
   "metadata": {},
   "outputs": [],
   "source": [
    "freq = list(freq.index)\n",
    "data['Story'] = data['Story'].apply(lambda x: \" \".join(x for x in x.split() if x not in freq))\n",
    "data['Story'].head()"
   ]
  },
  {
   "cell_type": "markdown",
   "id": "fec53755",
   "metadata": {},
   "source": [
    "### Remove Rare Words"
   ]
  },
  {
   "cell_type": "markdown",
   "id": "3cde72fa",
   "metadata": {},
   "source": [
    "By analogy, we can remove the most rare words. Some of these are strange misspellings or [hapax legomenon](https://en.wikipedia.org/wiki/Hapax_legomenon) (one off words that don't appear anywhere else in the text)."
   ]
  },
  {
   "cell_type": "code",
   "execution_count": null,
   "id": "ce45cb41",
   "metadata": {},
   "outputs": [],
   "source": [
    "freq = pd.Series(' '.join(data['Story']).split()).value_counts()[-10:]\n",
    "freq"
   ]
  },
  {
   "cell_type": "markdown",
   "id": "2fa83999",
   "metadata": {},
   "source": [
    "Again, removing words following the same process as the stopword removal."
   ]
  },
  {
   "cell_type": "code",
   "execution_count": null,
   "id": "0e8ad73e",
   "metadata": {},
   "outputs": [],
   "source": [
    "freq = list(freq.index)\n",
    "data['Story'] = data['Story'].apply(lambda x: \" \".join(x for x in x.split() if x not in freq))\n",
    "data['Story'].head()"
   ]
  },
  {
   "cell_type": "markdown",
   "id": "36a96186",
   "metadata": {},
   "source": [
    "### Correct Spelling"
   ]
  },
  {
   "cell_type": "markdown",
   "id": "b5a7e3e1",
   "metadata": {},
   "source": [
    "Misspellings can cause inaccuracies in text analysis. For example, \"the\" and \"teh\" are likely intended to be the same word and a reader might gloss over that typo, but a computer would view them as distinct.\n",
    "\n",
    "To help address this we will leverage the [TextBlob package](https://textblob.readthedocs.io/en/dev/) to check the spelling.\n",
    "\n",
    "Since this can be slow and often of questionable usefulness, we have limited the check to the first 5 rows of our DataFrame.\n",
    "\n",
    "It is also worth keeping in mind that, much like autocorrect on your phone, the spellchecking here is not going to be perfectly accurate and could result in just as many errors as it fixes (especially if you are working on text from edited or published sources)."
   ]
  },
  {
   "cell_type": "code",
   "execution_count": null,
   "id": "c91d544c",
   "metadata": {},
   "outputs": [],
   "source": [
    "from textblob import TextBlob\n",
    "data['Story'][:5].apply(lambda x: str(TextBlob(x).correct()))"
   ]
  },
  {
   "cell_type": "markdown",
   "id": "3a252bfe",
   "metadata": {},
   "source": [
    "### Tokenization"
   ]
  },
  {
   "cell_type": "markdown",
   "id": "51463315",
   "metadata": {},
   "source": [
    "Tokenization is the process of splitting up a block of text into a sequence of words or sentences.\n",
    "\n",
    "For those familiar with R and the Tidyverse, this would be referred to as unnesting tokens\n",
    "\n",
    "Here we show all the tokenized words from the first data chunk in our Dataframe."
   ]
  },
  {
   "cell_type": "code",
   "execution_count": null,
   "id": "cc91246f",
   "metadata": {},
   "outputs": [],
   "source": [
    "#import nltk\n",
    "#nltk.download('punkt')"
   ]
  },
  {
   "cell_type": "code",
   "execution_count": null,
   "id": "9758231e",
   "metadata": {},
   "outputs": [],
   "source": [
    "from textblob import TextBlob\n",
    "\n",
    "TextBlob(data['Story'][0]).words"
   ]
  },
  {
   "cell_type": "markdown",
   "id": "8ed06af5",
   "metadata": {},
   "source": [
    "## Stemming"
   ]
  },
  {
   "cell_type": "markdown",
   "id": "bef98b5e",
   "metadata": {},
   "source": [
    "Stemming is the process of removing suffices, like \"ed\" or \"ing\".\n",
    "\n",
    "We will use another standard NLTK package, PorterStemmer, to do the stemming."
   ]
  },
  {
   "cell_type": "code",
   "execution_count": null,
   "id": "057a4f43",
   "metadata": {},
   "outputs": [],
   "source": [
    "from nltk.stem import PorterStemmer\n",
    "st = PorterStemmer()\n",
    "data['Story'][:5].apply(lambda x: \" \".join([st.stem(word) for word in x.split()]))"
   ]
  },
  {
   "cell_type": "markdown",
   "id": "47cbceaa",
   "metadata": {},
   "source": [
    "As we can see \"wonderful\" became \"wonder\", which could help an analysis, but \"deathbed\" became \"deathb\" which is less helpful."
   ]
  },
  {
   "cell_type": "markdown",
   "id": "428be11c",
   "metadata": {},
   "source": [
    "## Lemmatization"
   ]
  },
  {
   "cell_type": "markdown",
   "id": "b5bc0d3a",
   "metadata": {},
   "source": [
    "Lemmatization is often a more useful approach than stemming because it leverages an understanding of the word itself to convert the word back to its root word. However, this means lemmatization is less aggressive than stemming (probably a good thing)."
   ]
  },
  {
   "cell_type": "code",
   "execution_count": null,
   "id": "993b9bfa",
   "metadata": {},
   "outputs": [],
   "source": [
    "#import nltk\n",
    "#nltk.download('wordnet')"
   ]
  },
  {
   "cell_type": "code",
   "execution_count": null,
   "id": "b979c389",
   "metadata": {},
   "outputs": [],
   "source": [
    "from textblob import Word\n",
    "data['Story'] = data['Story'].apply(lambda x: \" \".join([Word(word).lemmatize() for word in x.split()]))\n",
    "data['Story'].head()"
   ]
  },
  {
   "cell_type": "markdown",
   "id": "14770c51",
   "metadata": {},
   "source": [
    "## Visualizing Text"
   ]
  },
  {
   "cell_type": "markdown",
   "id": "33b4e5ca",
   "metadata": {},
   "source": [
    "Now, we are going to make a word cloud based on our data set. We're going to use the [wordcloud](https://amueller.github.io/word_cloud/) package to help us do that."
   ]
  },
  {
   "cell_type": "code",
   "execution_count": null,
   "id": "ca97a413",
   "metadata": {},
   "outputs": [],
   "source": [
    "import wordcloud"
   ]
  },
  {
   "cell_type": "code",
   "execution_count": null,
   "id": "85abefd1",
   "metadata": {},
   "outputs": [],
   "source": [
    "from wordcloud import WordCloud, ImageColorGenerator\n",
    "import matplotlib.pyplot as plt\n",
    "%matplotlib inline\n",
    "%config InlineBackend.figure_format ='retina'\n",
    "\n",
    "stop_words = set(stop)\n",
    "#stop_words.update([\"saw\"])"
   ]
  },
  {
   "cell_type": "markdown",
   "id": "cdacc77e",
   "metadata": {},
   "source": [
    "If you want to update the stopwords after you see the wordcloud, type them into the empty list above and remove the # sign."
   ]
  },
  {
   "cell_type": "code",
   "execution_count": null,
   "id": "04b39be0",
   "metadata": {},
   "outputs": [],
   "source": [
    "word = \" \".join(data['Story'])\n",
    "wordcloud = WordCloud(stopwords=stop, background_color=\"black\").generate(word)\n",
    "plt.imshow(wordcloud, interpolation='bilinear')\n",
    "plt.axis(\"off\")\n",
    "plt.show()"
   ]
  },
  {
   "cell_type": "markdown",
   "id": "75e092b0",
   "metadata": {},
   "source": [
    "The above code creates a wordcloud based off all the words (except for stop words) in all of the stories. While this can be fun, it may not be as interesting as a wordcloud for a single story. Let's compare:"
   ]
  },
  {
   "cell_type": "code",
   "execution_count": null,
   "id": "52e5d2b3",
   "metadata": {},
   "outputs": [],
   "source": [
    "for i in range(0, 5):\n",
    "    print('Title: {}'.format(data['Title'][i]))\n",
    "    word = data['Story'][i]\n",
    "    wordcloud = WordCloud(stopwords=stop, background_color=\"white\").generate(word)\n",
    "    plt.imshow(wordcloud, interpolation='bilinear')\n",
    "    plt.axis(\"off\")\n",
    "    plt.show()"
   ]
  },
  {
   "cell_type": "markdown",
   "id": "726504cb",
   "metadata": {},
   "source": [
    "# Wrapping Up"
   ]
  },
  {
   "cell_type": "markdown",
   "id": "e6b47182",
   "metadata": {},
   "source": [
    "At this point we have a several options for cleaning and structuring our text data. We learned how to load data, do basic cleaning and start to analyze our data with some simple counting methods."
   ]
  }
 ],
 "metadata": {
  "jupytext": {
   "formats": "ipynb"
  },
  "kernelspec": {
   "display_name": "Python 3",
   "language": "python",
   "name": "python3"
  }
 },
 "nbformat": 4,
 "nbformat_minor": 5
}

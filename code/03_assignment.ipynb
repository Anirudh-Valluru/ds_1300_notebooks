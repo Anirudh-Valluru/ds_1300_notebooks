{
 "cells": [
  {
   "cell_type": "markdown",
   "id": "4be09ecd",
   "metadata": {},
   "source": [
    "# Linear Regression and Temperature"
   ]
  },
  {
   "cell_type": "markdown",
   "id": "f694fd43",
   "metadata": {},
   "source": [
    "In this notebook, we'll look at using linear regression to study changes in temperature."
   ]
  },
  {
   "cell_type": "markdown",
   "id": "2e2decb0",
   "metadata": {},
   "source": [
    "## Setup"
   ]
  },
  {
   "cell_type": "code",
   "execution_count": null,
   "id": "acf320a8",
   "metadata": {},
   "outputs": [],
   "source": [
    "import pandas as pd\n",
    "import numpy as np\n",
    "import matplotlib\n",
    "import matplotlib.pyplot as plt\n",
    "import warnings\n",
    "warnings.simplefilter(action='ignore', category=FutureWarning)\n",
    "\n",
    "%config InlineBackend.figure_format ='retina'"
   ]
  },
  {
   "cell_type": "markdown",
   "id": "0bd5f6de",
   "metadata": {},
   "source": [
    "## Getting our data"
   ]
  },
  {
   "cell_type": "markdown",
   "id": "d3f4b10b",
   "metadata": {},
   "source": [
    "We'll be getting data from [North America Land Data Assimilation System (NLDAS)](https://wonder.cdc.gov/NASA-NLDAS.html), which provides the daily average temperature from 1979-2011 for the United States."
   ]
  },
  {
   "cell_type": "markdown",
   "id": "0a558d7f",
   "metadata": {},
   "source": [
    "For the next step, you will need to choose some settings in the data request form. These are:\n",
    "\n",
    "- GroupBy: Month Day, Year\n",
    "- Your State\n",
    "- Export Results (check box)\n",
    "- Show Zero Values (check box)"
   ]
  },
  {
   "cell_type": "markdown",
   "id": "c54820a7",
   "metadata": {},
   "source": [
    ">1) Download the data for your home state (or state of your choosing) and upload it to M2 in your work directory."
   ]
  },
  {
   "cell_type": "markdown",
   "id": "db624b2e",
   "metadata": {},
   "source": [
    "# Loading our data"
   ]
  },
  {
   "cell_type": "code",
   "execution_count": null,
   "id": "784711d4",
   "metadata": {},
   "outputs": [],
   "source": [
    "df = pd.read_csv('North America Land Data Assimilation System (NLDAS) Daily Air Temperatures and Heat Index (1979-2011).txt',delimiter='\\t',skipfooter=14,engine='python')"
   ]
  },
  {
   "cell_type": "code",
   "execution_count": null,
   "id": "897a55e5",
   "metadata": {},
   "outputs": [],
   "source": [
    "df"
   ]
  },
  {
   "cell_type": "markdown",
   "id": "3c615771",
   "metadata": {},
   "source": [
    "### Clean the data"
   ]
  },
  {
   "cell_type": "markdown",
   "id": "aaa66869",
   "metadata": {},
   "source": [
    ">2) Drop any rows that have the value \"Total\" in the Notes column, then drop the Notes column"
   ]
  },
  {
   "cell_type": "code",
   "execution_count": null,
   "id": "515a2177",
   "metadata": {},
   "outputs": [],
   "source": []
  },
  {
   "cell_type": "markdown",
   "id": "e3918826",
   "metadata": {},
   "source": [
    ">3) Make a column called Date that is in the pandas datetime format"
   ]
  },
  {
   "cell_type": "code",
   "execution_count": null,
   "id": "c683b4e7",
   "metadata": {},
   "outputs": [],
   "source": []
  },
  {
   "cell_type": "markdown",
   "id": "f7f467db",
   "metadata": {},
   "source": [
    ">4) Make columns for 'Year', 'Month', and 'Day' by splitting the column 'Month Day, Year'"
   ]
  },
  {
   "cell_type": "code",
   "execution_count": null,
   "id": "a1424765",
   "metadata": {},
   "outputs": [],
   "source": []
  },
  {
   "cell_type": "code",
   "execution_count": null,
   "id": "9a6ad21b",
   "metadata": {},
   "outputs": [],
   "source": [
    "df['DateInt'] = df['Date'].astype(int)/10e10 # This will be used later"
   ]
  },
  {
   "cell_type": "markdown",
   "id": "82e9e828",
   "metadata": {},
   "source": [
    "## Generating a scatter plot"
   ]
  },
  {
   "cell_type": "markdown",
   "id": "453d8fd4",
   "metadata": {},
   "source": [
    "> 4) Use df.plot.scatter to plot 'Date' vs 'Avg Daily Max Air Temperature (F)'. You might want to add figsize=(50,5) as an argument to make it more clear what is happening."
   ]
  },
  {
   "cell_type": "code",
   "execution_count": null,
   "id": "cd594786",
   "metadata": {},
   "outputs": [],
   "source": []
  },
  {
   "cell_type": "markdown",
   "id": "42dea180",
   "metadata": {},
   "source": [
    ">5) Describe your plot."
   ]
  },
  {
   "cell_type": "markdown",
   "id": "2803a501",
   "metadata": {},
   "source": [
    "### Adding colors for our graph"
   ]
  },
  {
   "cell_type": "code",
   "execution_count": null,
   "id": "214b0807",
   "metadata": {},
   "outputs": [],
   "source": [
    "# No need to edit this unless you want to try different colors or a pattern other than colors by month\n",
    "\n",
    "cmap = matplotlib.cm.get_cmap(\"nipy_spectral\", len(df['Month'].unique())) # Builds a discrete color mapping using a built in matplotlib color map\n",
    "\n",
    "c = []\n",
    "for i in range(cmap.N): # Converts our discrete map into Hex Values\n",
    "    rgba = cmap(i)\n",
    "    c.append(matplotlib.colors.rgb2hex(rgba))\n",
    "\n",
    "df['color']=[c[int(i-1)] for i in df['Month'].astype(int)] # Adds a column to our dataframe with the color we want for each row"
   ]
  },
  {
   "cell_type": "markdown",
   "id": "8c25e655",
   "metadata": {},
   "source": [
    ">6) Make the same plot as 4) but add color by adding the argument c=df\\['color'\\] to our plotting command."
   ]
  },
  {
   "cell_type": "code",
   "execution_count": null,
   "id": "168aca17",
   "metadata": {},
   "outputs": [],
   "source": []
  },
  {
   "cell_type": "markdown",
   "id": "e75ed0f9",
   "metadata": {},
   "source": [
    "## Pick a subset of the data"
   ]
  },
  {
   "cell_type": "markdown",
   "id": "5947797d",
   "metadata": {},
   "source": [
    ">7) Select a 6 month period from the data. # Hint use logic and pd.datetime(YYYY, MM, DD)"
   ]
  },
  {
   "cell_type": "code",
   "execution_count": null,
   "id": "424ab978",
   "metadata": {},
   "outputs": [],
   "source": []
  },
  {
   "cell_type": "markdown",
   "id": "c252d33a",
   "metadata": {},
   "source": [
    ">8) Plot the subset using the the same code you used in 6). You can change the figsize if needed."
   ]
  },
  {
   "cell_type": "code",
   "execution_count": null,
   "id": "4072d0ab",
   "metadata": {},
   "outputs": [],
   "source": []
  },
  {
   "cell_type": "markdown",
   "id": "d75b9112",
   "metadata": {},
   "source": [
    "## Linear Regression"
   ]
  },
  {
   "cell_type": "markdown",
   "id": "4e14c9c0",
   "metadata": {},
   "source": [
    "We are going to use a very [simple linear regression model](https://en.wikipedia.org/wiki/Simple_linear_regression). You may implement a more complex model if you wish.\n",
    "\n",
    "The method described here is called the least squares method and is defined as:\n",
    "\n",
    "$m = \\frac{\\sum_{i=1}^{n}(x_i-\\bar{x})(y_i-\\bar{y}))}{\\sum_{i=1}^{n}(x_i-\\bar{x})^2}$\n",
    "\n",
    "$b = \\bar{y} - m\\bar{x}$\n",
    "\n",
    "Where $\\bar{x}$ and $\\bar{y}$ are the average value of $x$ and $y$ respectively."
   ]
  },
  {
   "cell_type": "markdown",
   "id": "6b5154c3",
   "metadata": {},
   "source": [
    "First we need to define our X and Y values."
   ]
  },
  {
   "cell_type": "code",
   "execution_count": null,
   "id": "e1ef97fc",
   "metadata": {},
   "outputs": [],
   "source": [
    "X=subset['DateInt'].values\n",
    "Y=subset['Avg Daily Max Air Temperature (F)'].values"
   ]
  },
  {
   "cell_type": "code",
   "execution_count": null,
   "id": "d1542f08",
   "metadata": {},
   "outputs": [],
   "source": [
    "def lin_reg(x,y):\n",
    "    # Calculate the average x and y\n",
    "    x_avg = np.mean(x)\n",
    "    y_avg = np.mean(y)\n",
    "\n",
    "    num = 0\n",
    "    den = 0\n",
    "    for i in range(len(x)): # This represents our sums\n",
    "        num = num + (x[i] - x_avg)*(y[i] - y_avg) # Our numerator\n",
    "        den = den + (x[i] - x_avg)**2 # Our denominator\n",
    "    # Calculate slope\n",
    "    m = num / den\n",
    "    # Calculate intercept\n",
    "    b = y_avg - m*x_avg\n",
    "\n",
    "    print (m, b)\n",
    "    \n",
    "    # Calculate our predicted y values\n",
    "    y_pred = m*x + b\n",
    "    \n",
    "    return y_pred"
   ]
  },
  {
   "cell_type": "code",
   "execution_count": null,
   "id": "672ae10c",
   "metadata": {},
   "outputs": [],
   "source": [
    "Y_pred = lin_reg(X,Y)"
   ]
  },
  {
   "cell_type": "code",
   "execution_count": null,
   "id": "ee9a739a",
   "metadata": {},
   "outputs": [],
   "source": [
    "subset.plot.scatter(x='Date', y='Avg Daily Max Air Temperature (F)',c=subset['color'])\n",
    "plt.plot([min(subset['Date'].values), max(subset['Date'].values)], [min(Y_pred), max(Y_pred)], color='red') # best fit line\n",
    "plt.show()"
   ]
  },
  {
   "cell_type": "markdown",
   "id": "6ddfba69",
   "metadata": {},
   "source": [
    ">9) What are the slope and intercept of your best fit line?"
   ]
  },
  {
   "cell_type": "code",
   "execution_count": null,
   "id": "10eba5ab",
   "metadata": {},
   "outputs": [],
   "source": []
  },
  {
   "cell_type": "markdown",
   "id": "f937416b",
   "metadata": {},
   "source": [
    ">10) What are the minimum and maximum Y values of your best fit line? Is your slope positive or negative?"
   ]
  },
  {
   "cell_type": "code",
   "execution_count": null,
   "id": "5eb90db7",
   "metadata": {},
   "outputs": [],
   "source": []
  },
  {
   "cell_type": "markdown",
   "id": "e93dc8da",
   "metadata": {},
   "source": [
    "## Putting it all together"
   ]
  },
  {
   "cell_type": "markdown",
   "id": "b7da247a",
   "metadata": {},
   "source": [
    ">11) Generate a best fit line for the full data set and plot the line over top of the data."
   ]
  },
  {
   "cell_type": "code",
   "execution_count": null,
   "id": "b2bc89d4",
   "metadata": {},
   "outputs": [],
   "source": []
  },
  {
   "cell_type": "code",
   "execution_count": null,
   "id": "d8d50896",
   "metadata": {},
   "outputs": [],
   "source": []
  },
  {
   "cell_type": "markdown",
   "id": "d6171ded",
   "metadata": {},
   "source": [
    ">12) Is the slope positive or negative? What do you think that means?"
   ]
  },
  {
   "cell_type": "code",
   "execution_count": null,
   "id": "b4d67a54",
   "metadata": {},
   "outputs": [],
   "source": []
  }
 ],
 "metadata": {
  "jupytext": {
   "formats": "ipynb"
  },
  "kernelspec": {
   "display_name": "Python 3",
   "language": "python",
   "name": "python3"
  }
 },
 "nbformat": 4,
 "nbformat_minor": 5
}

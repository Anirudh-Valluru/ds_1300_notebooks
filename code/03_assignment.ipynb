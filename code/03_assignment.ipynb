{
 "cells": [
  {
   "cell_type": "markdown",
   "id": "915cf8be",
   "metadata": {},
   "source": [
    "# Linear Regression and Temperature"
   ]
  },
  {
   "cell_type": "markdown",
   "id": "52243ab4",
   "metadata": {},
   "source": [
    "In this notebook, we'll look at using linear regression to study changes in temperature."
   ]
  },
  {
   "cell_type": "markdown",
   "id": "7601957f",
   "metadata": {},
   "source": [
    "## Setup"
   ]
  },
  {
   "cell_type": "code",
   "execution_count": null,
   "id": "281fa423",
   "metadata": {},
   "outputs": [],
   "source": [
    "import pandas as pd\n",
    "import numpy as np\n",
    "import matplotlib\n",
    "import matplotlib.pyplot as plt\n",
    "import warnings\n",
    "warnings.simplefilter(action='ignore', category=FutureWarning)\n",
    "\n",
    "%config InlineBackend.figure_format ='retina'"
   ]
  },
  {
   "cell_type": "markdown",
   "id": "532b7fa4",
   "metadata": {},
   "source": [
    "## Getting our data"
   ]
  },
  {
   "cell_type": "markdown",
   "id": "474e76e2",
   "metadata": {},
   "source": [
    "We'll be getting data from [North America Land Data Assimilation System (NLDAS)](https://wonder.cdc.gov/NASA-NLDAS.html), which provides the daily average temperature from 1979-2011 for the United States."
   ]
  },
  {
   "cell_type": "markdown",
   "id": "0047ddf9",
   "metadata": {},
   "source": [
    "For the next step, you will need to choose some settings in the data request form. These are:\n",
    "\n",
    "- GroupBy: Month Day, Year\n",
    "- Your State\n",
    "- Export Results (check box)\n",
    "- Show Zero Values (check box)"
   ]
  },
  {
   "cell_type": "markdown",
   "id": "befe47ac",
   "metadata": {},
   "source": [
    ">1) Download the data for your home state (or state of your choosing) and upload it to M2 in your work directory."
   ]
  },
  {
   "cell_type": "markdown",
   "id": "77209ead",
   "metadata": {},
   "source": [
    "# Loading our data"
   ]
  },
  {
   "cell_type": "code",
   "execution_count": null,
   "id": "f2066346",
   "metadata": {},
   "outputs": [],
   "source": [
    "df = pd.read_csv('North America Land Data Assimilation System (NLDAS) Daily Air Temperatures and Heat Index (1979-2011).txt',delimiter='\\t',skipfooter=14,engine='python')"
   ]
  },
  {
   "cell_type": "code",
   "execution_count": null,
   "id": "14a5ecfc",
   "metadata": {},
   "outputs": [],
   "source": [
    "df"
   ]
  },
  {
   "cell_type": "markdown",
   "id": "1d0e8491",
   "metadata": {},
   "source": [
    "### Clean the data"
   ]
  },
  {
   "cell_type": "markdown",
   "id": "78f61fa2",
   "metadata": {},
   "source": [
    ">2) Drop any rows that have the value \"Total\" in the Notes column, then drop the Notes column"
   ]
  },
  {
   "cell_type": "code",
   "execution_count": null,
   "id": "db14fec6",
   "metadata": {},
   "outputs": [],
   "source": []
  },
  {
   "cell_type": "markdown",
   "id": "234ed04e",
   "metadata": {},
   "source": [
    ">3) Make a column called Date that is in the pandas datetime format"
   ]
  },
  {
   "cell_type": "code",
   "execution_count": null,
   "id": "7ebd3d60",
   "metadata": {},
   "outputs": [],
   "source": []
  },
  {
   "cell_type": "markdown",
   "id": "1e125d4b",
   "metadata": {},
   "source": [
    ">4) Make columns for 'Year', 'Month', and 'Day' by splitting the column 'Month Day, Year'"
   ]
  },
  {
   "cell_type": "code",
   "execution_count": null,
   "id": "dde136bb",
   "metadata": {},
   "outputs": [],
   "source": []
  },
  {
   "cell_type": "code",
   "execution_count": null,
   "id": "871dee3d",
   "metadata": {},
   "outputs": [],
   "source": [
    "df['DateInt'] = df['Date'].astype(int)/10e10 # This will be used later"
   ]
  },
  {
   "cell_type": "markdown",
   "id": "9db5bacf",
   "metadata": {},
   "source": [
    "## Generating a scatter plot"
   ]
  },
  {
   "cell_type": "markdown",
   "id": "528ba0b1",
   "metadata": {},
   "source": [
    "> 4) Use df.plot.scatter to plot 'Date' vs 'Avg Daily Max Air Temperature (F)'. You might want to add figsize=(50,5) as an argument to make it more clear what is happening."
   ]
  },
  {
   "cell_type": "code",
   "execution_count": null,
   "id": "81a854aa",
   "metadata": {},
   "outputs": [],
   "source": []
  },
  {
   "cell_type": "markdown",
   "id": "3813711f",
   "metadata": {},
   "source": [
    ">5) Describe your plot."
   ]
  },
  {
   "cell_type": "markdown",
   "id": "03ce0d30",
   "metadata": {},
   "source": [
    "### Adding colors for our graph"
   ]
  },
  {
   "cell_type": "code",
   "execution_count": null,
   "id": "f6506371",
   "metadata": {},
   "outputs": [],
   "source": [
    "# No need to edit this unless you want to try different colors or a pattern other than colors by month\n",
    "\n",
    "cmap = matplotlib.cm.get_cmap(\"nipy_spectral\", len(df['Month'].unique())) # Builds a discrete color mapping using a built in matplotlib color map\n",
    "\n",
    "c = []\n",
    "for i in range(cmap.N): # Converts our discrete map into Hex Values\n",
    "    rgba = cmap(i)\n",
    "    c.append(matplotlib.colors.rgb2hex(rgba))\n",
    "\n",
    "df['color']=[c[int(i-1)] for i in df['Month'].astype(int)] # Adds a column to our dataframe with the color we want for each row"
   ]
  },
  {
   "cell_type": "markdown",
   "id": "1be6020b",
   "metadata": {},
   "source": [
    ">6) Make the same plot as 4) but add color by adding the argument c=df\\['color'\\] to our plotting command."
   ]
  },
  {
   "cell_type": "code",
   "execution_count": null,
   "id": "ff4714ed",
   "metadata": {},
   "outputs": [],
   "source": []
  },
  {
   "cell_type": "markdown",
   "id": "7f7b2048",
   "metadata": {},
   "source": [
    "## Pick a subset of the data"
   ]
  },
  {
   "cell_type": "markdown",
   "id": "c4533f62",
   "metadata": {},
   "source": [
    ">7) Select a 6 month period from the data. # Hint use logic and pd.datetime(YYYY, MM, DD)"
   ]
  },
  {
   "cell_type": "code",
   "execution_count": null,
   "id": "77e800c4",
   "metadata": {},
   "outputs": [],
   "source": []
  },
  {
   "cell_type": "markdown",
   "id": "4f2a8d43",
   "metadata": {},
   "source": [
    ">8) Plot the subset using the the same code you used in 6). You can change the figsize if needed."
   ]
  },
  {
   "cell_type": "code",
   "execution_count": null,
   "id": "4de9d990",
   "metadata": {},
   "outputs": [],
   "source": []
  },
  {
   "cell_type": "markdown",
   "id": "8ed19ffa",
   "metadata": {},
   "source": [
    "## Linear Regression"
   ]
  },
  {
   "cell_type": "markdown",
   "id": "88830fdd",
   "metadata": {},
   "source": [
    "We are going to use a very [simple linear regression model](https://en.wikipedia.org/wiki/Simple_linear_regression). You may implement a more complex model if you wish.\n",
    "\n",
    "The method described here is called the least squares method and is defined as:\n",
    "\n",
    "$m = \\frac{\\sum_{i=1}^{n}(x_i-\\bar{x})(y_i-\\bar{y}))}{\\sum_{i=1}^{n}(x_i-\\bar{x})^2}$\n",
    "\n",
    "$b = \\bar{y} - m\\bar{x}$\n",
    "\n",
    "Where $\\bar{x}$ and $\\bar{y}$ are the average value of $x$ and $y$ respectively."
   ]
  },
  {
   "cell_type": "markdown",
   "id": "59209682",
   "metadata": {},
   "source": [
    "First we need to define our X and Y values."
   ]
  },
  {
   "cell_type": "code",
   "execution_count": null,
   "id": "67a4e271",
   "metadata": {},
   "outputs": [],
   "source": [
    "X=subset['DateInt'].values\n",
    "Y=subset['Avg Daily Max Air Temperature (F)'].values"
   ]
  },
  {
   "cell_type": "code",
   "execution_count": null,
   "id": "b5fddf16",
   "metadata": {},
   "outputs": [],
   "source": [
    "def lin_reg(x,y):\n",
    "    # Calculate the average x and y\n",
    "    x_avg = np.mean(x)\n",
    "    y_avg = np.mean(y)\n",
    "\n",
    "    num = 0\n",
    "    den = 0\n",
    "    for i in range(len(x)): # This represents our sums\n",
    "        num = num + (x[i] - x_avg)*(y[i] - y_avg) # Our numerator\n",
    "        den = den + (x[i] - x_avg)**2 # Our denominator\n",
    "    # Calculate slope\n",
    "    m = num / den\n",
    "    # Calculate intercept\n",
    "    b = y_avg - m*x_avg\n",
    "\n",
    "    print (m, b)\n",
    "    \n",
    "    # Calculate our predicted y values\n",
    "    y_pred = m*x + b\n",
    "    \n",
    "    return y_pred"
   ]
  },
  {
   "cell_type": "code",
   "execution_count": null,
   "id": "cfa3bc4c",
   "metadata": {},
   "outputs": [],
   "source": [
    "Y_pred = lin_reg(X,Y)"
   ]
  },
  {
   "cell_type": "code",
   "execution_count": null,
   "id": "d9964edc",
   "metadata": {},
   "outputs": [],
   "source": [
    "subset.plot.scatter(x='Date', y='Avg Daily Max Air Temperature (F)',c=subset['color'])\n",
    "plt.plot([min(subset['Date'].values), max(subset['Date'].values)], [min(Y_pred), max(Y_pred)], color='red') # best fit line\n",
    "plt.show()"
   ]
  },
  {
   "cell_type": "markdown",
   "id": "624ba007",
   "metadata": {},
   "source": [
    ">9) What are the slope and intercept of your best fit line?"
   ]
  },
  {
   "cell_type": "code",
   "execution_count": null,
   "id": "6f3a798f",
   "metadata": {},
   "outputs": [],
   "source": []
  },
  {
   "cell_type": "markdown",
   "id": "c14dfef4",
   "metadata": {},
   "source": [
    ">10) What are the minimum and maximum Y values of your best fit line? Is your slope positive or negative?"
   ]
  },
  {
   "cell_type": "code",
   "execution_count": null,
   "id": "d13d4f00",
   "metadata": {},
   "outputs": [],
   "source": []
  },
  {
   "cell_type": "markdown",
   "id": "ddbae8ff",
   "metadata": {},
   "source": [
    "## Putting it all together"
   ]
  },
  {
   "cell_type": "markdown",
   "id": "5d4dfadf",
   "metadata": {},
   "source": [
    ">11) Generate a best fit line for the full data set and plot the line over top of the data."
   ]
  },
  {
   "cell_type": "code",
   "execution_count": null,
   "id": "396c6d7f",
   "metadata": {},
   "outputs": [],
   "source": []
  },
  {
   "cell_type": "code",
   "execution_count": null,
   "id": "e3ed70ab",
   "metadata": {},
   "outputs": [],
   "source": []
  },
  {
   "cell_type": "markdown",
   "id": "ec504034",
   "metadata": {},
   "source": [
    ">12) Is the slope positive or negative? What do you think that means?"
   ]
  },
  {
   "cell_type": "code",
   "execution_count": null,
   "id": "192fac58",
   "metadata": {},
   "outputs": [],
   "source": []
  }
 ],
 "metadata": {
  "jupytext": {
   "formats": "ipynb"
  },
  "kernelspec": {
   "display_name": "Python 3",
   "language": "python",
   "name": "python3"
  }
 },
 "nbformat": 4,
 "nbformat_minor": 5
}

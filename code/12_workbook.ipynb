{
 "cells": [
  {
   "cell_type": "markdown",
   "id": "43482c6c",
   "metadata": {},
   "source": [
    "# Data Visualization"
   ]
  },
  {
   "cell_type": "markdown",
   "id": "82d233a8",
   "metadata": {},
   "source": [
    "Being able to visualize your data is vital to being a data scientist. This generally involves making graphs or plots. More advanced techniques (beyond the scope of this notebook) include interactive graphics and dashboards."
   ]
  },
  {
   "cell_type": "markdown",
   "id": "92279ba0",
   "metadata": {},
   "source": [
    "We're going to focus on two different types of plotting ([Pandas](https://pandas.pydata.org/pandas-docs/stable/user_guide/visualization.html) and [Matplotlib](https://matplotlib.org/stable/tutorials/introductory/usage.html#sphx-glr-tutorials-introductory-usage-py)) but under the hood they're both matplotlib. There are other plotting libraries like [seaborn](https://seaborn.pydata.org/tutorial.html).\n",
    "\n",
    "Here is a really quick but good [article](https://towardsdatascience.com/all-your-matplotlib-questions-answered-420dd95cb4ff) to read for getting started too."
   ]
  },
  {
   "cell_type": "code",
   "execution_count": null,
   "id": "a6393a68",
   "metadata": {},
   "outputs": [],
   "source": [
    "import pandas as pd\n",
    "import matplotlib as plt\n",
    "\n",
    "%matplotlib inline\n",
    "%config InlineBackend.figure_format ='retina'"
   ]
  },
  {
   "cell_type": "code",
   "execution_count": null,
   "id": "4fdb7942",
   "metadata": {},
   "outputs": [],
   "source": [
    "data = pd.read_csv('../data/state_facts.tsv', delimiter='\\t')"
   ]
  },
  {
   "cell_type": "code",
   "execution_count": null,
   "id": "9032fc9e",
   "metadata": {},
   "outputs": [],
   "source": [
    "data.head()"
   ]
  },
  {
   "cell_type": "markdown",
   "id": "5d5b560f",
   "metadata": {},
   "source": [
    "### Anatomy of a plot"
   ]
  },
  {
   "cell_type": "markdown",
   "id": "df8a4d3c",
   "metadata": {},
   "source": [
    "Let's ignore the following code, butjust look at the resulting image."
   ]
  },
  {
   "cell_type": "code",
   "execution_count": null,
   "id": "3fdee977",
   "metadata": {},
   "outputs": [],
   "source": [
    "# This figure shows the name of several matplotlib elements composing a figure\n",
    "\n",
    "import numpy as np\n",
    "import matplotlib.pyplot as plt\n",
    "from matplotlib.ticker import AutoMinorLocator, MultipleLocator, FuncFormatter\n",
    "\n",
    "\n",
    "np.random.seed(19680801)\n",
    "\n",
    "X = np.linspace(0.5, 3.5, 100)\n",
    "Y1 = 3+np.cos(X)\n",
    "Y2 = 1+np.cos(1+X/0.75)/2\n",
    "Y3 = np.random.uniform(Y1, Y2, len(X))\n",
    "\n",
    "fig = plt.figure(figsize=(8, 8))\n",
    "ax = fig.add_subplot(1, 1, 1, aspect=1)\n",
    "\n",
    "\n",
    "def minor_tick(x, pos):\n",
    "    if not x % 1.0:\n",
    "        return \"\"\n",
    "    return \"%.2f\" % x\n",
    "\n",
    "ax.xaxis.set_major_locator(MultipleLocator(1.000))\n",
    "ax.xaxis.set_minor_locator(AutoMinorLocator(4))\n",
    "ax.yaxis.set_major_locator(MultipleLocator(1.000))\n",
    "ax.yaxis.set_minor_locator(AutoMinorLocator(4))\n",
    "ax.xaxis.set_minor_formatter(FuncFormatter(minor_tick))\n",
    "\n",
    "ax.set_xlim(0, 4)\n",
    "ax.set_ylim(0, 4)\n",
    "\n",
    "ax.tick_params(which='major', width=1.0)\n",
    "ax.tick_params(which='major', length=10)\n",
    "ax.tick_params(which='minor', width=1.0, labelsize=10)\n",
    "ax.tick_params(which='minor', length=5, labelsize=10, labelcolor='0.25')\n",
    "\n",
    "ax.grid(linestyle=\"--\", linewidth=0.5, color='.25', zorder=-10)\n",
    "\n",
    "ax.plot(X, Y1, c=(0.25, 0.25, 1.00), lw=2, label=\"Blue signal\", zorder=10)\n",
    "ax.plot(X, Y2, c=(1.00, 0.25, 0.25), lw=2, label=\"Red signal\")\n",
    "ax.plot(X, Y3, linewidth=0,\n",
    "        marker='o', markerfacecolor='w', markeredgecolor='k')\n",
    "\n",
    "ax.set_title(\"Anatomy of a figure\", fontsize=20, verticalalignment='bottom')\n",
    "ax.set_xlabel(\"X axis label\")\n",
    "ax.set_ylabel(\"Y axis label\")\n",
    "\n",
    "ax.legend()\n",
    "\n",
    "\n",
    "def circle(x, y, radius=0.15):\n",
    "    from matplotlib.patches import Circle\n",
    "    from matplotlib.patheffects import withStroke\n",
    "    circle = Circle((x, y), radius, clip_on=False, zorder=10, linewidth=1,\n",
    "                    edgecolor='black', facecolor=(0, 0, 0, .0125),\n",
    "                    path_effects=[withStroke(linewidth=5, foreground='w')])\n",
    "    ax.add_artist(circle)\n",
    "\n",
    "\n",
    "def text(x, y, text):\n",
    "    ax.text(x, y, text, backgroundcolor=\"white\",\n",
    "            ha='center', va='top', weight='bold', color='blue')\n",
    "\n",
    "\n",
    "# Minor tick\n",
    "circle(0.50, -0.10)\n",
    "text(0.50, -0.32, \"Minor tick label\")\n",
    "\n",
    "# Major tick\n",
    "circle(-0.03, 4.00)\n",
    "text(0.03, 3.80, \"Major tick\")\n",
    "\n",
    "# Minor tick\n",
    "circle(0.00, 3.50)\n",
    "text(0.00, 3.30, \"Minor tick\")\n",
    "\n",
    "# Major tick label\n",
    "circle(-0.15, 3.00)\n",
    "text(-0.15, 2.80, \"Major tick label\")\n",
    "\n",
    "# X Label\n",
    "circle(1.80, -0.27)\n",
    "text(1.80, -0.45, \"X axis label\")\n",
    "\n",
    "# Y Label\n",
    "circle(-0.27, 1.80)\n",
    "text(-0.27, 1.6, \"Y axis label\")\n",
    "\n",
    "# Title\n",
    "circle(1.60, 4.13)\n",
    "text(1.60, 3.93, \"Title\")\n",
    "\n",
    "# Blue plot\n",
    "circle(1.75, 2.80)\n",
    "text(1.75, 2.60, \"Line\\n(line plot)\")\n",
    "\n",
    "# Red plot\n",
    "circle(1.20, 0.60)\n",
    "text(1.20, 0.40, \"Line\\n(line plot)\")\n",
    "\n",
    "# Scatter plot\n",
    "circle(3.20, 1.75)\n",
    "text(3.20, 1.55, \"Markers\\n(scatter plot)\")\n",
    "\n",
    "# Grid\n",
    "circle(3.00, 3.00)\n",
    "text(3.00, 2.80, \"Grid\")\n",
    "\n",
    "# Legend\n",
    "circle(3.70, 3.80)\n",
    "text(3.70, 3.60, \"Legend\")\n",
    "\n",
    "# Axes\n",
    "circle(0.5, 0.5)\n",
    "text(0.5, 0.3, \"Axes\")\n",
    "\n",
    "# Figure\n",
    "circle(-0.3, 0.65)\n",
    "text(-0.3, 0.45, \"Figure\")\n",
    "\n",
    "color = 'blue'\n",
    "ax.annotate('Spines', xy=(4.0, 0.35), xycoords='data',\n",
    "            xytext=(3.3, 0.5), textcoords='data',\n",
    "            weight='bold', color=color,\n",
    "            arrowprops=dict(arrowstyle='->',\n",
    "                            connectionstyle=\"arc3\",\n",
    "                            color=color))\n",
    "\n",
    "ax.annotate('', xy=(3.15, 0.0), xycoords='data',\n",
    "            xytext=(3.45, 0.45), textcoords='data',\n",
    "            weight='bold', color=color,\n",
    "            arrowprops=dict(arrowstyle='->',\n",
    "                            connectionstyle=\"arc3\",\n",
    "                            color=color))\n",
    "\n",
    "ax.text(4.0, -0.4, \"Made with http://matplotlib.org\",\n",
    "        fontsize=10, ha=\"right\", color='.5')\n",
    "\n",
    "plt.show()"
   ]
  },
  {
   "cell_type": "markdown",
   "id": "10e0374f",
   "metadata": {},
   "source": [
    "There are a lot of elements that go into a plot. Let's start simpler"
   ]
  },
  {
   "cell_type": "markdown",
   "id": "73593da4",
   "metadata": {},
   "source": [
    "## Plotting with Pandas"
   ]
  },
  {
   "cell_type": "markdown",
   "id": "f001dab4",
   "metadata": {},
   "source": [
    "Pandas makes plotting really easy. All we need to do is call the plot function. Done!"
   ]
  },
  {
   "cell_type": "code",
   "execution_count": null,
   "id": "7c048946",
   "metadata": {},
   "outputs": [],
   "source": [
    "data.head()"
   ]
  },
  {
   "cell_type": "code",
   "execution_count": null,
   "id": "14c186b4",
   "metadata": {},
   "outputs": [],
   "source": [
    "data.plot(figsize=(10,10));"
   ]
  },
  {
   "cell_type": "code",
   "execution_count": null,
   "id": "f5e6bbf1",
   "metadata": {},
   "outputs": [],
   "source": [
    "# data.plot(); # The ; can be used to hide the '<Text>' if you want."
   ]
  },
  {
   "cell_type": "markdown",
   "id": "35f5fd88",
   "metadata": {},
   "source": [
    "Ok, so this plot isn't helpful. It is hard to read, it's not clear what is really being shown. Why is it a line graph? Let's dive into some options to improve this."
   ]
  },
  {
   "cell_type": "markdown",
   "id": "c5565958",
   "metadata": {},
   "source": [
    "### Making a better plot"
   ]
  },
  {
   "cell_type": "markdown",
   "id": "e66e99cf",
   "metadata": {},
   "source": [
    "The first step to making a better plot is to isolate what we the question we are trying to answer and what type of plot we should make to answer that question. For this example, let's try to determine if there is a correlation between 2020 population and capital city population."
   ]
  },
  {
   "cell_type": "code",
   "execution_count": null,
   "id": "d6831daa",
   "metadata": {},
   "outputs": [],
   "source": [
    "data.head(1)"
   ]
  },
  {
   "cell_type": "code",
   "execution_count": null,
   "id": "667db169",
   "metadata": {},
   "outputs": [],
   "source": [
    "p1 = data[['USPS_code','Pop_2020','Capital_pop','city_1_pop']]"
   ]
  },
  {
   "cell_type": "code",
   "execution_count": null,
   "id": "622819bf",
   "metadata": {},
   "outputs": [],
   "source": [
    "p1.head(1)"
   ]
  },
  {
   "cell_type": "markdown",
   "id": "4e20234c",
   "metadata": {},
   "source": [
    "First let's just slice our data down to what we are interested in - populations by state"
   ]
  },
  {
   "cell_type": "code",
   "execution_count": null,
   "id": "b0e0bee1",
   "metadata": {},
   "outputs": [],
   "source": [
    "p1.plot(figsize=(10,10))"
   ]
  },
  {
   "cell_type": "markdown",
   "id": "a50dafd7",
   "metadata": {},
   "source": [
    "This is a little better than our last attempt. At least now we can see all the lines, but this still doesn't help us answer our question.\n",
    "\n",
    "Line graphs like this make a lot more sense if we are looking at trends in our data. Something like change over time. In our data set, change over state doesn't really mean much."
   ]
  },
  {
   "cell_type": "markdown",
   "id": "5fe6a84e",
   "metadata": {},
   "source": [
    "We could try a different type of plot. Maybe a bar graph would work?"
   ]
  },
  {
   "cell_type": "code",
   "execution_count": null,
   "id": "9999a8fa",
   "metadata": {},
   "outputs": [],
   "source": [
    "p1.plot(kind='bar',figsize=(10,10))"
   ]
  },
  {
   "cell_type": "code",
   "execution_count": null,
   "id": "fea263fb",
   "metadata": {},
   "outputs": [],
   "source": [
    "data.columns"
   ]
  },
  {
   "cell_type": "code",
   "execution_count": null,
   "id": "8a6d4e49",
   "metadata": {},
   "outputs": [],
   "source": [
    "plot = data[['State_bird','Pop_2020',\"Pop_2010\"]].plot(kind='bar',figsize=(10,10)) # we are setting the type of plot to a bar graph\n",
    "plot.set_xticklabels(data['USPS_code']);"
   ]
  },
  {
   "cell_type": "markdown",
   "id": "e10fed08",
   "metadata": {},
   "source": [
    "Not much better at answering our question. Bar graphs are good for showing counts of things that are related but get hard to use when you have too many bars or the bars are vastly different in size."
   ]
  },
  {
   "cell_type": "code",
   "execution_count": null,
   "id": "583bd8b9",
   "metadata": {},
   "outputs": [],
   "source": [
    "p1.plot.bar(stacked=True,figsize=(10,10));"
   ]
  },
  {
   "cell_type": "markdown",
   "id": "dc7235ef",
   "metadata": {},
   "source": [
    "We could try stacking our bars. This is great if we are trying to show components of a total but not great for answering our question."
   ]
  },
  {
   "cell_type": "markdown",
   "id": "2f5a37ed",
   "metadata": {},
   "source": [
    "A cool use of a stacked bar would be to see which states have the most population in their top 5 cities."
   ]
  },
  {
   "cell_type": "code",
   "execution_count": null,
   "id": "b14ae867",
   "metadata": {},
   "outputs": [],
   "source": [
    "data[['USPS_code','city_1_pop','city_2_pop','city_3_pop','city_4_pop','city_5_pop']].plot.bar(stacked=True,figsize=(10,10))"
   ]
  },
  {
   "cell_type": "markdown",
   "id": "5a47e497",
   "metadata": {},
   "source": [
    "We could also make a pie chart. This would be good at telling us what fraction of a total we have but are't great at correlations."
   ]
  },
  {
   "cell_type": "code",
   "execution_count": null,
   "id": "adeb793c",
   "metadata": {},
   "outputs": [],
   "source": [
    "p1['Pop_2020'].plot.pie(figsize=(10,10))"
   ]
  },
  {
   "cell_type": "markdown",
   "id": "1793b81e",
   "metadata": {},
   "source": [
    "Also be careful that your Pie Chart is representative of the whole data set!"
   ]
  },
  {
   "cell_type": "code",
   "execution_count": null,
   "id": "3b927617",
   "metadata": {},
   "outputs": [],
   "source": [
    "top5 = p1.sort_values(by='Pop_2020',ascending=False)[:5]"
   ]
  },
  {
   "cell_type": "code",
   "execution_count": null,
   "id": "516b0608",
   "metadata": {},
   "outputs": [],
   "source": [
    "top5['Pop_2020'].plot.pie(figsize=(10,10))"
   ]
  },
  {
   "cell_type": "markdown",
   "id": "ba892e93",
   "metadata": {},
   "source": [
    "We could try a scatter plot. Why would make sense?"
   ]
  },
  {
   "cell_type": "code",
   "execution_count": null,
   "id": "40070a23",
   "metadata": {},
   "outputs": [],
   "source": [
    "p1.columns"
   ]
  },
  {
   "cell_type": "code",
   "execution_count": null,
   "id": "1649696b",
   "metadata": {},
   "outputs": [],
   "source": [
    "p1.plot.scatter(x='city_1_pop', y='Capital_pop',figsize=(10,10))"
   ]
  },
  {
   "cell_type": "markdown",
   "id": "fb4b73d8",
   "metadata": {},
   "source": [
    "### Adding Features"
   ]
  },
  {
   "cell_type": "markdown",
   "id": "2e89d6c7",
   "metadata": {},
   "source": [
    "Now that we have a plot that we like, let's improve it to better describe our results."
   ]
  },
  {
   "cell_type": "code",
   "execution_count": null,
   "id": "ccf4caa0",
   "metadata": {},
   "outputs": [],
   "source": [
    "p1.plot.scatter(x='Pop_2020', y='Capital_pop',figsize=(10,10))"
   ]
  },
  {
   "cell_type": "markdown",
   "id": "17b845dc",
   "metadata": {},
   "source": [
    "#### Labels and Legends"
   ]
  },
  {
   "cell_type": "code",
   "execution_count": null,
   "id": "e9b587c9",
   "metadata": {},
   "outputs": [],
   "source": [
    "p1.plot.scatter(x='Pop_2020', y='Capital_pop', label='Capitals',figsize=(10,10))"
   ]
  },
  {
   "cell_type": "markdown",
   "id": "2c879bd4",
   "metadata": {},
   "source": [
    "We can add labels to our plots using the label flag. We can also show/hide the legend using the legend flag. If you do this, you have to be careful that your data is well described elsewhere."
   ]
  },
  {
   "cell_type": "code",
   "execution_count": null,
   "id": "69fabf9b",
   "metadata": {},
   "outputs": [],
   "source": [
    "data[['USPS_code','city_1_pop','city_2_pop','city_3_pop','city_4_pop','city_5_pop']].plot.bar(stacked=True, legend=True,figsize=(10,10))"
   ]
  },
  {
   "cell_type": "markdown",
   "id": "6045f684",
   "metadata": {},
   "source": [
    "#### Additional Data"
   ]
  },
  {
   "cell_type": "markdown",
   "id": "c38f7ece",
   "metadata": {},
   "source": [
    "Sometimes we'll want to plot multiple things on a single axis. To do that we have to use the axes option."
   ]
  },
  {
   "cell_type": "code",
   "execution_count": null,
   "id": "39472235",
   "metadata": {},
   "outputs": [],
   "source": [
    "ax = data.plot.scatter(x='Pop_2020', y=\"city_1_pop\", label=\"Largest Cities\")\n",
    "data.plot.scatter(x='Pop_2020', y='Capital_pop', label=\"Capital Cities\", ax=ax,figsize=(10,10))"
   ]
  },
  {
   "cell_type": "markdown",
   "id": "cc3aa43d",
   "metadata": {},
   "source": [
    "What is wrong with this plot?"
   ]
  },
  {
   "cell_type": "markdown",
   "id": "926b23ea",
   "metadata": {},
   "source": [
    "#### Color and Markers"
   ]
  },
  {
   "cell_type": "markdown",
   "id": "69eac0f1",
   "metadata": {},
   "source": [
    "You can specify colors by name ('red') or by letter ('b'). A full table of named python colors can be found [here](https://matplotlib.org/stable/gallery/color/named_colors.html)."
   ]
  },
  {
   "cell_type": "code",
   "execution_count": null,
   "id": "7752b7d6",
   "metadata": {},
   "outputs": [],
   "source": [
    "ax = data.plot.scatter(x='Pop_2020', y=\"city_1_pop\", color='Red',label=\"Largest Cities\", marker='^')\n",
    "data.plot.scatter(x='Pop_2020', y='Capital_pop', color='g', label=\"Capital Cities\", ax=ax,figsize=(10,10))"
   ]
  },
  {
   "cell_type": "markdown",
   "id": "a7ae9937",
   "metadata": {},
   "source": [
    "Color is a powerful tool but doesn't work for everyone. Markers are a great tool you can use to supplement color."
   ]
  },
  {
   "cell_type": "markdown",
   "id": "9b19869f",
   "metadata": {},
   "source": [
    "You can also use something called a [colormap](https://matplotlib.org/stable/gallery/color/colormap_reference.html) to change the full color scheme of a plot.\n",
    "\n",
    "Be careful when working with colormaps, they have a tendancy to overwhelm the goal of your plot."
   ]
  },
  {
   "cell_type": "code",
   "execution_count": null,
   "id": "19bfd2a7",
   "metadata": {},
   "outputs": [],
   "source": [
    "data[['USPS_code','city_1_pop','city_2_pop','city_3_pop','city_4_pop','city_5_pop']].plot.bar(stacked=True, legend=False,figsize=(10,10), colormap=\"nipy_spectral\")"
   ]
  },
  {
   "cell_type": "code",
   "execution_count": null,
   "id": "dba52da5",
   "metadata": {},
   "outputs": [],
   "source": [
    "p1['Pop_2020'].plot.pie(colormap='flag',figsize=(10,10))"
   ]
  },
  {
   "cell_type": "markdown",
   "id": "4565b3ab",
   "metadata": {},
   "source": [
    "#### Titles"
   ]
  },
  {
   "cell_type": "markdown",
   "id": "0702adfb",
   "metadata": {},
   "source": [
    "You can add titles to both your axes and your overall graph."
   ]
  },
  {
   "cell_type": "code",
   "execution_count": null,
   "id": "8644c535",
   "metadata": {},
   "outputs": [],
   "source": [
    "ax = data.plot.scatter(x='Pop_2020', y=\"city_1_pop\", color='Red',label=\"Largest Cities\", marker='^')\n",
    "data.plot.scatter(x='Pop_2020', y='Capital_pop', label=\"Capital Cities\", ax=ax, xlabel=\"2020 State Population\", ylabel=\"Population of Select Cities\", title='State and City Populations - 2020',figsize=(10,10));"
   ]
  },
  {
   "cell_type": "markdown",
   "id": "6028c4a5",
   "metadata": {},
   "source": [
    "#### Grid"
   ]
  },
  {
   "cell_type": "markdown",
   "id": "e274f7e9",
   "metadata": {},
   "source": [
    "Sometimes (certainly not always) you'll want to add a grid to your graph for added specificity."
   ]
  },
  {
   "cell_type": "code",
   "execution_count": null,
   "id": "5941a634",
   "metadata": {},
   "outputs": [],
   "source": [
    "ax = data.plot.scatter(x='Pop_2020', y=\"city_1_pop\", color='Red',label=\"Largest Cities\", marker='^')\n",
    "data.plot.scatter(x='Pop_2020', y='Capital_pop', label=\"Capital Cities\", ax=ax, xlabel=\"2020 State Population\", ylabel=\"Population of Select Cities\", title='State and City Populations - 2020',grid=True,figsize=(10,10))"
   ]
  },
  {
   "cell_type": "markdown",
   "id": "8979ed18",
   "metadata": {},
   "source": [
    "#### Saving your plot"
   ]
  },
  {
   "cell_type": "markdown",
   "id": "90f66f04",
   "metadata": {},
   "source": [
    "Once you have your plot the way you like it, you'll want to export it. There are multiple formats you can export in, but pdf and png are likely the ones you'll want to utilize."
   ]
  },
  {
   "cell_type": "code",
   "execution_count": null,
   "id": "f6f90dd1",
   "metadata": {},
   "outputs": [],
   "source": [
    "ax = data.plot.scatter(x='Pop_2020', y=\"city_1_pop\", color='red',label=\"Largest Cities\", marker='^')\n",
    "plt = data.plot.scatter(x='Pop_2020', y='Capital_pop', color='blue',label=\"Capital Cities\", ax=ax, xlabel=\"2020 State Population\", ylabel=\"Population of Select Cities\", title='State and City Populations - 2020',grid=True,figsize=(10,10))"
   ]
  },
  {
   "cell_type": "code",
   "execution_count": null,
   "id": "ec26e1f1",
   "metadata": {},
   "outputs": [],
   "source": [
    "plt.figure.savefig('figure.pdf')"
   ]
  },
  {
   "cell_type": "markdown",
   "id": "49287fff",
   "metadata": {},
   "source": [
    "## Other plotting libraries"
   ]
  },
  {
   "cell_type": "markdown",
   "id": "9f81dbe8",
   "metadata": {},
   "source": [
    "Matplotlib and Seaborn both have extensive and impressive catalogues of sample plots that I'd encourage you to explore and pull from"
   ]
  },
  {
   "cell_type": "markdown",
   "id": "8f4e1384",
   "metadata": {},
   "source": [
    "#### Matplotlib Examples\n",
    "\n",
    "Here are some links to really cool matplotlib examples:\n",
    "\n",
    "- [Matplotlib samples](https://matplotlib.org/stable/tutorials/introductory/sample_plots.html)\n",
    "- [Matplotlib gallery](https://matplotlib.org/stable/gallery/index.html)\n",
    "- [50 cool plots](https://www.machinelearningplus.com/plots/top-50-matplotlib-visualizations-the-master-plots-python/)\n",
    "- [Matplotlib cheatsheet](https://github.com/rougier/matplotlib-cheatsheet)\n",
    "- [Scientific Visualization with Matplotlib](https://github.com/rougier/scientific-visualization-book)"
   ]
  },
  {
   "cell_type": "code",
   "execution_count": null,
   "id": "75a087cb",
   "metadata": {},
   "outputs": [],
   "source": [
    "\n",
    "import matplotlib.pyplot as plt\n",
    "from matplotlib import cm\n",
    "from matplotlib.ticker import LinearLocator\n",
    "import numpy as np\n",
    "\n",
    "fig, ax = plt.subplots(subplot_kw={\"projection\": \"3d\"})\n",
    "\n",
    "# Make data.\n",
    "X = np.arange(-5, 5, 0.25)\n",
    "Y = np.arange(-5, 5, 0.25)\n",
    "X, Y = np.meshgrid(X, Y)\n",
    "R = np.sqrt(X**2 + Y**2)\n",
    "Z = np.sin(R)\n",
    "\n",
    "# Plot the surface.\n",
    "surf = ax.plot_surface(X, Y, Z, cmap=cm.coolwarm,\n",
    "                       linewidth=0, antialiased=False)\n",
    "\n",
    "# Customize the z axis.\n",
    "ax.set_zlim(-1.01, 1.01)\n",
    "ax.zaxis.set_major_locator(LinearLocator(10))\n",
    "# A StrMethodFormatter is used automatically\n",
    "ax.zaxis.set_major_formatter('{x:.02f}')\n",
    "\n",
    "# Add a color bar which maps values to colors.\n",
    "fig.colorbar(surf, shrink=0.5, aspect=5)\n",
    "\n",
    "plt.show()"
   ]
  },
  {
   "cell_type": "code",
   "execution_count": null,
   "id": "6730b276",
   "metadata": {},
   "outputs": [],
   "source": [
    "import matplotlib.pyplot as plt\n",
    "import numpy as np\n",
    "\n",
    "np.random.seed(19680801)\n",
    "data = np.random.randn(2, 100)\n",
    "\n",
    "fig, axs = plt.subplots(2, 2, figsize=(5, 5))\n",
    "axs[0, 0].hist(data[0])\n",
    "axs[1, 0].scatter(data[0], data[1])\n",
    "axs[0, 1].plot(data[0], data[1])\n",
    "axs[1, 1].hist2d(data[0], data[1])\n",
    "\n",
    "plt.show()"
   ]
  },
  {
   "cell_type": "markdown",
   "id": "d52d7462",
   "metadata": {},
   "source": [
    "#### Seaborn Examples\n",
    "\n",
    "Here are some links to really cool seaborn examples:\n",
    "\n",
    "- [Seaborn tutorial](https://seaborn.pydata.org/tutorial.html)\n",
    "- [Seaborn gallery](https://seaborn.pydata.org/examples/index.html)\n",
    "- [Seaborn Guide](https://jakevdp.github.io/PythonDataScienceHandbook/04.14-visualization-with-seaborn.html)"
   ]
  },
  {
   "cell_type": "code",
   "execution_count": null,
   "id": "e91035cc",
   "metadata": {},
   "outputs": [],
   "source": [
    "\n",
    "\n",
    "import numpy as np\n",
    "import seaborn as sns\n",
    "import matplotlib.pyplot as plt\n",
    "sns.set_theme(style=\"dark\")\n",
    "\n",
    "# Simulate data from a bivariate Gaussian\n",
    "n = 10000\n",
    "mean = [0, 0]\n",
    "cov = [(2, .4), (.4, .2)]\n",
    "rng = np.random.RandomState(0)\n",
    "x, y = rng.multivariate_normal(mean, cov, n).T\n",
    "\n",
    "# Draw a combo histogram and scatterplot with density contours\n",
    "f, ax = plt.subplots(figsize=(6, 6))\n",
    "sns.scatterplot(x=x, y=y, s=5, color=\".15\")\n",
    "sns.histplot(x=x, y=y, bins=50, pthresh=.1, cmap=\"mako\")\n",
    "sns.kdeplot(x=x, y=y, levels=5, color=\"w\", linewidths=1)\n",
    "\n"
   ]
  },
  {
   "cell_type": "code",
   "execution_count": null,
   "id": "8549c508",
   "metadata": {},
   "outputs": [],
   "source": []
  }
 ],
 "metadata": {
  "jupytext": {
   "formats": "ipynb"
  },
  "kernelspec": {
   "display_name": "Python 3 (ipykernel)",
   "language": "python",
   "name": "python3"
  }
 },
 "nbformat": 4,
 "nbformat_minor": 5
}

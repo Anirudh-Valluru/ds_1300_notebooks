{
 "cells": [
  {
   "cell_type": "markdown",
   "id": "638aea8e",
   "metadata": {},
   "source": [
    "# GeoPandas and Mapping in Python"
   ]
  },
  {
   "cell_type": "markdown",
   "id": "6b4cac5a",
   "metadata": {},
   "source": [
    "A large portion of this tutorial was derived from the GeoPandas [user guide](https://geopandas.org/en/stable/docs/user_guide/mapping.html) and [introduction](https://geopandas.org/en/stable/getting_started/introduction.html)."
   ]
  },
  {
   "cell_type": "markdown",
   "id": "801fed7f",
   "metadata": {},
   "source": [
    "## Getting Started - Boroughs of NYC"
   ]
  },
  {
   "cell_type": "markdown",
   "id": "e14fe472",
   "metadata": {},
   "source": [
    "One commmon way to visualize and interact with data is to use spatial information in the data to generate maps. In order to do that, we need to build out shapes (called geometries) in our data set.\n",
    "\n",
    "GeoPandas is an extension of pandas that allows us to include functionality for working with these geometries and perform analyses using that data."
   ]
  },
  {
   "cell_type": "markdown",
   "id": "676e7a20",
   "metadata": {},
   "source": [
    "To start we need some data. In this tutorial, we'll use a few built in data sets but we will also load data from external shape files."
   ]
  },
  {
   "cell_type": "code",
   "execution_count": null,
   "id": "799e8735",
   "metadata": {},
   "outputs": [],
   "source": [
    "import geopandas\n",
    "\n",
    "%config InlineBackend.figure_format ='retina'"
   ]
  },
  {
   "cell_type": "markdown",
   "id": "de98a58d",
   "metadata": {},
   "source": [
    "### Reading Files"
   ]
  },
  {
   "cell_type": "code",
   "execution_count": null,
   "id": "ae92ae41",
   "metadata": {},
   "outputs": [],
   "source": [
    "path_to_data = geopandas.datasets.get_path(\"nybb\")\n",
    "gdf = geopandas.read_file(path_to_data)\n",
    "gdf"
   ]
  },
  {
   "cell_type": "markdown",
   "id": "e17e6e7c",
   "metadata": {},
   "source": [
    "### Writing Files"
   ]
  },
  {
   "cell_type": "code",
   "execution_count": null,
   "id": "d73c847a",
   "metadata": {},
   "outputs": [],
   "source": [
    "gdf.to_file(\"my_file.geojson\", driver=\"GeoJSON\")"
   ]
  },
  {
   "cell_type": "markdown",
   "id": "208f0efa",
   "metadata": {},
   "source": [
    "### Getting Features"
   ]
  },
  {
   "cell_type": "code",
   "execution_count": null,
   "id": "7883d9a2",
   "metadata": {},
   "outputs": [],
   "source": [
    "gdf = gdf.set_index(\"BoroName\") #resetting the name of the boroughs as the index"
   ]
  },
  {
   "cell_type": "markdown",
   "id": "26b72655",
   "metadata": {},
   "source": [
    "Getting the area of the polygon"
   ]
  },
  {
   "cell_type": "code",
   "execution_count": null,
   "id": "b70ca286",
   "metadata": {},
   "outputs": [],
   "source": [
    "gdf[\"area\"] = gdf.area\n",
    "gdf[\"area\"]"
   ]
  },
  {
   "cell_type": "markdown",
   "id": "3bddb527",
   "metadata": {},
   "source": [
    "Getting the boundary of the polygon"
   ]
  },
  {
   "cell_type": "code",
   "execution_count": null,
   "id": "111ebca2",
   "metadata": {},
   "outputs": [],
   "source": [
    "gdf['boundary'] = gdf.boundary\n",
    "gdf['boundary']"
   ]
  },
  {
   "cell_type": "markdown",
   "id": "6ea92454",
   "metadata": {},
   "source": [
    "Getting the centroid (average x and y values) of the polygon"
   ]
  },
  {
   "cell_type": "code",
   "execution_count": null,
   "id": "563dcc39",
   "metadata": {},
   "outputs": [],
   "source": [
    "gdf['centroid'] = gdf.centroid\n",
    "gdf['centroid']"
   ]
  },
  {
   "cell_type": "markdown",
   "id": "42432427",
   "metadata": {},
   "source": [
    "### Measuring Distance"
   ]
  },
  {
   "cell_type": "markdown",
   "id": "4478aec0",
   "metadata": {},
   "source": [
    "Distance from the first point in the data to the centroid"
   ]
  },
  {
   "cell_type": "code",
   "execution_count": null,
   "id": "254ffc19",
   "metadata": {},
   "outputs": [],
   "source": [
    "first_point = gdf['centroid'].iloc[0]\n",
    "gdf['distance'] = gdf['centroid'].distance(first_point)\n",
    "gdf['distance']"
   ]
  },
  {
   "cell_type": "markdown",
   "id": "60f39609",
   "metadata": {},
   "source": [
    "Getting the average distance from our values above."
   ]
  },
  {
   "cell_type": "code",
   "execution_count": null,
   "id": "ccbc8448",
   "metadata": {},
   "outputs": [],
   "source": [
    "gdf['distance'].mean()"
   ]
  },
  {
   "cell_type": "markdown",
   "id": "35913c43",
   "metadata": {},
   "source": [
    "## Making Maps"
   ]
  },
  {
   "cell_type": "markdown",
   "id": "a203f756",
   "metadata": {},
   "source": [
    "GeoPandas can generate maps based on the geometries in the dataset."
   ]
  },
  {
   "cell_type": "code",
   "execution_count": null,
   "id": "db8deb6f",
   "metadata": {},
   "outputs": [],
   "source": [
    "gdf.plot(\"area\", legend=True)"
   ]
  },
  {
   "cell_type": "markdown",
   "id": "ff846723",
   "metadata": {},
   "source": [
    "You can even make interactive maps that allow you to layer data over an existing map using explore instead of plot"
   ]
  },
  {
   "cell_type": "code",
   "execution_count": null,
   "id": "b0813ad1",
   "metadata": {},
   "outputs": [],
   "source": [
    "gdf.explore(\"area\", legend=False)"
   ]
  },
  {
   "cell_type": "markdown",
   "id": "d123b807",
   "metadata": {},
   "source": [
    "We can change the geometry we are plotting to centroids if we only want to plot the center of our shapes"
   ]
  },
  {
   "cell_type": "code",
   "execution_count": null,
   "id": "2f8a7997",
   "metadata": {},
   "outputs": [],
   "source": [
    "gdf = gdf.set_geometry(\"centroid\")\n",
    "gdf.plot(\"area\", legend=True)"
   ]
  },
  {
   "cell_type": "markdown",
   "id": "d3b81025",
   "metadata": {},
   "source": [
    "This allows us to plot different layers with both the polygons and the centroids on the same map"
   ]
  },
  {
   "cell_type": "code",
   "execution_count": null,
   "id": "d806a806",
   "metadata": {},
   "outputs": [],
   "source": [
    "ax = gdf[\"geometry\"].plot()\n",
    "gdf[\"centroid\"].plot(ax=ax, color=\"black\")"
   ]
  },
  {
   "cell_type": "code",
   "execution_count": null,
   "id": "fcfc6ca3",
   "metadata": {},
   "outputs": [],
   "source": [
    "gdf = gdf.set_geometry(\"geometry\")"
   ]
  },
  {
   "cell_type": "markdown",
   "id": "89cad29f",
   "metadata": {},
   "source": [
    "### Modifying Polygons"
   ]
  },
  {
   "cell_type": "markdown",
   "id": "79bc5dde",
   "metadata": {},
   "source": [
    "We can round out our polygons by creating a \"convex hull\" around our polygon"
   ]
  },
  {
   "cell_type": "code",
   "execution_count": null,
   "id": "201e68fa",
   "metadata": {},
   "outputs": [],
   "source": [
    "gdf[\"convex_hull\"] = gdf.convex_hull"
   ]
  },
  {
   "cell_type": "code",
   "execution_count": null,
   "id": "4b886713",
   "metadata": {},
   "outputs": [],
   "source": [
    "ax = gdf[\"convex_hull\"].plot(alpha=.5)  # saving the first plot as an axis and setting alpha (transparency) to 0.5\n",
    "gdf[\"boundary\"].plot(ax=ax, color=\"white\", linewidth=.5);  # passing the first plot and setting linewitdth to 0.5"
   ]
  },
  {
   "cell_type": "markdown",
   "id": "bce6fcd9",
   "metadata": {},
   "source": [
    "### Buffering"
   ]
  },
  {
   "cell_type": "markdown",
   "id": "f5405d5a",
   "metadata": {},
   "source": [
    "We might want to add buffers to our polygons."
   ]
  },
  {
   "cell_type": "code",
   "execution_count": null,
   "id": "9e274781",
   "metadata": {},
   "outputs": [],
   "source": [
    "# buffering the active geometry by 10 000 feet (geometry is already in feet)\n",
    "gdf[\"buffered\"] = gdf.buffer(10000)\n",
    "\n",
    "# buffering the centroid geometry by 10 000 feet (geometry is already in feet)\n",
    "gdf[\"buffered_centroid\"] = gdf[\"centroid\"].buffer(10000)"
   ]
  },
  {
   "cell_type": "code",
   "execution_count": null,
   "id": "8444453c",
   "metadata": {},
   "outputs": [],
   "source": [
    "ax = gdf[\"buffered\"].plot(alpha=.5)  # saving the first plot as an axis and setting alpha (transparency) to 0.5\n",
    "gdf[\"buffered_centroid\"].plot(ax=ax, color=\"red\", alpha=.5)  # passing the first plot as an axis to the second\n",
    "gdf[\"boundary\"].plot(ax=ax, color=\"white\", linewidth=.5)  # passing the first plot and setting linewitdth to 0.5"
   ]
  },
  {
   "cell_type": "markdown",
   "id": "12dee7e4",
   "metadata": {},
   "source": [
    "## Geometry Relations"
   ]
  },
  {
   "cell_type": "markdown",
   "id": "042859e9",
   "metadata": {},
   "source": [
    "We can also use our geometries to check for relations between them. For example, we might want to check on intersections or nearby entities."
   ]
  },
  {
   "cell_type": "markdown",
   "id": "593be35c",
   "metadata": {},
   "source": [
    "First we need to isolate the geometry we want to look at - in this case Brooklyn"
   ]
  },
  {
   "cell_type": "code",
   "execution_count": null,
   "id": "24136785",
   "metadata": {},
   "outputs": [],
   "source": [
    "brooklyn = gdf.loc[\"Brooklyn\", \"geometry\"]\n",
    "brooklyn"
   ]
  },
  {
   "cell_type": "code",
   "execution_count": null,
   "id": "e6f76c4b",
   "metadata": {},
   "outputs": [],
   "source": [
    "type(brooklyn)"
   ]
  },
  {
   "cell_type": "markdown",
   "id": "9d35738d",
   "metadata": {},
   "source": [
    "Now we can check if any of the other geometries intersect the buffer region around Brooklyn"
   ]
  },
  {
   "cell_type": "code",
   "execution_count": null,
   "id": "644bcb74",
   "metadata": {},
   "outputs": [],
   "source": [
    "gdf[\"buffered\"].intersects(brooklyn)"
   ]
  },
  {
   "cell_type": "markdown",
   "id": "d565bfed",
   "metadata": {},
   "source": [
    "This means that only the Bronx fails to intersect with the buffer zone (10,000 ft) around Brooklyn."
   ]
  },
  {
   "cell_type": "markdown",
   "id": "60fd30ec",
   "metadata": {},
   "source": [
    "We can also look at the centroids and see if the buffered centroids are within their polygon."
   ]
  },
  {
   "cell_type": "code",
   "execution_count": null,
   "id": "e931707b",
   "metadata": {},
   "outputs": [],
   "source": [
    "gdf[\"within\"] = gdf[\"buffered_centroid\"].within(gdf)\n",
    "gdf[\"within\"]"
   ]
  },
  {
   "cell_type": "markdown",
   "id": "77202771",
   "metadata": {},
   "source": [
    "Plotting to confirm our results (this could be practical when looking at a state like Hawaii to see if the centroid is with in some distance of the shore)"
   ]
  },
  {
   "cell_type": "code",
   "execution_count": null,
   "id": "56b7b3d7",
   "metadata": {},
   "outputs": [],
   "source": [
    "gdf = gdf.set_geometry(\"buffered_centroid\")\n",
    "ax = gdf.plot(\"within\", legend=True, categorical=True, legend_kwds={'loc': \"upper left\"})  # using categorical plot and setting the position of the legend\n",
    "gdf[\"boundary\"].plot(ax=ax, color=\"black\", linewidth=.5);  # passing the first plot and setting linewitdth to 0.5"
   ]
  },
  {
   "cell_type": "markdown",
   "id": "8db0efcb",
   "metadata": {},
   "source": [
    "## More on Mapping"
   ]
  },
  {
   "cell_type": "markdown",
   "id": "2da7489a",
   "metadata": {},
   "source": [
    "We might want to make more types of maps. Here are some examples of ways we can manipulate maps."
   ]
  },
  {
   "cell_type": "markdown",
   "id": "47451bf2",
   "metadata": {},
   "source": [
    "### Load Global Data"
   ]
  },
  {
   "cell_type": "code",
   "execution_count": null,
   "id": "b3541bf4",
   "metadata": {},
   "outputs": [],
   "source": [
    "world = geopandas.read_file(geopandas.datasets.get_path('naturalearth_lowres'))"
   ]
  },
  {
   "cell_type": "code",
   "execution_count": null,
   "id": "06050bc3",
   "metadata": {},
   "outputs": [],
   "source": [
    "cities = geopandas.read_file(geopandas.datasets.get_path('naturalearth_cities'))"
   ]
  },
  {
   "cell_type": "code",
   "execution_count": null,
   "id": "2c096505",
   "metadata": {},
   "outputs": [],
   "source": [
    "world.head()"
   ]
  },
  {
   "cell_type": "code",
   "execution_count": null,
   "id": "45d6f493",
   "metadata": {},
   "outputs": [],
   "source": [
    "world.plot()"
   ]
  },
  {
   "cell_type": "markdown",
   "id": "a27ea5ac",
   "metadata": {},
   "source": [
    "### Choropleth Maps"
   ]
  },
  {
   "cell_type": "markdown",
   "id": "f6b3eb96",
   "metadata": {},
   "source": [
    "These are maps based on a variable. First we'll filter out some of the data that we don't care about (Antarctica, uninhabitated land)."
   ]
  },
  {
   "cell_type": "code",
   "execution_count": null,
   "id": "7849dcd6",
   "metadata": {},
   "outputs": [],
   "source": [
    "world = world[(world.pop_est>0) & (world.name!=\"Antarctica\")]"
   ]
  },
  {
   "cell_type": "markdown",
   "id": "8d16e4aa",
   "metadata": {},
   "source": [
    "Next we divide GDP (groos domestic product) by the population to generate a GDP per capita"
   ]
  },
  {
   "cell_type": "code",
   "execution_count": null,
   "id": "ec0ea69c",
   "metadata": {},
   "outputs": [],
   "source": [
    "world['gdp_per_cap'] = world.gdp_md_est / world.pop_est"
   ]
  },
  {
   "cell_type": "code",
   "execution_count": null,
   "id": "90fe6ab2",
   "metadata": {},
   "outputs": [],
   "source": [
    "world.plot(column='gdp_per_cap',figsize=(12,6))"
   ]
  },
  {
   "cell_type": "code",
   "execution_count": null,
   "id": "ca6f9ad6",
   "metadata": {},
   "outputs": [],
   "source": [
    "world.sort_values(by='gdp_per_cap',ascending=False)"
   ]
  },
  {
   "cell_type": "markdown",
   "id": "1dab0e02",
   "metadata": {},
   "source": [
    "### Adding Legends"
   ]
  },
  {
   "cell_type": "markdown",
   "id": "9d1a407f",
   "metadata": {},
   "source": [
    "We can add legends to our map using matplotlib."
   ]
  },
  {
   "cell_type": "code",
   "execution_count": null,
   "id": "011d4244",
   "metadata": {},
   "outputs": [],
   "source": [
    "import matplotlib.pyplot as plt"
   ]
  },
  {
   "cell_type": "code",
   "execution_count": null,
   "id": "d6fa2be2",
   "metadata": {},
   "outputs": [],
   "source": [
    "fig, ax = plt.subplots(1, 1)\n",
    "\n",
    "world.plot(column='pop_est', ax=ax, legend=True)"
   ]
  },
  {
   "cell_type": "code",
   "execution_count": null,
   "id": "2808ca9e",
   "metadata": {},
   "outputs": [],
   "source": [
    "from mpl_toolkits.axes_grid1 import make_axes_locatable\n",
    "\n",
    "fig, ax = plt.subplots(1, 1)\n",
    "\n",
    "divider = make_axes_locatable(ax)\n",
    "\n",
    "cax = divider.append_axes(\"right\", size=\"5%\", pad=0.1)\n",
    "\n",
    "world.plot(column='pop_est', ax=ax, legend=True, cax=cax)\n"
   ]
  },
  {
   "cell_type": "code",
   "execution_count": null,
   "id": "8d0a0738",
   "metadata": {},
   "outputs": [],
   "source": [
    "import matplotlib.pyplot as plt\n",
    "\n",
    "fig, ax = plt.subplots(1, 1)\n",
    "\n",
    "world.plot(column='pop_est',\n",
    "            ax=ax,\n",
    "            legend=True,\n",
    "            legend_kwds={'label': \"Population by Country\",\n",
    "                         'orientation': \"horizontal\"});"
   ]
  },
  {
   "cell_type": "markdown",
   "id": "df3267b6",
   "metadata": {},
   "source": [
    "### Adding Colors"
   ]
  },
  {
   "cell_type": "markdown",
   "id": "020603ee",
   "metadata": {},
   "source": [
    "We can use color maps (cmap) to change the color scheme of our map. For more colormap options, check out the [documentation](https://matplotlib.org/2.0.2/users/colormaps.html)."
   ]
  },
  {
   "cell_type": "code",
   "execution_count": null,
   "id": "c36666da",
   "metadata": {},
   "outputs": [],
   "source": [
    "world.plot(column='gdp_per_cap', cmap='nipy_spectral',figsize=(12,6))"
   ]
  },
  {
   "cell_type": "markdown",
   "id": "07c134d1",
   "metadata": {},
   "source": [
    "We can also just plot the boundaries of our polygons"
   ]
  },
  {
   "cell_type": "code",
   "execution_count": null,
   "id": "6421871a",
   "metadata": {},
   "outputs": [],
   "source": [
    "world.boundary.plot()"
   ]
  },
  {
   "cell_type": "markdown",
   "id": "a7a429a3",
   "metadata": {},
   "source": [
    "We can use different schemes (here we use quantiles) to classify our map into colors. "
   ]
  },
  {
   "cell_type": "code",
   "execution_count": null,
   "id": "b82818f0",
   "metadata": {},
   "outputs": [],
   "source": [
    "world.plot(column='gdp_per_cap', cmap='nipy_spectral', scheme='quantiles')"
   ]
  },
  {
   "cell_type": "markdown",
   "id": "16437a42",
   "metadata": {},
   "source": [
    "### Missing Data"
   ]
  },
  {
   "cell_type": "markdown",
   "id": "5ab0a91e",
   "metadata": {},
   "source": [
    "GeoPandas will ignore missing data by default but you can force it to fill in that missing data if you want using the missing keywords argument"
   ]
  },
  {
   "cell_type": "code",
   "execution_count": null,
   "id": "bd2264db",
   "metadata": {},
   "outputs": [],
   "source": [
    "import numpy as np\n",
    "\n",
    "world.loc[np.random.choice(world.index, 40), 'pop_est'] = np.nan\n",
    "\n",
    "world.plot(column='pop_est');"
   ]
  },
  {
   "cell_type": "code",
   "execution_count": null,
   "id": "867f0cdc",
   "metadata": {},
   "outputs": [],
   "source": [
    "world.plot(column='pop_est', missing_kwds={'color': 'lightgrey'});\n",
    "\n",
    "world.plot(\n",
    "     column=\"pop_est\",\n",
    "     legend=True,\n",
    "     scheme=\"quantiles\",\n",
    "     figsize=(15, 10),\n",
    "     missing_kwds={\n",
    "         \"color\": \"lightgrey\",\n",
    "         \"edgecolor\": \"red\",\n",
    "         \"hatch\": \"///\",\n",
    "         \"label\": \"Missing values\",\n",
    "     },\n",
    " );"
   ]
  },
  {
   "cell_type": "markdown",
   "id": "afc39a83",
   "metadata": {},
   "source": [
    "### Other Customizations"
   ]
  },
  {
   "cell_type": "markdown",
   "id": "0e33cff2",
   "metadata": {},
   "source": [
    "We can turn off the axes for a cleaner map"
   ]
  },
  {
   "cell_type": "code",
   "execution_count": null,
   "id": "db2a5e27",
   "metadata": {},
   "outputs": [],
   "source": [
    "ax = world.plot()\n",
    "\n",
    "ax.set_axis_off();"
   ]
  },
  {
   "cell_type": "markdown",
   "id": "40d6bc81",
   "metadata": {},
   "source": [
    "## Maps with Layers"
   ]
  },
  {
   "cell_type": "markdown",
   "id": "99b79b7e",
   "metadata": {},
   "source": [
    "We can combine maps of different things to make a layered map. Here we've done it with our world map and global cities"
   ]
  },
  {
   "cell_type": "code",
   "execution_count": null,
   "id": "3fb25936",
   "metadata": {},
   "outputs": [],
   "source": [
    "cities.plot(marker='*', color='green', markersize=7)\n",
    "\n",
    "cities = cities.to_crs(world.crs)"
   ]
  },
  {
   "cell_type": "code",
   "execution_count": null,
   "id": "88d52696",
   "metadata": {},
   "outputs": [],
   "source": [
    "cities"
   ]
  },
  {
   "cell_type": "code",
   "execution_count": null,
   "id": "240a0489",
   "metadata": {},
   "outputs": [],
   "source": [
    "base = world.plot(color='white', edgecolor='black')\n",
    "\n",
    "cities.plot(ax=base, marker='*', color='green', markersize=10)"
   ]
  },
  {
   "cell_type": "markdown",
   "id": "f9c284ef",
   "metadata": {},
   "source": [
    "## Using Pandas and GeoPandas"
   ]
  },
  {
   "cell_type": "code",
   "execution_count": null,
   "id": "8d56780e",
   "metadata": {},
   "outputs": [],
   "source": [
    "import pandas as pd"
   ]
  },
  {
   "cell_type": "markdown",
   "id": "e8d79350",
   "metadata": {},
   "source": [
    "### Read in Shape File"
   ]
  },
  {
   "cell_type": "markdown",
   "id": "1886fd42",
   "metadata": {},
   "source": [
    "When reading in a shape file, you actually need the reference files in the same directory as the shape file. This means you need a .shp as well as .shx, .dpf, and .prj files with the same names."
   ]
  },
  {
   "cell_type": "code",
   "execution_count": null,
   "id": "dff18f3e",
   "metadata": {},
   "outputs": [],
   "source": [
    "usa = geopandas.read_file('../data/s_22mr22.shp')\n",
    "\n",
    "usa.head()"
   ]
  },
  {
   "cell_type": "code",
   "execution_count": null,
   "id": "5a95d34a",
   "metadata": {},
   "outputs": [],
   "source": [
    "usa['geometry'][42]"
   ]
  },
  {
   "cell_type": "code",
   "execution_count": null,
   "id": "9aad6753",
   "metadata": {},
   "outputs": [],
   "source": [
    "usa[usa['STATE'] == 'TX'].plot();"
   ]
  },
  {
   "cell_type": "markdown",
   "id": "fcfd8987",
   "metadata": {},
   "source": [
    "### Load Pandas"
   ]
  },
  {
   "cell_type": "markdown",
   "id": "e89349f1",
   "metadata": {},
   "source": [
    "Here we pull in our state facts data set to combine it with the state geometry data."
   ]
  },
  {
   "cell_type": "code",
   "execution_count": null,
   "id": "e314118c",
   "metadata": {},
   "outputs": [],
   "source": [
    "facts = pd.read_csv('../data/state_facts.tsv', delimiter='\\t')"
   ]
  },
  {
   "cell_type": "code",
   "execution_count": null,
   "id": "59e42fd4",
   "metadata": {},
   "outputs": [],
   "source": [
    "dates = pd.read_csv('../data/state_dates.tsv', delimiter='\\t')"
   ]
  },
  {
   "cell_type": "code",
   "execution_count": null,
   "id": "e953eca2",
   "metadata": {},
   "outputs": [],
   "source": [
    "facts.head()"
   ]
  },
  {
   "cell_type": "code",
   "execution_count": null,
   "id": "29d63f20",
   "metadata": {},
   "outputs": [],
   "source": [
    "facts['USPS_code']=facts['USPS_code'].apply(lambda x: x.strip()) #trim off whitespace to make the abbreviations match\n",
    "dates['Abbreviation']=dates['Abbreviation'].apply(lambda x: x.strip()) #trim off whitespace to make the abbreviations match"
   ]
  },
  {
   "cell_type": "markdown",
   "id": "649a0efc",
   "metadata": {},
   "source": [
    "### Merge Pandas and GeoPandas"
   ]
  },
  {
   "cell_type": "code",
   "execution_count": null,
   "id": "d03f01c1",
   "metadata": {},
   "outputs": [],
   "source": [
    "dates.columns"
   ]
  },
  {
   "cell_type": "code",
   "execution_count": null,
   "id": "ccb55232",
   "metadata": {},
   "outputs": [],
   "source": [
    "merged = pd.merge(facts,dates, left_on='USPS_code', right_on='Abbreviation', how='left')"
   ]
  },
  {
   "cell_type": "code",
   "execution_count": null,
   "id": "d5b06b80",
   "metadata": {},
   "outputs": [],
   "source": [
    "merged = pd.merge(merged,usa, left_on='USPS_code', right_on='STATE', how='left')\n",
    "merged['State_bird'] = merged['State_bird'].str.strip()"
   ]
  },
  {
   "cell_type": "code",
   "execution_count": null,
   "id": "3e5dc83e",
   "metadata": {},
   "outputs": [],
   "source": [
    "merged.head()"
   ]
  },
  {
   "cell_type": "code",
   "execution_count": null,
   "id": "ac3a4922",
   "metadata": {},
   "outputs": [],
   "source": [
    "gdf = geopandas.GeoDataFrame(merged)"
   ]
  },
  {
   "cell_type": "markdown",
   "id": "a037630c",
   "metadata": {},
   "source": [
    "Now we can filter using conditions like we are familar with when working with pandas."
   ]
  },
  {
   "cell_type": "code",
   "execution_count": null,
   "id": "d0bc52ab",
   "metadata": {},
   "outputs": [],
   "source": [
    "gdf[gdf['Pop_2020']>5000000].plot()"
   ]
  },
  {
   "cell_type": "code",
   "execution_count": null,
   "id": "df897260",
   "metadata": {},
   "outputs": [],
   "source": [
    "gdf[gdf['State_bird']==(\"Northern cardinal\")].plot(column='Pop_2020',cmap='nipy_spectral')"
   ]
  },
  {
   "cell_type": "code",
   "execution_count": null,
   "id": "f5a144e4",
   "metadata": {},
   "outputs": [],
   "source": [
    "ax = gdf[gdf['State_bird']==(\"Northern cardinal\")].plot(column='Pop_2020',cmap='nipy_spectral', scheme='quantiles', legend=True);\n",
    "\n",
    "ax.set_axis_off();"
   ]
  },
  {
   "cell_type": "code",
   "execution_count": null,
   "id": "bfaf463c",
   "metadata": {},
   "outputs": [],
   "source": [
    "ax = gdf[(~gdf['State_flower'].str.contains('a'))&(gdf['Status']=='State')&(gdf['USPS_code']!='AK')].plot(column='Pop_2020',cmap='nipy_spectral', scheme='quantiles', legend=False);\n",
    "\n",
    "ax.set_axis_off();"
   ]
  },
  {
   "cell_type": "code",
   "execution_count": null,
   "id": "06c7410e",
   "metadata": {},
   "outputs": [],
   "source": [
    "gdf[(~gdf['State_flower'].str.contains('a'))&(gdf['USPS_code']!='AK')&(gdf['Status']=='State')].explore(column='Pop_2020',cmap='nipy_spectral', scheme='quantiles', legend=False)"
   ]
  }
 ],
 "metadata": {
  "jupytext": {
   "formats": "ipynb"
  },
  "kernelspec": {
   "display_name": "Python 3 (ipykernel)",
   "language": "python",
   "name": "python3"
  }
 },
 "nbformat": 4,
 "nbformat_minor": 5
}

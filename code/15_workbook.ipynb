{
 "cells": [
  {
   "cell_type": "markdown",
   "id": "0a80c7a3",
   "metadata": {},
   "source": [
    "# GeoPandas and Mapping in Python"
   ]
  },
  {
   "cell_type": "markdown",
   "id": "63f4ec66",
   "metadata": {},
   "source": [
    "A large portion of this tutorial was derived from the GeoPandas [user guide](https://geopandas.org/en/stable/docs/user_guide/mapping.html) and [introduction](https://geopandas.org/en/stable/getting_started/introduction.html)."
   ]
  },
  {
   "cell_type": "markdown",
   "id": "1cef610c",
   "metadata": {},
   "source": [
    "## Getting Started - Boroughs of NYC"
   ]
  },
  {
   "cell_type": "markdown",
   "id": "fce362e8",
   "metadata": {},
   "source": [
    "One commmon way to visualize and interact with data is to use spatial information in the data to generate maps. In order to do that, we need to build out shapes (called geometries) in our data set.\n",
    "\n",
    "GeoPandas is an extension of pandas that allows us to include functionality for working with these geometries and perform analyses using that data."
   ]
  },
  {
   "cell_type": "markdown",
   "id": "d2be13c0",
   "metadata": {},
   "source": [
    "To start we need some data. In this tutorial, we'll use a few built in data sets but we will also load data from external shape files."
   ]
  },
  {
   "cell_type": "code",
   "execution_count": null,
   "id": "aa9baacf",
   "metadata": {},
   "outputs": [],
   "source": [
    "import geopandas\n",
    "\n",
    "%config InlineBackend.figure_format ='retina'"
   ]
  },
  {
   "cell_type": "markdown",
   "id": "e63e8369",
   "metadata": {},
   "source": [
    "### Reading Files"
   ]
  },
  {
   "cell_type": "code",
   "execution_count": null,
   "id": "98569f31",
   "metadata": {},
   "outputs": [],
   "source": [
    "path_to_data = geopandas.datasets.get_path(\"nybb\")\n",
    "gdf = geopandas.read_file(path_to_data)\n",
    "gdf"
   ]
  },
  {
   "cell_type": "markdown",
   "id": "3f4ed1fd",
   "metadata": {},
   "source": [
    "### Writing Files"
   ]
  },
  {
   "cell_type": "code",
   "execution_count": null,
   "id": "aacedab9",
   "metadata": {},
   "outputs": [],
   "source": [
    "gdf.to_file(\"my_file.geojson\", driver=\"GeoJSON\")"
   ]
  },
  {
   "cell_type": "markdown",
   "id": "c460256c",
   "metadata": {},
   "source": [
    "### Getting Features"
   ]
  },
  {
   "cell_type": "code",
   "execution_count": null,
   "id": "fee4d963",
   "metadata": {},
   "outputs": [],
   "source": [
    "gdf = gdf.set_index(\"BoroName\") #resetting the name of the boroughs as the index"
   ]
  },
  {
   "cell_type": "markdown",
   "id": "8da9ad14",
   "metadata": {},
   "source": [
    "Getting the area of the polygon"
   ]
  },
  {
   "cell_type": "code",
   "execution_count": null,
   "id": "23be2e2b",
   "metadata": {},
   "outputs": [],
   "source": [
    "gdf[\"area\"] = gdf.area\n",
    "gdf[\"area\"]"
   ]
  },
  {
   "cell_type": "markdown",
   "id": "53b48f70",
   "metadata": {},
   "source": [
    "Getting the boundary of the polygon"
   ]
  },
  {
   "cell_type": "code",
   "execution_count": null,
   "id": "f9eda7dc",
   "metadata": {},
   "outputs": [],
   "source": [
    "gdf['boundary'] = gdf.boundary\n",
    "gdf['boundary']"
   ]
  },
  {
   "cell_type": "markdown",
   "id": "d45e5b6f",
   "metadata": {},
   "source": [
    "Getting the centroid (average x and y values) of the polygon"
   ]
  },
  {
   "cell_type": "code",
   "execution_count": null,
   "id": "dcc185c7",
   "metadata": {},
   "outputs": [],
   "source": [
    "gdf['centroid'] = gdf.centroid\n",
    "gdf['centroid']"
   ]
  },
  {
   "cell_type": "markdown",
   "id": "463897b4",
   "metadata": {},
   "source": [
    "### Measuring Distance"
   ]
  },
  {
   "cell_type": "markdown",
   "id": "5ef4e565",
   "metadata": {},
   "source": [
    "Distance from the first point in the data to the centroid"
   ]
  },
  {
   "cell_type": "code",
   "execution_count": null,
   "id": "8681be62",
   "metadata": {},
   "outputs": [],
   "source": [
    "first_point = gdf['centroid'].iloc[0]\n",
    "gdf['distance'] = gdf['centroid'].distance(first_point)\n",
    "gdf['distance']"
   ]
  },
  {
   "cell_type": "markdown",
   "id": "c80bade9",
   "metadata": {},
   "source": [
    "Getting the average distance from our values above."
   ]
  },
  {
   "cell_type": "code",
   "execution_count": null,
   "id": "2fa92ed8",
   "metadata": {},
   "outputs": [],
   "source": [
    "gdf['distance'].mean()"
   ]
  },
  {
   "cell_type": "markdown",
   "id": "883d2ca8",
   "metadata": {},
   "source": [
    "## Making Maps"
   ]
  },
  {
   "cell_type": "markdown",
   "id": "a13b238f",
   "metadata": {},
   "source": [
    "GeoPandas can generate maps based on the geometries in the dataset."
   ]
  },
  {
   "cell_type": "code",
   "execution_count": null,
   "id": "b643dd23",
   "metadata": {},
   "outputs": [],
   "source": [
    "gdf.plot(\"area\", legend=True)"
   ]
  },
  {
   "cell_type": "markdown",
   "id": "8067b8a6",
   "metadata": {},
   "source": [
    "You can even make interactive maps that allow you to layer data over an existing map using explore instead of plot"
   ]
  },
  {
   "cell_type": "code",
   "execution_count": null,
   "id": "ff2d201c",
   "metadata": {},
   "outputs": [],
   "source": [
    "gdf.explore(\"area\", legend=False)"
   ]
  },
  {
   "cell_type": "markdown",
   "id": "ce5cf915",
   "metadata": {},
   "source": [
    "We can change the geometry we are plotting to centroids if we only want to plot the center of our shapes"
   ]
  },
  {
   "cell_type": "code",
   "execution_count": null,
   "id": "10c3787c",
   "metadata": {},
   "outputs": [],
   "source": [
    "gdf = gdf.set_geometry(\"centroid\")\n",
    "gdf.plot(\"area\", legend=True)"
   ]
  },
  {
   "cell_type": "markdown",
   "id": "e755fb7e",
   "metadata": {},
   "source": [
    "This allows us to plot different layers with both the polygons and the centroids on the same map"
   ]
  },
  {
   "cell_type": "code",
   "execution_count": null,
   "id": "fabf92f8",
   "metadata": {},
   "outputs": [],
   "source": [
    "ax = gdf[\"geometry\"].plot()\n",
    "gdf[\"centroid\"].plot(ax=ax, color=\"black\")"
   ]
  },
  {
   "cell_type": "code",
   "execution_count": null,
   "id": "0a01b370",
   "metadata": {},
   "outputs": [],
   "source": [
    "gdf = gdf.set_geometry(\"geometry\")"
   ]
  },
  {
   "cell_type": "markdown",
   "id": "ea6c6a31",
   "metadata": {},
   "source": [
    "### Modifying Polygons"
   ]
  },
  {
   "cell_type": "markdown",
   "id": "326816d5",
   "metadata": {},
   "source": [
    "We can round out our polygons by creating a \"convex hull\" around our polygon"
   ]
  },
  {
   "cell_type": "code",
   "execution_count": null,
   "id": "44f25a24",
   "metadata": {},
   "outputs": [],
   "source": [
    "gdf[\"convex_hull\"] = gdf.convex_hull"
   ]
  },
  {
   "cell_type": "code",
   "execution_count": null,
   "id": "a5e2b96f",
   "metadata": {},
   "outputs": [],
   "source": [
    "ax = gdf[\"convex_hull\"].plot(alpha=.5)  # saving the first plot as an axis and setting alpha (transparency) to 0.5\n",
    "gdf[\"boundary\"].plot(ax=ax, color=\"white\", linewidth=.5);  # passing the first plot and setting linewitdth to 0.5"
   ]
  },
  {
   "cell_type": "markdown",
   "id": "86448f57",
   "metadata": {},
   "source": [
    "### Buffering"
   ]
  },
  {
   "cell_type": "markdown",
   "id": "f16de65c",
   "metadata": {},
   "source": [
    "We might want to add buffers to our polygons."
   ]
  },
  {
   "cell_type": "code",
   "execution_count": null,
   "id": "0e101b30",
   "metadata": {},
   "outputs": [],
   "source": [
    "# buffering the active geometry by 10 000 feet (geometry is already in feet)\n",
    "gdf[\"buffered\"] = gdf.buffer(10000)\n",
    "\n",
    "# buffering the centroid geometry by 10 000 feet (geometry is already in feet)\n",
    "gdf[\"buffered_centroid\"] = gdf[\"centroid\"].buffer(10000)"
   ]
  },
  {
   "cell_type": "code",
   "execution_count": null,
   "id": "99f91ad3",
   "metadata": {},
   "outputs": [],
   "source": [
    "ax = gdf[\"buffered\"].plot(alpha=.5)  # saving the first plot as an axis and setting alpha (transparency) to 0.5\n",
    "gdf[\"buffered_centroid\"].plot(ax=ax, color=\"red\", alpha=.5)  # passing the first plot as an axis to the second\n",
    "gdf[\"boundary\"].plot(ax=ax, color=\"white\", linewidth=.5)  # passing the first plot and setting linewitdth to 0.5"
   ]
  },
  {
   "cell_type": "markdown",
   "id": "5a88d340",
   "metadata": {},
   "source": [
    "## Geometry Relations"
   ]
  },
  {
   "cell_type": "markdown",
   "id": "f15fbee3",
   "metadata": {},
   "source": [
    "We can also use our geometries to check for relations between them. For example, we might want to check on intersections or nearby entities."
   ]
  },
  {
   "cell_type": "markdown",
   "id": "a6b136e9",
   "metadata": {},
   "source": [
    "First we need to isolate the geometry we want to look at - in this case Brooklyn"
   ]
  },
  {
   "cell_type": "code",
   "execution_count": null,
   "id": "e660f2df",
   "metadata": {},
   "outputs": [],
   "source": [
    "brooklyn = gdf.loc[\"Brooklyn\", \"geometry\"]\n",
    "brooklyn"
   ]
  },
  {
   "cell_type": "code",
   "execution_count": null,
   "id": "4906e1d3",
   "metadata": {},
   "outputs": [],
   "source": [
    "type(brooklyn)"
   ]
  },
  {
   "cell_type": "markdown",
   "id": "503ea86f",
   "metadata": {},
   "source": [
    "Now we can check if any of the other geometries intersect the buffer region around Brooklyn"
   ]
  },
  {
   "cell_type": "code",
   "execution_count": null,
   "id": "63e2e321",
   "metadata": {},
   "outputs": [],
   "source": [
    "gdf[\"buffered\"].intersects(brooklyn)"
   ]
  },
  {
   "cell_type": "markdown",
   "id": "2017d3fb",
   "metadata": {},
   "source": [
    "This means that only the Bronx fails to intersect with the buffer zone (10,000 ft) around Brooklyn."
   ]
  },
  {
   "cell_type": "markdown",
   "id": "4f0f0f40",
   "metadata": {},
   "source": [
    "We can also look at the centroids and see if the buffered centroids are within their polygon."
   ]
  },
  {
   "cell_type": "code",
   "execution_count": null,
   "id": "d65a1da3",
   "metadata": {},
   "outputs": [],
   "source": [
    "gdf[\"within\"] = gdf[\"buffered_centroid\"].within(gdf)\n",
    "gdf[\"within\"]"
   ]
  },
  {
   "cell_type": "markdown",
   "id": "0d94acb2",
   "metadata": {},
   "source": [
    "Plotting to confirm our results (this could be practical when looking at a state like Hawaii to see if the centroid is with in some distance of the shore)"
   ]
  },
  {
   "cell_type": "code",
   "execution_count": null,
   "id": "89bae5bf",
   "metadata": {},
   "outputs": [],
   "source": [
    "gdf = gdf.set_geometry(\"buffered_centroid\")\n",
    "ax = gdf.plot(\"within\", legend=True, categorical=True, legend_kwds={'loc': \"upper left\"})  # using categorical plot and setting the position of the legend\n",
    "gdf[\"boundary\"].plot(ax=ax, color=\"black\", linewidth=.5);  # passing the first plot and setting linewitdth to 0.5"
   ]
  },
  {
   "cell_type": "markdown",
   "id": "2a651c82",
   "metadata": {},
   "source": [
    "## More on Mapping"
   ]
  },
  {
   "cell_type": "markdown",
   "id": "3d7d0294",
   "metadata": {},
   "source": [
    "We might want to make more types of maps. Here are some examples of ways we can manipulate maps."
   ]
  },
  {
   "cell_type": "markdown",
   "id": "6c3aee69",
   "metadata": {},
   "source": [
    "### Load Global Data"
   ]
  },
  {
   "cell_type": "code",
   "execution_count": null,
   "id": "3df540b3",
   "metadata": {},
   "outputs": [],
   "source": [
    "world = geopandas.read_file(geopandas.datasets.get_path('naturalearth_lowres'))"
   ]
  },
  {
   "cell_type": "code",
   "execution_count": null,
   "id": "7ce12340",
   "metadata": {},
   "outputs": [],
   "source": [
    "cities = geopandas.read_file(geopandas.datasets.get_path('naturalearth_cities'))"
   ]
  },
  {
   "cell_type": "code",
   "execution_count": null,
   "id": "76c0e58f",
   "metadata": {},
   "outputs": [],
   "source": [
    "world.head()"
   ]
  },
  {
   "cell_type": "code",
   "execution_count": null,
   "id": "ba8e29f2",
   "metadata": {},
   "outputs": [],
   "source": [
    "world.plot()"
   ]
  },
  {
   "cell_type": "markdown",
   "id": "0e5003f2",
   "metadata": {},
   "source": [
    "### Choropleth Maps"
   ]
  },
  {
   "cell_type": "markdown",
   "id": "bf821334",
   "metadata": {},
   "source": [
    "These are maps based on a variable. First we'll filter out some of the data that we don't care about (Antarctica, uninhabitated land)."
   ]
  },
  {
   "cell_type": "code",
   "execution_count": null,
   "id": "fde6546d",
   "metadata": {},
   "outputs": [],
   "source": [
    "world = world[(world.pop_est>0) & (world.name!=\"Antarctica\")]"
   ]
  },
  {
   "cell_type": "markdown",
   "id": "8396f6b8",
   "metadata": {},
   "source": [
    "Next we divide GDP (groos domestic product) by the population to generate a GDP per capita"
   ]
  },
  {
   "cell_type": "code",
   "execution_count": null,
   "id": "3183fe46",
   "metadata": {},
   "outputs": [],
   "source": [
    "world['gdp_per_cap'] = world.gdp_md_est / world.pop_est"
   ]
  },
  {
   "cell_type": "code",
   "execution_count": null,
   "id": "48babf6c",
   "metadata": {},
   "outputs": [],
   "source": [
    "world.plot(column='gdp_per_cap',figsize=(12,6))"
   ]
  },
  {
   "cell_type": "code",
   "execution_count": null,
   "id": "328c9b2b",
   "metadata": {},
   "outputs": [],
   "source": [
    "world.sort_values(by='gdp_per_cap',ascending=False)"
   ]
  },
  {
   "cell_type": "markdown",
   "id": "7e231f3b",
   "metadata": {},
   "source": [
    "### Adding Legends"
   ]
  },
  {
   "cell_type": "markdown",
   "id": "64beaab0",
   "metadata": {},
   "source": [
    "We can add legends to our map using matplotlib."
   ]
  },
  {
   "cell_type": "code",
   "execution_count": null,
   "id": "41d485f5",
   "metadata": {},
   "outputs": [],
   "source": [
    "import matplotlib.pyplot as plt"
   ]
  },
  {
   "cell_type": "code",
   "execution_count": null,
   "id": "30f7d38a",
   "metadata": {},
   "outputs": [],
   "source": [
    "fig, ax = plt.subplots(1, 1)\n",
    "\n",
    "world.plot(column='pop_est', ax=ax, legend=True)"
   ]
  },
  {
   "cell_type": "code",
   "execution_count": null,
   "id": "0c29050b",
   "metadata": {},
   "outputs": [],
   "source": [
    "from mpl_toolkits.axes_grid1 import make_axes_locatable\n",
    "\n",
    "fig, ax = plt.subplots(1, 1)\n",
    "\n",
    "divider = make_axes_locatable(ax)\n",
    "\n",
    "cax = divider.append_axes(\"right\", size=\"5%\", pad=0.1)\n",
    "\n",
    "world.plot(column='pop_est', ax=ax, legend=True, cax=cax)\n"
   ]
  },
  {
   "cell_type": "code",
   "execution_count": null,
   "id": "c7e06a4c",
   "metadata": {},
   "outputs": [],
   "source": [
    "import matplotlib.pyplot as plt\n",
    "\n",
    "fig, ax = plt.subplots(1, 1)\n",
    "\n",
    "world.plot(column='pop_est',\n",
    "            ax=ax,\n",
    "            legend=True,\n",
    "            legend_kwds={'label': \"Population by Country\",\n",
    "                         'orientation': \"horizontal\"});"
   ]
  },
  {
   "cell_type": "markdown",
   "id": "af505e9e",
   "metadata": {},
   "source": [
    "### Adding Colors"
   ]
  },
  {
   "cell_type": "markdown",
   "id": "e6faf22b",
   "metadata": {},
   "source": [
    "We can use color maps (cmap) to change the color scheme of our map. For more colormap options, check out the [documentation](https://matplotlib.org/2.0.2/users/colormaps.html)."
   ]
  },
  {
   "cell_type": "code",
   "execution_count": null,
   "id": "4fed1256",
   "metadata": {},
   "outputs": [],
   "source": [
    "world.plot(column='gdp_per_cap', cmap='nipy_spectral',figsize=(12,6))"
   ]
  },
  {
   "cell_type": "markdown",
   "id": "661c0a31",
   "metadata": {},
   "source": [
    "We can also just plot the boundaries of our polygons"
   ]
  },
  {
   "cell_type": "code",
   "execution_count": null,
   "id": "8c812a42",
   "metadata": {},
   "outputs": [],
   "source": [
    "world.boundary.plot()"
   ]
  },
  {
   "cell_type": "markdown",
   "id": "90bf6bae",
   "metadata": {},
   "source": [
    "We can use different schemes (here we use quantiles) to classify our map into colors. "
   ]
  },
  {
   "cell_type": "code",
   "execution_count": null,
   "id": "ff3a92d9",
   "metadata": {},
   "outputs": [],
   "source": [
    "world.plot(column='gdp_per_cap', cmap='nipy_spectral', scheme='quantiles')"
   ]
  },
  {
   "cell_type": "markdown",
   "id": "7c095d8c",
   "metadata": {},
   "source": [
    "### Missing Data"
   ]
  },
  {
   "cell_type": "markdown",
   "id": "875d6046",
   "metadata": {},
   "source": [
    "GeoPandas will ignore missing data by default but you can force it to fill in that missing data if you want using the missing keywords argument"
   ]
  },
  {
   "cell_type": "code",
   "execution_count": null,
   "id": "073e2fd7",
   "metadata": {},
   "outputs": [],
   "source": [
    "import numpy as np\n",
    "\n",
    "world.loc[np.random.choice(world.index, 40), 'pop_est'] = np.nan\n",
    "\n",
    "world.plot(column='pop_est');"
   ]
  },
  {
   "cell_type": "code",
   "execution_count": null,
   "id": "dd31d80f",
   "metadata": {},
   "outputs": [],
   "source": [
    "world.plot(column='pop_est', missing_kwds={'color': 'lightgrey'});\n",
    "\n",
    "world.plot(\n",
    "     column=\"pop_est\",\n",
    "     legend=True,\n",
    "     scheme=\"quantiles\",\n",
    "     figsize=(15, 10),\n",
    "     missing_kwds={\n",
    "         \"color\": \"lightgrey\",\n",
    "         \"edgecolor\": \"red\",\n",
    "         \"hatch\": \"///\",\n",
    "         \"label\": \"Missing values\",\n",
    "     },\n",
    " );"
   ]
  },
  {
   "cell_type": "markdown",
   "id": "1d8f034b",
   "metadata": {},
   "source": [
    "### Other Customizations"
   ]
  },
  {
   "cell_type": "markdown",
   "id": "bc550b14",
   "metadata": {},
   "source": [
    "We can turn off the axes for a cleaner map"
   ]
  },
  {
   "cell_type": "code",
   "execution_count": null,
   "id": "1f2ef309",
   "metadata": {},
   "outputs": [],
   "source": [
    "ax = world.plot()\n",
    "\n",
    "ax.set_axis_off();"
   ]
  },
  {
   "cell_type": "markdown",
   "id": "e5d1d9f9",
   "metadata": {},
   "source": [
    "## Maps with Layers"
   ]
  },
  {
   "cell_type": "markdown",
   "id": "9cc100f1",
   "metadata": {},
   "source": [
    "We can combine maps of different things to make a layered map. Here we've done it with our world map and global cities"
   ]
  },
  {
   "cell_type": "code",
   "execution_count": null,
   "id": "fa29714b",
   "metadata": {},
   "outputs": [],
   "source": [
    "cities.plot(marker='*', color='green', markersize=7)\n",
    "\n",
    "cities = cities.to_crs(world.crs)"
   ]
  },
  {
   "cell_type": "code",
   "execution_count": null,
   "id": "bb021e1b",
   "metadata": {},
   "outputs": [],
   "source": [
    "cities"
   ]
  },
  {
   "cell_type": "code",
   "execution_count": null,
   "id": "68d8c499",
   "metadata": {},
   "outputs": [],
   "source": [
    "base = world.plot(color='white', edgecolor='black')\n",
    "\n",
    "cities.plot(ax=base, marker='*', color='green', markersize=10)"
   ]
  },
  {
   "cell_type": "markdown",
   "id": "6f043e39",
   "metadata": {},
   "source": [
    "## Using Pandas and GeoPandas"
   ]
  },
  {
   "cell_type": "code",
   "execution_count": null,
   "id": "e9e47a36",
   "metadata": {},
   "outputs": [],
   "source": [
    "import pandas as pd"
   ]
  },
  {
   "cell_type": "markdown",
   "id": "da0db532",
   "metadata": {},
   "source": [
    "### Read in Shape File"
   ]
  },
  {
   "cell_type": "markdown",
   "id": "98f3162c",
   "metadata": {},
   "source": [
    "When reading in a shape file, you actually need the reference files in the same directory as the shape file. This means you need a .shp as well as .shx, .dpf, and .prj files with the same names."
   ]
  },
  {
   "cell_type": "code",
   "execution_count": null,
   "id": "d8c37a39",
   "metadata": {},
   "outputs": [],
   "source": [
    "usa = geopandas.read_file('../data/s_22mr22.shp')\n",
    "\n",
    "usa.head()"
   ]
  },
  {
   "cell_type": "code",
   "execution_count": null,
   "id": "31a719d3",
   "metadata": {},
   "outputs": [],
   "source": [
    "usa['geometry'][42]"
   ]
  },
  {
   "cell_type": "code",
   "execution_count": null,
   "id": "c31add68",
   "metadata": {},
   "outputs": [],
   "source": [
    "usa[usa['STATE'] == 'TX'].plot();"
   ]
  },
  {
   "cell_type": "markdown",
   "id": "158da791",
   "metadata": {},
   "source": [
    "### Load Pandas"
   ]
  },
  {
   "cell_type": "markdown",
   "id": "e057ce63",
   "metadata": {},
   "source": [
    "Here we pull in our state facts data set to combine it with the state geometry data."
   ]
  },
  {
   "cell_type": "code",
   "execution_count": null,
   "id": "c666bf1e",
   "metadata": {},
   "outputs": [],
   "source": [
    "facts = pd.read_csv('../data/state_facts.tsv', delimiter='\\t')"
   ]
  },
  {
   "cell_type": "code",
   "execution_count": null,
   "id": "cdd393f6",
   "metadata": {},
   "outputs": [],
   "source": [
    "dates = pd.read_csv('../data/state_dates.tsv', delimiter='\\t')"
   ]
  },
  {
   "cell_type": "code",
   "execution_count": null,
   "id": "2a2af2f0",
   "metadata": {},
   "outputs": [],
   "source": [
    "facts.head()"
   ]
  },
  {
   "cell_type": "code",
   "execution_count": null,
   "id": "c852c191",
   "metadata": {},
   "outputs": [],
   "source": [
    "facts['USPS_code']=facts['USPS_code'].apply(lambda x: x.strip()) #trim off whitespace to make the abbreviations match\n",
    "dates['Abbreviation']=dates['Abbreviation'].apply(lambda x: x.strip()) #trim off whitespace to make the abbreviations match"
   ]
  },
  {
   "cell_type": "markdown",
   "id": "d85c1c46",
   "metadata": {},
   "source": [
    "### Merge Pandas and GeoPandas"
   ]
  },
  {
   "cell_type": "code",
   "execution_count": null,
   "id": "ff053405",
   "metadata": {},
   "outputs": [],
   "source": [
    "dates.columns"
   ]
  },
  {
   "cell_type": "code",
   "execution_count": null,
   "id": "6c8c9eb1",
   "metadata": {},
   "outputs": [],
   "source": [
    "merged = pd.merge(facts,dates, left_on='USPS_code', right_on='Abbreviation', how='left')"
   ]
  },
  {
   "cell_type": "code",
   "execution_count": null,
   "id": "322864dc",
   "metadata": {},
   "outputs": [],
   "source": [
    "merged = pd.merge(merged,usa, left_on='USPS_code', right_on='STATE', how='left')\n",
    "merged['State_bird'] = merged['State_bird'].str.strip()"
   ]
  },
  {
   "cell_type": "code",
   "execution_count": null,
   "id": "90f717e8",
   "metadata": {},
   "outputs": [],
   "source": [
    "merged.head()"
   ]
  },
  {
   "cell_type": "code",
   "execution_count": null,
   "id": "0b06abfd",
   "metadata": {},
   "outputs": [],
   "source": [
    "gdf = geopandas.GeoDataFrame(merged)"
   ]
  },
  {
   "cell_type": "markdown",
   "id": "46b68aab",
   "metadata": {},
   "source": [
    "Now we can filter using conditions like we are familar with when working with pandas."
   ]
  },
  {
   "cell_type": "code",
   "execution_count": null,
   "id": "14873333",
   "metadata": {},
   "outputs": [],
   "source": [
    "gdf[gdf['Pop_2020']>5000000].plot()"
   ]
  },
  {
   "cell_type": "code",
   "execution_count": null,
   "id": "9a51c8fd",
   "metadata": {},
   "outputs": [],
   "source": [
    "gdf[gdf['State_bird']==(\"Northern cardinal\")].plot(column='Pop_2020',cmap='nipy_spectral')"
   ]
  },
  {
   "cell_type": "code",
   "execution_count": null,
   "id": "ba894819",
   "metadata": {},
   "outputs": [],
   "source": [
    "ax = gdf[gdf['State_bird']==(\"Northern cardinal\")].plot(column='Pop_2020',cmap='nipy_spectral', scheme='quantiles', legend=True);\n",
    "\n",
    "ax.set_axis_off();"
   ]
  },
  {
   "cell_type": "code",
   "execution_count": null,
   "id": "28fb5d01",
   "metadata": {},
   "outputs": [],
   "source": [
    "ax = gdf[(~gdf['State_flower'].str.contains('a'))&(gdf['Status']=='State')&(gdf['USPS_code']!='AK')].plot(column='Pop_2020',cmap='nipy_spectral', scheme='quantiles', legend=False);\n",
    "\n",
    "ax.set_axis_off();"
   ]
  },
  {
   "cell_type": "code",
   "execution_count": null,
   "id": "cd732bab",
   "metadata": {},
   "outputs": [],
   "source": [
    "gdf[(~gdf['State_flower'].str.contains('a'))&(gdf['USPS_code']!='AK')&(gdf['Status']=='State')].explore(column='Pop_2020',cmap='nipy_spectral', scheme='quantiles', legend=False)"
   ]
  }
 ],
 "metadata": {
  "jupytext": {
   "formats": "ipynb"
  },
  "kernelspec": {
   "display_name": "Python 3 (ipykernel)",
   "language": "python",
   "name": "python3"
  }
 },
 "nbformat": 4,
 "nbformat_minor": 5
}

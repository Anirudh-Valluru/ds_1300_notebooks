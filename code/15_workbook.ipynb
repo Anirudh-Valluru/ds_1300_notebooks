{
 "cells": [
  {
   "cell_type": "markdown",
   "id": "0ecb4eb2",
   "metadata": {},
   "source": [
    "# GeoPandas and Mapping in Python"
   ]
  },
  {
   "cell_type": "markdown",
   "id": "f87eb25a",
   "metadata": {},
   "source": [
    "A large portion of this tutorial was derived from the GeoPandas [user guide](https://geopandas.org/en/stable/docs/user_guide/mapping.html) and [introduction](https://geopandas.org/en/stable/getting_started/introduction.html)."
   ]
  },
  {
   "cell_type": "markdown",
   "id": "5d1eca5c",
   "metadata": {},
   "source": [
    "## Getting Started - Boroughs of NYC"
   ]
  },
  {
   "cell_type": "markdown",
   "id": "52f37389",
   "metadata": {},
   "source": [
    "One commmon way to visualize and interact with data is to use spatial information in the data to generate maps. In order to do that, we need to build out shapes (called geometries) in our data set.\n",
    "\n",
    "GeoPandas is an extension of pandas that allows us to include functionality for working with these geometries and perform analyses using that data."
   ]
  },
  {
   "cell_type": "markdown",
   "id": "ad20a5c2",
   "metadata": {},
   "source": [
    "To start we need some data. In this tutorial, we'll use a few built in data sets but we will also load data from external shape files."
   ]
  },
  {
   "cell_type": "code",
   "execution_count": null,
   "id": "031bd0a3",
   "metadata": {},
   "outputs": [],
   "source": [
    "import geopandas\n",
    "\n",
    "%config InlineBackend.figure_format ='retina'"
   ]
  },
  {
   "cell_type": "markdown",
   "id": "7451d1b0",
   "metadata": {},
   "source": [
    "### Reading Files"
   ]
  },
  {
   "cell_type": "code",
   "execution_count": null,
   "id": "94f85658",
   "metadata": {},
   "outputs": [],
   "source": [
    "path_to_data = geopandas.datasets.get_path(\"nybb\")\n",
    "gdf = geopandas.read_file(path_to_data)\n",
    "gdf"
   ]
  },
  {
   "cell_type": "markdown",
   "id": "924caf5c",
   "metadata": {},
   "source": [
    "### Writing Files"
   ]
  },
  {
   "cell_type": "code",
   "execution_count": null,
   "id": "2efb290c",
   "metadata": {},
   "outputs": [],
   "source": [
    "gdf.to_file(\"my_file.geojson\", driver=\"GeoJSON\")"
   ]
  },
  {
   "cell_type": "markdown",
   "id": "8cb612de",
   "metadata": {},
   "source": [
    "### Getting Features"
   ]
  },
  {
   "cell_type": "code",
   "execution_count": null,
   "id": "14280bd0",
   "metadata": {},
   "outputs": [],
   "source": [
    "gdf = gdf.set_index(\"BoroName\") #resetting the name of the boroughs as the index"
   ]
  },
  {
   "cell_type": "markdown",
   "id": "b96425b1",
   "metadata": {},
   "source": [
    "Getting the area of the polygon"
   ]
  },
  {
   "cell_type": "code",
   "execution_count": null,
   "id": "122c86aa",
   "metadata": {},
   "outputs": [],
   "source": [
    "gdf[\"area\"] = gdf.area\n",
    "gdf[\"area\"]"
   ]
  },
  {
   "cell_type": "markdown",
   "id": "b4e00666",
   "metadata": {},
   "source": [
    "Getting the boundary of the polygon"
   ]
  },
  {
   "cell_type": "code",
   "execution_count": null,
   "id": "fb0aaef6",
   "metadata": {},
   "outputs": [],
   "source": [
    "gdf['boundary'] = gdf.boundary\n",
    "gdf['boundary']"
   ]
  },
  {
   "cell_type": "markdown",
   "id": "c70cabb1",
   "metadata": {},
   "source": [
    "Getting the centroid (average x and y values) of the polygon"
   ]
  },
  {
   "cell_type": "code",
   "execution_count": null,
   "id": "7b49206f",
   "metadata": {},
   "outputs": [],
   "source": [
    "gdf['centroid'] = gdf.centroid\n",
    "gdf['centroid']"
   ]
  },
  {
   "cell_type": "markdown",
   "id": "95e2cbd4",
   "metadata": {},
   "source": [
    "### Measuring Distance"
   ]
  },
  {
   "cell_type": "markdown",
   "id": "31decdca",
   "metadata": {},
   "source": [
    "Distance from the first point in the data to the centroid"
   ]
  },
  {
   "cell_type": "code",
   "execution_count": null,
   "id": "c04fd230",
   "metadata": {},
   "outputs": [],
   "source": [
    "first_point = gdf['centroid'].iloc[0]\n",
    "gdf['distance'] = gdf['centroid'].distance(first_point)\n",
    "gdf['distance']"
   ]
  },
  {
   "cell_type": "markdown",
   "id": "3071c553",
   "metadata": {},
   "source": [
    "Getting the average distance from our values above."
   ]
  },
  {
   "cell_type": "code",
   "execution_count": null,
   "id": "8503da06",
   "metadata": {},
   "outputs": [],
   "source": [
    "gdf['distance'].mean()"
   ]
  },
  {
   "cell_type": "markdown",
   "id": "c84fe929",
   "metadata": {},
   "source": [
    "## Making Maps"
   ]
  },
  {
   "cell_type": "markdown",
   "id": "75f4f868",
   "metadata": {},
   "source": [
    "GeoPandas can generate maps based on the geometries in the dataset."
   ]
  },
  {
   "cell_type": "code",
   "execution_count": null,
   "id": "2791d4f1",
   "metadata": {},
   "outputs": [],
   "source": [
    "gdf.plot(\"area\", legend=True)"
   ]
  },
  {
   "cell_type": "markdown",
   "id": "bb615b21",
   "metadata": {},
   "source": [
    "You can even make interactive maps that allow you to layer data over an existing map using explore instead of plot"
   ]
  },
  {
   "cell_type": "code",
   "execution_count": null,
   "id": "bcbff701",
   "metadata": {},
   "outputs": [],
   "source": [
    "gdf.explore(\"area\", legend=False)"
   ]
  },
  {
   "cell_type": "markdown",
   "id": "e6344860",
   "metadata": {},
   "source": [
    "We can change the geometry we are plotting to centroids if we only want to plot the center of our shapes"
   ]
  },
  {
   "cell_type": "code",
   "execution_count": null,
   "id": "61b8cbbb",
   "metadata": {},
   "outputs": [],
   "source": [
    "gdf = gdf.set_geometry(\"centroid\")\n",
    "gdf.plot(\"area\", legend=True)"
   ]
  },
  {
   "cell_type": "markdown",
   "id": "afe56e52",
   "metadata": {},
   "source": [
    "This allows us to plot different layers with both the polygons and the centroids on the same map"
   ]
  },
  {
   "cell_type": "code",
   "execution_count": null,
   "id": "a3d5c8c2",
   "metadata": {},
   "outputs": [],
   "source": [
    "ax = gdf[\"geometry\"].plot()\n",
    "gdf[\"centroid\"].plot(ax=ax, color=\"black\")"
   ]
  },
  {
   "cell_type": "code",
   "execution_count": null,
   "id": "d9d3a996",
   "metadata": {},
   "outputs": [],
   "source": [
    "gdf = gdf.set_geometry(\"geometry\")"
   ]
  },
  {
   "cell_type": "markdown",
   "id": "8259c437",
   "metadata": {},
   "source": [
    "### Modifying Polygons"
   ]
  },
  {
   "cell_type": "markdown",
   "id": "ed9c4961",
   "metadata": {},
   "source": [
    "We can round out our polygons by creating a \"convex hull\" around our polygon"
   ]
  },
  {
   "cell_type": "code",
   "execution_count": null,
   "id": "ff261871",
   "metadata": {},
   "outputs": [],
   "source": [
    "gdf[\"convex_hull\"] = gdf.convex_hull"
   ]
  },
  {
   "cell_type": "code",
   "execution_count": null,
   "id": "701fd5f0",
   "metadata": {},
   "outputs": [],
   "source": [
    "ax = gdf[\"convex_hull\"].plot(alpha=.5)  # saving the first plot as an axis and setting alpha (transparency) to 0.5\n",
    "gdf[\"boundary\"].plot(ax=ax, color=\"white\", linewidth=.5);  # passing the first plot and setting linewitdth to 0.5"
   ]
  },
  {
   "cell_type": "markdown",
   "id": "713a3bf8",
   "metadata": {},
   "source": [
    "### Buffering"
   ]
  },
  {
   "cell_type": "markdown",
   "id": "db1d9b33",
   "metadata": {},
   "source": [
    "We might want to add buffers to our polygons."
   ]
  },
  {
   "cell_type": "code",
   "execution_count": null,
   "id": "e9330302",
   "metadata": {},
   "outputs": [],
   "source": [
    "# buffering the active geometry by 10 000 feet (geometry is already in feet)\n",
    "gdf[\"buffered\"] = gdf.buffer(10000)\n",
    "\n",
    "# buffering the centroid geometry by 10 000 feet (geometry is already in feet)\n",
    "gdf[\"buffered_centroid\"] = gdf[\"centroid\"].buffer(10000)"
   ]
  },
  {
   "cell_type": "code",
   "execution_count": null,
   "id": "92b6df4f",
   "metadata": {},
   "outputs": [],
   "source": [
    "ax = gdf[\"buffered\"].plot(alpha=.5)  # saving the first plot as an axis and setting alpha (transparency) to 0.5\n",
    "gdf[\"buffered_centroid\"].plot(ax=ax, color=\"red\", alpha=.5)  # passing the first plot as an axis to the second\n",
    "gdf[\"boundary\"].plot(ax=ax, color=\"white\", linewidth=.5)  # passing the first plot and setting linewitdth to 0.5"
   ]
  },
  {
   "cell_type": "markdown",
   "id": "77c0f7ee",
   "metadata": {},
   "source": [
    "## Geometry Relations"
   ]
  },
  {
   "cell_type": "markdown",
   "id": "99311a2d",
   "metadata": {},
   "source": [
    "We can also use our geometries to check for relations between them. For example, we might want to check on intersections or nearby entities."
   ]
  },
  {
   "cell_type": "markdown",
   "id": "1eb8f561",
   "metadata": {},
   "source": [
    "First we need to isolate the geometry we want to look at - in this case Brooklyn"
   ]
  },
  {
   "cell_type": "code",
   "execution_count": null,
   "id": "66cdac1a",
   "metadata": {},
   "outputs": [],
   "source": [
    "brooklyn = gdf.loc[\"Brooklyn\", \"geometry\"]\n",
    "brooklyn"
   ]
  },
  {
   "cell_type": "code",
   "execution_count": null,
   "id": "a66c7aae",
   "metadata": {},
   "outputs": [],
   "source": [
    "type(brooklyn)"
   ]
  },
  {
   "cell_type": "markdown",
   "id": "8edf3d3b",
   "metadata": {},
   "source": [
    "Now we can check if any of the other geometries intersect the buffer region around Brooklyn"
   ]
  },
  {
   "cell_type": "code",
   "execution_count": null,
   "id": "475ef641",
   "metadata": {},
   "outputs": [],
   "source": [
    "gdf[\"buffered\"].intersects(brooklyn)"
   ]
  },
  {
   "cell_type": "markdown",
   "id": "653ac67f",
   "metadata": {},
   "source": [
    "This means that only the Bronx fails to intersect with the buffer zone (10,000 ft) around Brooklyn."
   ]
  },
  {
   "cell_type": "markdown",
   "id": "120bd9fa",
   "metadata": {},
   "source": [
    "We can also look at the centroids and see if the buffered centroids are within their polygon."
   ]
  },
  {
   "cell_type": "code",
   "execution_count": null,
   "id": "fc13c8ec",
   "metadata": {},
   "outputs": [],
   "source": [
    "gdf[\"within\"] = gdf[\"buffered_centroid\"].within(gdf)\n",
    "gdf[\"within\"]"
   ]
  },
  {
   "cell_type": "markdown",
   "id": "4e548585",
   "metadata": {},
   "source": [
    "Plotting to confirm our results (this could be practical when looking at a state like Hawaii to see if the centroid is with in some distance of the shore)"
   ]
  },
  {
   "cell_type": "code",
   "execution_count": null,
   "id": "fc35d69c",
   "metadata": {},
   "outputs": [],
   "source": [
    "gdf = gdf.set_geometry(\"buffered_centroid\")\n",
    "ax = gdf.plot(\"within\", legend=True, categorical=True, legend_kwds={'loc': \"upper left\"})  # using categorical plot and setting the position of the legend\n",
    "gdf[\"boundary\"].plot(ax=ax, color=\"black\", linewidth=.5);  # passing the first plot and setting linewitdth to 0.5"
   ]
  },
  {
   "cell_type": "markdown",
   "id": "4d593f95",
   "metadata": {},
   "source": [
    "## More on Mapping"
   ]
  },
  {
   "cell_type": "markdown",
   "id": "f5079483",
   "metadata": {},
   "source": [
    "We might want to make more types of maps. Here are some examples of ways we can manipulate maps."
   ]
  },
  {
   "cell_type": "markdown",
   "id": "84b107f6",
   "metadata": {},
   "source": [
    "### Load Global Data"
   ]
  },
  {
   "cell_type": "code",
   "execution_count": null,
   "id": "c685c817",
   "metadata": {},
   "outputs": [],
   "source": [
    "world = geopandas.read_file(geopandas.datasets.get_path('naturalearth_lowres'))"
   ]
  },
  {
   "cell_type": "code",
   "execution_count": null,
   "id": "7ade8176",
   "metadata": {},
   "outputs": [],
   "source": [
    "cities = geopandas.read_file(geopandas.datasets.get_path('naturalearth_cities'))"
   ]
  },
  {
   "cell_type": "code",
   "execution_count": null,
   "id": "6e7ebe2d",
   "metadata": {},
   "outputs": [],
   "source": [
    "world.head()"
   ]
  },
  {
   "cell_type": "code",
   "execution_count": null,
   "id": "520e850c",
   "metadata": {},
   "outputs": [],
   "source": [
    "world.plot()"
   ]
  },
  {
   "cell_type": "markdown",
   "id": "326f667f",
   "metadata": {},
   "source": [
    "### Choropleth Maps"
   ]
  },
  {
   "cell_type": "markdown",
   "id": "c3de4872",
   "metadata": {},
   "source": [
    "These are maps based on a variable. First we'll filter out some of the data that we don't care about (Antarctica, uninhabitated land)."
   ]
  },
  {
   "cell_type": "code",
   "execution_count": null,
   "id": "c3784d11",
   "metadata": {},
   "outputs": [],
   "source": [
    "world = world[(world.pop_est>0) & (world.name!=\"Antarctica\")]"
   ]
  },
  {
   "cell_type": "markdown",
   "id": "0f6b9d77",
   "metadata": {},
   "source": [
    "Next we divide GDP (groos domestic product) by the population to generate a GDP per capita"
   ]
  },
  {
   "cell_type": "code",
   "execution_count": null,
   "id": "44234840",
   "metadata": {},
   "outputs": [],
   "source": [
    "world['gdp_per_cap'] = world.gdp_md_est / world.pop_est"
   ]
  },
  {
   "cell_type": "code",
   "execution_count": null,
   "id": "3e8800d4",
   "metadata": {},
   "outputs": [],
   "source": [
    "world.plot(column='gdp_per_cap',figsize=(12,6))"
   ]
  },
  {
   "cell_type": "code",
   "execution_count": null,
   "id": "6c1bb122",
   "metadata": {},
   "outputs": [],
   "source": [
    "world.sort_values(by='gdp_per_cap',ascending=False)"
   ]
  },
  {
   "cell_type": "markdown",
   "id": "9138c587",
   "metadata": {},
   "source": [
    "### Adding Legends"
   ]
  },
  {
   "cell_type": "markdown",
   "id": "9a7d336d",
   "metadata": {},
   "source": [
    "We can add legends to our map using matplotlib."
   ]
  },
  {
   "cell_type": "code",
   "execution_count": null,
   "id": "0529ffe0",
   "metadata": {},
   "outputs": [],
   "source": [
    "import matplotlib.pyplot as plt"
   ]
  },
  {
   "cell_type": "code",
   "execution_count": null,
   "id": "ed2b12f0",
   "metadata": {},
   "outputs": [],
   "source": [
    "fig, ax = plt.subplots(1, 1)\n",
    "\n",
    "world.plot(column='pop_est', ax=ax, legend=True)"
   ]
  },
  {
   "cell_type": "code",
   "execution_count": null,
   "id": "91204cde",
   "metadata": {},
   "outputs": [],
   "source": [
    "from mpl_toolkits.axes_grid1 import make_axes_locatable\n",
    "\n",
    "fig, ax = plt.subplots(1, 1)\n",
    "\n",
    "divider = make_axes_locatable(ax)\n",
    "\n",
    "cax = divider.append_axes(\"right\", size=\"5%\", pad=0.1)\n",
    "\n",
    "world.plot(column='pop_est', ax=ax, legend=True, cax=cax)\n"
   ]
  },
  {
   "cell_type": "code",
   "execution_count": null,
   "id": "66b85657",
   "metadata": {},
   "outputs": [],
   "source": [
    "import matplotlib.pyplot as plt\n",
    "\n",
    "fig, ax = plt.subplots(1, 1)\n",
    "\n",
    "world.plot(column='pop_est',\n",
    "            ax=ax,\n",
    "            legend=True,\n",
    "            legend_kwds={'label': \"Population by Country\",\n",
    "                         'orientation': \"horizontal\"});"
   ]
  },
  {
   "cell_type": "markdown",
   "id": "1fd87259",
   "metadata": {},
   "source": [
    "### Adding Colors"
   ]
  },
  {
   "cell_type": "markdown",
   "id": "77f8165f",
   "metadata": {},
   "source": [
    "We can use color maps (cmap) to change the color scheme of our map. For more colormap options, check out the [documentation](https://matplotlib.org/2.0.2/users/colormaps.html)."
   ]
  },
  {
   "cell_type": "code",
   "execution_count": null,
   "id": "12cc45a0",
   "metadata": {},
   "outputs": [],
   "source": [
    "world.plot(column='gdp_per_cap', cmap='nipy_spectral',figsize=(12,6))"
   ]
  },
  {
   "cell_type": "markdown",
   "id": "b1b8db1b",
   "metadata": {},
   "source": [
    "We can also just plot the boundaries of our polygons"
   ]
  },
  {
   "cell_type": "code",
   "execution_count": null,
   "id": "8ee57a46",
   "metadata": {},
   "outputs": [],
   "source": [
    "world.boundary.plot()"
   ]
  },
  {
   "cell_type": "markdown",
   "id": "314ed64c",
   "metadata": {},
   "source": [
    "We can use different schemes (here we use quantiles) to classify our map into colors. "
   ]
  },
  {
   "cell_type": "code",
   "execution_count": null,
   "id": "3277c190",
   "metadata": {},
   "outputs": [],
   "source": [
    "world.plot(column='gdp_per_cap', cmap='nipy_spectral', scheme='quantiles')"
   ]
  },
  {
   "cell_type": "markdown",
   "id": "ef1ce19a",
   "metadata": {},
   "source": [
    "### Missing Data"
   ]
  },
  {
   "cell_type": "markdown",
   "id": "605c7160",
   "metadata": {},
   "source": [
    "GeoPandas will ignore missing data by default but you can force it to fill in that missing data if you want using the missing keywords argument"
   ]
  },
  {
   "cell_type": "code",
   "execution_count": null,
   "id": "e2144266",
   "metadata": {},
   "outputs": [],
   "source": [
    "import numpy as np\n",
    "\n",
    "world.loc[np.random.choice(world.index, 40), 'pop_est'] = np.nan\n",
    "\n",
    "world.plot(column='pop_est');"
   ]
  },
  {
   "cell_type": "code",
   "execution_count": null,
   "id": "47f7b932",
   "metadata": {},
   "outputs": [],
   "source": [
    "world.plot(column='pop_est', missing_kwds={'color': 'lightgrey'});\n",
    "\n",
    "world.plot(\n",
    "     column=\"pop_est\",\n",
    "     legend=True,\n",
    "     scheme=\"quantiles\",\n",
    "     figsize=(15, 10),\n",
    "     missing_kwds={\n",
    "         \"color\": \"lightgrey\",\n",
    "         \"edgecolor\": \"red\",\n",
    "         \"hatch\": \"///\",\n",
    "         \"label\": \"Missing values\",\n",
    "     },\n",
    " );"
   ]
  },
  {
   "cell_type": "markdown",
   "id": "0af9a18f",
   "metadata": {},
   "source": [
    "### Other Customizations"
   ]
  },
  {
   "cell_type": "markdown",
   "id": "57a4c89b",
   "metadata": {},
   "source": [
    "We can turn off the axes for a cleaner map"
   ]
  },
  {
   "cell_type": "code",
   "execution_count": null,
   "id": "09bf5f83",
   "metadata": {},
   "outputs": [],
   "source": [
    "ax = world.plot()\n",
    "\n",
    "ax.set_axis_off();"
   ]
  },
  {
   "cell_type": "markdown",
   "id": "cfce22c1",
   "metadata": {},
   "source": [
    "## Maps with Layers"
   ]
  },
  {
   "cell_type": "markdown",
   "id": "d7da4ab7",
   "metadata": {},
   "source": [
    "We can combine maps of different things to make a layered map. Here we've done it with our world map and global cities"
   ]
  },
  {
   "cell_type": "code",
   "execution_count": null,
   "id": "095c82d7",
   "metadata": {},
   "outputs": [],
   "source": [
    "cities.plot(marker='*', color='green', markersize=7)\n",
    "\n",
    "cities = cities.to_crs(world.crs)"
   ]
  },
  {
   "cell_type": "code",
   "execution_count": null,
   "id": "49aafe22",
   "metadata": {},
   "outputs": [],
   "source": [
    "cities"
   ]
  },
  {
   "cell_type": "code",
   "execution_count": null,
   "id": "0951466a",
   "metadata": {},
   "outputs": [],
   "source": [
    "base = world.plot(color='white', edgecolor='black')\n",
    "\n",
    "cities.plot(ax=base, marker='*', color='green', markersize=10)"
   ]
  },
  {
   "cell_type": "markdown",
   "id": "a45175f1",
   "metadata": {},
   "source": [
    "## Using Pandas and GeoPandas"
   ]
  },
  {
   "cell_type": "code",
   "execution_count": null,
   "id": "e81b015b",
   "metadata": {},
   "outputs": [],
   "source": [
    "import pandas as pd"
   ]
  },
  {
   "cell_type": "markdown",
   "id": "632f0529",
   "metadata": {},
   "source": [
    "### Read in Shape File"
   ]
  },
  {
   "cell_type": "markdown",
   "id": "11e74dd7",
   "metadata": {},
   "source": [
    "When reading in a shape file, you actually need the reference files in the same directory as the shape file. This means you need a .shp as well as .shx, .dpf, and .prj files with the same names."
   ]
  },
  {
   "cell_type": "code",
   "execution_count": null,
   "id": "9d3cca49",
   "metadata": {},
   "outputs": [],
   "source": [
    "usa = geopandas.read_file('../data/s_22mr22.shp')\n",
    "\n",
    "usa.head()"
   ]
  },
  {
   "cell_type": "code",
   "execution_count": null,
   "id": "33aa7fa0",
   "metadata": {},
   "outputs": [],
   "source": [
    "usa['geometry'][42]"
   ]
  },
  {
   "cell_type": "code",
   "execution_count": null,
   "id": "005d2ca9",
   "metadata": {},
   "outputs": [],
   "source": [
    "usa[usa['STATE'] == 'TX'].plot();"
   ]
  },
  {
   "cell_type": "markdown",
   "id": "02121ec9",
   "metadata": {},
   "source": [
    "### Load Pandas"
   ]
  },
  {
   "cell_type": "markdown",
   "id": "982e937c",
   "metadata": {},
   "source": [
    "Here we pull in our state facts data set to combine it with the state geometry data."
   ]
  },
  {
   "cell_type": "code",
   "execution_count": null,
   "id": "492603c4",
   "metadata": {},
   "outputs": [],
   "source": [
    "facts = pd.read_csv('../data/state_facts.tsv', delimiter='\\t')"
   ]
  },
  {
   "cell_type": "code",
   "execution_count": null,
   "id": "5a551619",
   "metadata": {},
   "outputs": [],
   "source": [
    "dates = pd.read_csv('../data/state_dates.tsv', delimiter='\\t')"
   ]
  },
  {
   "cell_type": "code",
   "execution_count": null,
   "id": "7d152723",
   "metadata": {},
   "outputs": [],
   "source": [
    "facts.head()"
   ]
  },
  {
   "cell_type": "code",
   "execution_count": null,
   "id": "9e957041",
   "metadata": {},
   "outputs": [],
   "source": [
    "facts['USPS_code']=facts['USPS_code'].apply(lambda x: x.strip()) #trim off whitespace to make the abbreviations match\n",
    "dates['Abbreviation']=dates['Abbreviation'].apply(lambda x: x.strip()) #trim off whitespace to make the abbreviations match"
   ]
  },
  {
   "cell_type": "markdown",
   "id": "7c19ca92",
   "metadata": {},
   "source": [
    "### Merge Pandas and GeoPandas"
   ]
  },
  {
   "cell_type": "code",
   "execution_count": null,
   "id": "2cc65888",
   "metadata": {},
   "outputs": [],
   "source": [
    "dates.columns"
   ]
  },
  {
   "cell_type": "code",
   "execution_count": null,
   "id": "75e42101",
   "metadata": {},
   "outputs": [],
   "source": [
    "merged = pd.merge(facts,dates, left_on='USPS_code', right_on='Abbreviation', how='left')"
   ]
  },
  {
   "cell_type": "code",
   "execution_count": null,
   "id": "b9c88acd",
   "metadata": {},
   "outputs": [],
   "source": [
    "merged = pd.merge(merged,usa, left_on='USPS_code', right_on='STATE', how='left')\n",
    "merged['State_bird'] = merged['State_bird'].str.strip()"
   ]
  },
  {
   "cell_type": "code",
   "execution_count": null,
   "id": "346b0254",
   "metadata": {},
   "outputs": [],
   "source": [
    "merged.head()"
   ]
  },
  {
   "cell_type": "code",
   "execution_count": null,
   "id": "2e27111d",
   "metadata": {},
   "outputs": [],
   "source": [
    "gdf = geopandas.GeoDataFrame(merged)"
   ]
  },
  {
   "cell_type": "markdown",
   "id": "56cbe82d",
   "metadata": {},
   "source": [
    "Now we can filter using conditions like we are familar with when working with pandas."
   ]
  },
  {
   "cell_type": "code",
   "execution_count": null,
   "id": "3c54ecd6",
   "metadata": {},
   "outputs": [],
   "source": [
    "gdf[gdf['Pop_2020']>5000000].plot()"
   ]
  },
  {
   "cell_type": "code",
   "execution_count": null,
   "id": "09bdcdfa",
   "metadata": {},
   "outputs": [],
   "source": [
    "gdf[gdf['State_bird']==(\"Northern cardinal\")].plot(column='Pop_2020',cmap='nipy_spectral')"
   ]
  },
  {
   "cell_type": "code",
   "execution_count": null,
   "id": "aa0137fd",
   "metadata": {},
   "outputs": [],
   "source": [
    "ax = gdf[gdf['State_bird']==(\"Northern cardinal\")].plot(column='Pop_2020',cmap='nipy_spectral', scheme='quantiles', legend=True);\n",
    "\n",
    "ax.set_axis_off();"
   ]
  },
  {
   "cell_type": "code",
   "execution_count": null,
   "id": "d8954c9e",
   "metadata": {},
   "outputs": [],
   "source": [
    "ax = gdf[(~gdf['State_flower'].str.contains('a'))&(gdf['Status']=='State')&(gdf['USPS_code']!='AK')].plot(column='Pop_2020',cmap='nipy_spectral', scheme='quantiles', legend=False);\n",
    "\n",
    "ax.set_axis_off();"
   ]
  },
  {
   "cell_type": "code",
   "execution_count": null,
   "id": "e944f8d1",
   "metadata": {},
   "outputs": [],
   "source": [
    "gdf[(~gdf['State_flower'].str.contains('a'))&(gdf['USPS_code']!='AK')&(gdf['Status']=='State')].explore(column='Pop_2020',cmap='nipy_spectral', scheme='quantiles', legend=False)"
   ]
  }
 ],
 "metadata": {
  "jupytext": {
   "formats": "ipynb"
  },
  "kernelspec": {
   "display_name": "Python 3 (ipykernel)",
   "language": "python",
   "name": "python3"
  }
 },
 "nbformat": 4,
 "nbformat_minor": 5
}

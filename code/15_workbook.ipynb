{
 "cells": [
  {
   "cell_type": "markdown",
   "id": "8ae1c2bf",
   "metadata": {},
   "source": [
    "# GeoPandas and Mapping in Python"
   ]
  },
  {
   "cell_type": "markdown",
   "id": "badd39d4",
   "metadata": {},
   "source": [
    "A large portion of this tutorial was derived from the GeoPandas [user guide](https://geopandas.org/en/stable/docs/user_guide/mapping.html) and [introduction](https://geopandas.org/en/stable/getting_started/introduction.html)."
   ]
  },
  {
   "cell_type": "markdown",
   "id": "ce7de329",
   "metadata": {},
   "source": [
    "## Getting Started - Boroughs of NYC"
   ]
  },
  {
   "cell_type": "markdown",
   "id": "01278d57",
   "metadata": {},
   "source": [
    "One commmon way to visualize and interact with data is to use spatial information in the data to generate maps. In order to do that, we need to build out shapes (called geometries) in our data set.\n",
    "\n",
    "GeoPandas is an extension of pandas that allows us to include functionality for working with these geometries and perform analyses using that data."
   ]
  },
  {
   "cell_type": "markdown",
   "id": "1f8d2f4c",
   "metadata": {},
   "source": [
    "To start we need some data. In this tutorial, we'll use a few built in data sets but we will also load data from external shape files."
   ]
  },
  {
   "cell_type": "code",
   "execution_count": null,
   "id": "6ade9192",
   "metadata": {},
   "outputs": [],
   "source": [
    "import geopandas\n",
    "\n",
    "%config InlineBackend.figure_format ='retina'"
   ]
  },
  {
   "cell_type": "markdown",
   "id": "556c323e",
   "metadata": {},
   "source": [
    "### Reading Files"
   ]
  },
  {
   "cell_type": "code",
   "execution_count": null,
   "id": "e57c4374",
   "metadata": {},
   "outputs": [],
   "source": [
    "path_to_data = geopandas.datasets.get_path(\"nybb\")\n",
    "gdf = geopandas.read_file(path_to_data)\n",
    "gdf"
   ]
  },
  {
   "cell_type": "markdown",
   "id": "50f94243",
   "metadata": {},
   "source": [
    "### Writing Files"
   ]
  },
  {
   "cell_type": "code",
   "execution_count": null,
   "id": "b66c37b9",
   "metadata": {},
   "outputs": [],
   "source": [
    "gdf.to_file(\"my_file.geojson\", driver=\"GeoJSON\")"
   ]
  },
  {
   "cell_type": "markdown",
   "id": "be415dcd",
   "metadata": {},
   "source": [
    "### Getting Features"
   ]
  },
  {
   "cell_type": "code",
   "execution_count": null,
   "id": "0782cfd8",
   "metadata": {},
   "outputs": [],
   "source": [
    "gdf = gdf.set_index(\"BoroName\") #resetting the name of the boroughs as the index"
   ]
  },
  {
   "cell_type": "markdown",
   "id": "174f2e1b",
   "metadata": {},
   "source": [
    "Getting the area of the polygon"
   ]
  },
  {
   "cell_type": "code",
   "execution_count": null,
   "id": "0114493c",
   "metadata": {},
   "outputs": [],
   "source": [
    "gdf[\"area\"] = gdf.area\n",
    "gdf[\"area\"]"
   ]
  },
  {
   "cell_type": "markdown",
   "id": "2d55ec5c",
   "metadata": {},
   "source": [
    "Getting the boundary of the polygon"
   ]
  },
  {
   "cell_type": "code",
   "execution_count": null,
   "id": "f3933588",
   "metadata": {},
   "outputs": [],
   "source": [
    "gdf['boundary'] = gdf.boundary\n",
    "gdf['boundary']"
   ]
  },
  {
   "cell_type": "markdown",
   "id": "98cfc4d6",
   "metadata": {},
   "source": [
    "Getting the centroid (average x and y values) of the polygon"
   ]
  },
  {
   "cell_type": "code",
   "execution_count": null,
   "id": "0499fac3",
   "metadata": {},
   "outputs": [],
   "source": [
    "gdf['centroid'] = gdf.centroid\n",
    "gdf['centroid']"
   ]
  },
  {
   "cell_type": "markdown",
   "id": "a5b7ed77",
   "metadata": {},
   "source": [
    "### Measuring Distance"
   ]
  },
  {
   "cell_type": "markdown",
   "id": "beda92d6",
   "metadata": {},
   "source": [
    "Distance from the first point in the data to the centroid"
   ]
  },
  {
   "cell_type": "code",
   "execution_count": null,
   "id": "217fffe3",
   "metadata": {},
   "outputs": [],
   "source": [
    "first_point = gdf['centroid'].iloc[0]\n",
    "gdf['distance'] = gdf['centroid'].distance(first_point)\n",
    "gdf['distance']"
   ]
  },
  {
   "cell_type": "markdown",
   "id": "f024d315",
   "metadata": {},
   "source": [
    "Getting the average distance from our values above."
   ]
  },
  {
   "cell_type": "code",
   "execution_count": null,
   "id": "2f0d02c7",
   "metadata": {},
   "outputs": [],
   "source": [
    "gdf['distance'].mean()"
   ]
  },
  {
   "cell_type": "markdown",
   "id": "55077385",
   "metadata": {},
   "source": [
    "## Making Maps"
   ]
  },
  {
   "cell_type": "markdown",
   "id": "1173f673",
   "metadata": {},
   "source": [
    "GeoPandas can generate maps based on the geometries in the dataset."
   ]
  },
  {
   "cell_type": "code",
   "execution_count": null,
   "id": "1ab45c41",
   "metadata": {},
   "outputs": [],
   "source": [
    "gdf.plot(\"area\", legend=True)"
   ]
  },
  {
   "cell_type": "markdown",
   "id": "c5f890be",
   "metadata": {},
   "source": [
    "You can even make interactive maps that allow you to layer data over an existing map using explore instead of plot"
   ]
  },
  {
   "cell_type": "code",
   "execution_count": null,
   "id": "814c3229",
   "metadata": {},
   "outputs": [],
   "source": [
    "gdf.explore(\"area\", legend=False)"
   ]
  },
  {
   "cell_type": "markdown",
   "id": "46fb6f40",
   "metadata": {},
   "source": [
    "We can change the geometry we are plotting to centroids if we only want to plot the center of our shapes"
   ]
  },
  {
   "cell_type": "code",
   "execution_count": null,
   "id": "bdfc0881",
   "metadata": {},
   "outputs": [],
   "source": [
    "gdf = gdf.set_geometry(\"centroid\")\n",
    "gdf.plot(\"area\", legend=True)"
   ]
  },
  {
   "cell_type": "markdown",
   "id": "44c00ec8",
   "metadata": {},
   "source": [
    "This allows us to plot different layers with both the polygons and the centroids on the same map"
   ]
  },
  {
   "cell_type": "code",
   "execution_count": null,
   "id": "3a8caa85",
   "metadata": {},
   "outputs": [],
   "source": [
    "ax = gdf[\"geometry\"].plot()\n",
    "gdf[\"centroid\"].plot(ax=ax, color=\"black\")"
   ]
  },
  {
   "cell_type": "code",
   "execution_count": null,
   "id": "790af457",
   "metadata": {},
   "outputs": [],
   "source": [
    "gdf = gdf.set_geometry(\"geometry\")"
   ]
  },
  {
   "cell_type": "markdown",
   "id": "f5788c29",
   "metadata": {},
   "source": [
    "### Modifying Polygons"
   ]
  },
  {
   "cell_type": "markdown",
   "id": "a06bfa44",
   "metadata": {},
   "source": [
    "We can round out our polygons by creating a \"convex hull\" around our polygon"
   ]
  },
  {
   "cell_type": "code",
   "execution_count": null,
   "id": "90fd9ff7",
   "metadata": {},
   "outputs": [],
   "source": [
    "gdf[\"convex_hull\"] = gdf.convex_hull"
   ]
  },
  {
   "cell_type": "code",
   "execution_count": null,
   "id": "f78baf12",
   "metadata": {},
   "outputs": [],
   "source": [
    "ax = gdf[\"convex_hull\"].plot(alpha=.5)  # saving the first plot as an axis and setting alpha (transparency) to 0.5\n",
    "gdf[\"boundary\"].plot(ax=ax, color=\"white\", linewidth=.5);  # passing the first plot and setting linewitdth to 0.5"
   ]
  },
  {
   "cell_type": "markdown",
   "id": "2ee748d6",
   "metadata": {},
   "source": [
    "### Buffering"
   ]
  },
  {
   "cell_type": "markdown",
   "id": "bb49b204",
   "metadata": {},
   "source": [
    "We might want to add buffers to our polygons."
   ]
  },
  {
   "cell_type": "code",
   "execution_count": null,
   "id": "04b813b8",
   "metadata": {},
   "outputs": [],
   "source": [
    "# buffering the active geometry by 10 000 feet (geometry is already in feet)\n",
    "gdf[\"buffered\"] = gdf.buffer(10000)\n",
    "\n",
    "# buffering the centroid geometry by 10 000 feet (geometry is already in feet)\n",
    "gdf[\"buffered_centroid\"] = gdf[\"centroid\"].buffer(10000)"
   ]
  },
  {
   "cell_type": "code",
   "execution_count": null,
   "id": "6d6284e7",
   "metadata": {},
   "outputs": [],
   "source": [
    "ax = gdf[\"buffered\"].plot(alpha=.5)  # saving the first plot as an axis and setting alpha (transparency) to 0.5\n",
    "gdf[\"buffered_centroid\"].plot(ax=ax, color=\"red\", alpha=.5)  # passing the first plot as an axis to the second\n",
    "gdf[\"boundary\"].plot(ax=ax, color=\"white\", linewidth=.5)  # passing the first plot and setting linewitdth to 0.5"
   ]
  },
  {
   "cell_type": "markdown",
   "id": "42f9e965",
   "metadata": {},
   "source": [
    "## Geometry Relations"
   ]
  },
  {
   "cell_type": "markdown",
   "id": "64b52908",
   "metadata": {},
   "source": [
    "We can also use our geometries to check for relations between them. For example, we might want to check on intersections or nearby entities."
   ]
  },
  {
   "cell_type": "markdown",
   "id": "14e35056",
   "metadata": {},
   "source": [
    "First we need to isolate the geometry we want to look at - in this case Brooklyn"
   ]
  },
  {
   "cell_type": "code",
   "execution_count": null,
   "id": "3656a709",
   "metadata": {},
   "outputs": [],
   "source": [
    "brooklyn = gdf.loc[\"Brooklyn\", \"geometry\"]\n",
    "brooklyn"
   ]
  },
  {
   "cell_type": "code",
   "execution_count": null,
   "id": "4c0f2b09",
   "metadata": {},
   "outputs": [],
   "source": [
    "type(brooklyn)"
   ]
  },
  {
   "cell_type": "markdown",
   "id": "04d7c5cc",
   "metadata": {},
   "source": [
    "Now we can check if any of the other geometries intersect the buffer region around Brooklyn"
   ]
  },
  {
   "cell_type": "code",
   "execution_count": null,
   "id": "a331bc87",
   "metadata": {},
   "outputs": [],
   "source": [
    "gdf[\"buffered\"].intersects(brooklyn)"
   ]
  },
  {
   "cell_type": "markdown",
   "id": "caf348b5",
   "metadata": {},
   "source": [
    "This means that only the Bronx fails to intersect with the buffer zone (10,000 ft) around Brooklyn."
   ]
  },
  {
   "cell_type": "markdown",
   "id": "6718613f",
   "metadata": {},
   "source": [
    "We can also look at the centroids and see if the buffered centroids are within their polygon."
   ]
  },
  {
   "cell_type": "code",
   "execution_count": null,
   "id": "ca2914e3",
   "metadata": {},
   "outputs": [],
   "source": [
    "gdf[\"within\"] = gdf[\"buffered_centroid\"].within(gdf)\n",
    "gdf[\"within\"]"
   ]
  },
  {
   "cell_type": "markdown",
   "id": "1a60fbfc",
   "metadata": {},
   "source": [
    "Plotting to confirm our results (this could be practical when looking at a state like Hawaii to see if the centroid is with in some distance of the shore)"
   ]
  },
  {
   "cell_type": "code",
   "execution_count": null,
   "id": "0c462cf3",
   "metadata": {},
   "outputs": [],
   "source": [
    "gdf = gdf.set_geometry(\"buffered_centroid\")\n",
    "ax = gdf.plot(\"within\", legend=True, categorical=True, legend_kwds={'loc': \"upper left\"})  # using categorical plot and setting the position of the legend\n",
    "gdf[\"boundary\"].plot(ax=ax, color=\"black\", linewidth=.5);  # passing the first plot and setting linewitdth to 0.5"
   ]
  },
  {
   "cell_type": "markdown",
   "id": "2d082f11",
   "metadata": {},
   "source": [
    "## More on Mapping"
   ]
  },
  {
   "cell_type": "markdown",
   "id": "4082652a",
   "metadata": {},
   "source": [
    "We might want to make more types of maps. Here are some examples of ways we can manipulate maps."
   ]
  },
  {
   "cell_type": "markdown",
   "id": "3c56e4dc",
   "metadata": {},
   "source": [
    "### Load Global Data"
   ]
  },
  {
   "cell_type": "code",
   "execution_count": null,
   "id": "2e1dba0a",
   "metadata": {},
   "outputs": [],
   "source": [
    "world = geopandas.read_file(geopandas.datasets.get_path('naturalearth_lowres'))"
   ]
  },
  {
   "cell_type": "code",
   "execution_count": null,
   "id": "64b96b8c",
   "metadata": {},
   "outputs": [],
   "source": [
    "cities = geopandas.read_file(geopandas.datasets.get_path('naturalearth_cities'))"
   ]
  },
  {
   "cell_type": "code",
   "execution_count": null,
   "id": "dbe40c9c",
   "metadata": {},
   "outputs": [],
   "source": [
    "world.head()"
   ]
  },
  {
   "cell_type": "code",
   "execution_count": null,
   "id": "3cb2c618",
   "metadata": {},
   "outputs": [],
   "source": [
    "world.plot()"
   ]
  },
  {
   "cell_type": "markdown",
   "id": "3e31ac6e",
   "metadata": {},
   "source": [
    "### Choropleth Maps"
   ]
  },
  {
   "cell_type": "markdown",
   "id": "78c575f2",
   "metadata": {},
   "source": [
    "These are maps based on a variable. First we'll filter out some of the data that we don't care about (Antarctica, uninhabitated land)."
   ]
  },
  {
   "cell_type": "code",
   "execution_count": null,
   "id": "d6a49580",
   "metadata": {},
   "outputs": [],
   "source": [
    "world = world[(world.pop_est>0) & (world.name!=\"Antarctica\")]"
   ]
  },
  {
   "cell_type": "markdown",
   "id": "09b3313b",
   "metadata": {},
   "source": [
    "Next we divide GDP (groos domestic product) by the population to generate a GDP per capita"
   ]
  },
  {
   "cell_type": "code",
   "execution_count": null,
   "id": "306b5dd6",
   "metadata": {},
   "outputs": [],
   "source": [
    "world['gdp_per_cap'] = world.gdp_md_est / world.pop_est"
   ]
  },
  {
   "cell_type": "code",
   "execution_count": null,
   "id": "db72ed63",
   "metadata": {},
   "outputs": [],
   "source": [
    "world.plot(column='gdp_per_cap',figsize=(12,6))"
   ]
  },
  {
   "cell_type": "code",
   "execution_count": null,
   "id": "8dcacb63",
   "metadata": {},
   "outputs": [],
   "source": [
    "world.sort_values(by='gdp_per_cap',ascending=False)"
   ]
  },
  {
   "cell_type": "markdown",
   "id": "904f4ec2",
   "metadata": {},
   "source": [
    "### Adding Legends"
   ]
  },
  {
   "cell_type": "markdown",
   "id": "ea90c747",
   "metadata": {},
   "source": [
    "We can add legends to our map using matplotlib."
   ]
  },
  {
   "cell_type": "code",
   "execution_count": null,
   "id": "f19ee93d",
   "metadata": {},
   "outputs": [],
   "source": [
    "import matplotlib.pyplot as plt"
   ]
  },
  {
   "cell_type": "code",
   "execution_count": null,
   "id": "33318802",
   "metadata": {},
   "outputs": [],
   "source": [
    "fig, ax = plt.subplots(1, 1)\n",
    "\n",
    "world.plot(column='pop_est', ax=ax, legend=True)"
   ]
  },
  {
   "cell_type": "code",
   "execution_count": null,
   "id": "4e7e9b36",
   "metadata": {},
   "outputs": [],
   "source": [
    "from mpl_toolkits.axes_grid1 import make_axes_locatable\n",
    "\n",
    "fig, ax = plt.subplots(1, 1)\n",
    "\n",
    "divider = make_axes_locatable(ax)\n",
    "\n",
    "cax = divider.append_axes(\"right\", size=\"5%\", pad=0.1)\n",
    "\n",
    "world.plot(column='pop_est', ax=ax, legend=True, cax=cax)\n"
   ]
  },
  {
   "cell_type": "code",
   "execution_count": null,
   "id": "64d293ef",
   "metadata": {},
   "outputs": [],
   "source": [
    "import matplotlib.pyplot as plt\n",
    "\n",
    "fig, ax = plt.subplots(1, 1)\n",
    "\n",
    "world.plot(column='pop_est',\n",
    "            ax=ax,\n",
    "            legend=True,\n",
    "            legend_kwds={'label': \"Population by Country\",\n",
    "                         'orientation': \"horizontal\"});"
   ]
  },
  {
   "cell_type": "markdown",
   "id": "5cf7dda1",
   "metadata": {},
   "source": [
    "### Adding Colors"
   ]
  },
  {
   "cell_type": "markdown",
   "id": "2b494536",
   "metadata": {},
   "source": [
    "We can use color maps (cmap) to change the color scheme of our map. For more colormap options, check out the [documentation](https://matplotlib.org/2.0.2/users/colormaps.html)."
   ]
  },
  {
   "cell_type": "code",
   "execution_count": null,
   "id": "dd8442aa",
   "metadata": {},
   "outputs": [],
   "source": [
    "world.plot(column='gdp_per_cap', cmap='nipy_spectral',figsize=(12,6))"
   ]
  },
  {
   "cell_type": "markdown",
   "id": "f27fa1e2",
   "metadata": {},
   "source": [
    "We can also just plot the boundaries of our polygons"
   ]
  },
  {
   "cell_type": "code",
   "execution_count": null,
   "id": "939176a7",
   "metadata": {},
   "outputs": [],
   "source": [
    "world.boundary.plot()"
   ]
  },
  {
   "cell_type": "markdown",
   "id": "24b3625c",
   "metadata": {},
   "source": [
    "We can use different schemes (here we use quantiles) to classify our map into colors. "
   ]
  },
  {
   "cell_type": "code",
   "execution_count": null,
   "id": "4cd0b8d8",
   "metadata": {},
   "outputs": [],
   "source": [
    "world.plot(column='gdp_per_cap', cmap='nipy_spectral', scheme='quantiles')"
   ]
  },
  {
   "cell_type": "markdown",
   "id": "dc4b9560",
   "metadata": {},
   "source": [
    "### Missing Data"
   ]
  },
  {
   "cell_type": "markdown",
   "id": "0847d669",
   "metadata": {},
   "source": [
    "GeoPandas will ignore missing data by default but you can force it to fill in that missing data if you want using the missing keywords argument"
   ]
  },
  {
   "cell_type": "code",
   "execution_count": null,
   "id": "21999a66",
   "metadata": {},
   "outputs": [],
   "source": [
    "import numpy as np\n",
    "\n",
    "world.loc[np.random.choice(world.index, 40), 'pop_est'] = np.nan\n",
    "\n",
    "world.plot(column='pop_est');"
   ]
  },
  {
   "cell_type": "code",
   "execution_count": null,
   "id": "2819b0f3",
   "metadata": {},
   "outputs": [],
   "source": [
    "world.plot(column='pop_est', missing_kwds={'color': 'lightgrey'});\n",
    "\n",
    "world.plot(\n",
    "     column=\"pop_est\",\n",
    "     legend=True,\n",
    "     scheme=\"quantiles\",\n",
    "     figsize=(15, 10),\n",
    "     missing_kwds={\n",
    "         \"color\": \"lightgrey\",\n",
    "         \"edgecolor\": \"red\",\n",
    "         \"hatch\": \"///\",\n",
    "         \"label\": \"Missing values\",\n",
    "     },\n",
    " );"
   ]
  },
  {
   "cell_type": "markdown",
   "id": "27e6ae87",
   "metadata": {},
   "source": [
    "### Other Customizations"
   ]
  },
  {
   "cell_type": "markdown",
   "id": "e1d93709",
   "metadata": {},
   "source": [
    "We can turn off the axes for a cleaner map"
   ]
  },
  {
   "cell_type": "code",
   "execution_count": null,
   "id": "e5961db8",
   "metadata": {},
   "outputs": [],
   "source": [
    "ax = world.plot()\n",
    "\n",
    "ax.set_axis_off();"
   ]
  },
  {
   "cell_type": "markdown",
   "id": "1e4da6b8",
   "metadata": {},
   "source": [
    "## Maps with Layers"
   ]
  },
  {
   "cell_type": "markdown",
   "id": "e8705012",
   "metadata": {},
   "source": [
    "We can combine maps of different things to make a layered map. Here we've done it with our world map and global cities"
   ]
  },
  {
   "cell_type": "code",
   "execution_count": null,
   "id": "ac72de69",
   "metadata": {},
   "outputs": [],
   "source": [
    "cities.plot(marker='*', color='green', markersize=7)\n",
    "\n",
    "cities = cities.to_crs(world.crs)"
   ]
  },
  {
   "cell_type": "code",
   "execution_count": null,
   "id": "909bcf6c",
   "metadata": {},
   "outputs": [],
   "source": [
    "cities"
   ]
  },
  {
   "cell_type": "code",
   "execution_count": null,
   "id": "35a2b051",
   "metadata": {},
   "outputs": [],
   "source": [
    "base = world.plot(color='white', edgecolor='black')\n",
    "\n",
    "cities.plot(ax=base, marker='*', color='green', markersize=10)"
   ]
  },
  {
   "cell_type": "markdown",
   "id": "db3b33be",
   "metadata": {},
   "source": [
    "## Using Pandas and GeoPandas"
   ]
  },
  {
   "cell_type": "code",
   "execution_count": null,
   "id": "34d4c7cd",
   "metadata": {},
   "outputs": [],
   "source": [
    "import pandas as pd"
   ]
  },
  {
   "cell_type": "markdown",
   "id": "3dd76881",
   "metadata": {},
   "source": [
    "### Read in Shape File"
   ]
  },
  {
   "cell_type": "markdown",
   "id": "35de2222",
   "metadata": {},
   "source": [
    "When reading in a shape file, you actually need the reference files in the same directory as the shape file. This means you need a .shp as well as .shx, .dpf, and .prj files with the same names."
   ]
  },
  {
   "cell_type": "code",
   "execution_count": null,
   "id": "26b4c7e2",
   "metadata": {},
   "outputs": [],
   "source": [
    "usa = geopandas.read_file('../data/s_22mr22.shp')\n",
    "\n",
    "usa.head()"
   ]
  },
  {
   "cell_type": "code",
   "execution_count": null,
   "id": "84446fcf",
   "metadata": {},
   "outputs": [],
   "source": [
    "usa['geometry'][42]"
   ]
  },
  {
   "cell_type": "code",
   "execution_count": null,
   "id": "32abb906",
   "metadata": {},
   "outputs": [],
   "source": [
    "usa[usa['STATE'] == 'TX'].plot();"
   ]
  },
  {
   "cell_type": "markdown",
   "id": "53fd6114",
   "metadata": {},
   "source": [
    "### Load Pandas"
   ]
  },
  {
   "cell_type": "markdown",
   "id": "551b0688",
   "metadata": {},
   "source": [
    "Here we pull in our state facts data set to combine it with the state geometry data."
   ]
  },
  {
   "cell_type": "code",
   "execution_count": null,
   "id": "c68816aa",
   "metadata": {},
   "outputs": [],
   "source": [
    "facts = pd.read_csv('../data/state_facts.tsv', delimiter='\\t')"
   ]
  },
  {
   "cell_type": "code",
   "execution_count": null,
   "id": "43e9c0aa",
   "metadata": {},
   "outputs": [],
   "source": [
    "dates = pd.read_csv('../data/state_dates.tsv', delimiter='\\t')"
   ]
  },
  {
   "cell_type": "code",
   "execution_count": null,
   "id": "5596a14f",
   "metadata": {},
   "outputs": [],
   "source": [
    "facts.head()"
   ]
  },
  {
   "cell_type": "code",
   "execution_count": null,
   "id": "62f8b60a",
   "metadata": {},
   "outputs": [],
   "source": [
    "facts['USPS_code']=facts['USPS_code'].apply(lambda x: x.strip()) #trim off whitespace to make the abbreviations match\n",
    "dates['Abbreviation']=dates['Abbreviation'].apply(lambda x: x.strip()) #trim off whitespace to make the abbreviations match"
   ]
  },
  {
   "cell_type": "markdown",
   "id": "9725a464",
   "metadata": {},
   "source": [
    "### Merge Pandas and GeoPandas"
   ]
  },
  {
   "cell_type": "code",
   "execution_count": null,
   "id": "6549c29a",
   "metadata": {},
   "outputs": [],
   "source": [
    "dates.columns"
   ]
  },
  {
   "cell_type": "code",
   "execution_count": null,
   "id": "a4bc65fa",
   "metadata": {},
   "outputs": [],
   "source": [
    "merged = pd.merge(facts,dates, left_on='USPS_code', right_on='Abbreviation', how='left')"
   ]
  },
  {
   "cell_type": "code",
   "execution_count": null,
   "id": "3420f01b",
   "metadata": {},
   "outputs": [],
   "source": [
    "merged = pd.merge(merged,usa, left_on='USPS_code', right_on='STATE', how='left')\n",
    "merged['State_bird'] = merged['State_bird'].str.strip()"
   ]
  },
  {
   "cell_type": "code",
   "execution_count": null,
   "id": "f0bafbac",
   "metadata": {},
   "outputs": [],
   "source": [
    "merged.head()"
   ]
  },
  {
   "cell_type": "code",
   "execution_count": null,
   "id": "400b4e1b",
   "metadata": {},
   "outputs": [],
   "source": [
    "gdf = geopandas.GeoDataFrame(merged)"
   ]
  },
  {
   "cell_type": "markdown",
   "id": "e3bf6c2a",
   "metadata": {},
   "source": [
    "Now we can filter using conditions like we are familar with when working with pandas."
   ]
  },
  {
   "cell_type": "code",
   "execution_count": null,
   "id": "97994171",
   "metadata": {},
   "outputs": [],
   "source": [
    "gdf[gdf['Pop_2020']>5000000].plot()"
   ]
  },
  {
   "cell_type": "code",
   "execution_count": null,
   "id": "d23681a6",
   "metadata": {},
   "outputs": [],
   "source": [
    "gdf[gdf['State_bird']==(\"Northern cardinal\")].plot(column='Pop_2020',cmap='nipy_spectral')"
   ]
  },
  {
   "cell_type": "code",
   "execution_count": null,
   "id": "265539de",
   "metadata": {},
   "outputs": [],
   "source": [
    "ax = gdf[gdf['State_bird']==(\"Northern cardinal\")].plot(column='Pop_2020',cmap='nipy_spectral', scheme='quantiles', legend=True);\n",
    "\n",
    "ax.set_axis_off();"
   ]
  },
  {
   "cell_type": "code",
   "execution_count": null,
   "id": "57310d98",
   "metadata": {},
   "outputs": [],
   "source": [
    "ax = gdf[(~gdf['State_flower'].str.contains('a'))&(gdf['Status']=='State')&(gdf['USPS_code']!='AK')].plot(column='Pop_2020',cmap='nipy_spectral', scheme='quantiles', legend=False);\n",
    "\n",
    "ax.set_axis_off();"
   ]
  },
  {
   "cell_type": "code",
   "execution_count": null,
   "id": "6caa018c",
   "metadata": {},
   "outputs": [],
   "source": [
    "gdf[(~gdf['State_flower'].str.contains('a'))&(gdf['USPS_code']!='AK')&(gdf['Status']=='State')].explore(column='Pop_2020',cmap='nipy_spectral', scheme='quantiles', legend=False)"
   ]
  }
 ],
 "metadata": {
  "jupytext": {
   "formats": "ipynb"
  },
  "kernelspec": {
   "display_name": "Python 3 (ipykernel)",
   "language": "python",
   "name": "python3"
  }
 },
 "nbformat": 4,
 "nbformat_minor": 5
}

{
 "cells": [
  {
   "cell_type": "markdown",
   "id": "a29cb308",
   "metadata": {},
   "source": [
    "# Data Visualization"
   ]
  },
  {
   "cell_type": "markdown",
   "id": "f84fc4de",
   "metadata": {},
   "source": [
    "Select a dataset we have used in class (or outside of class).\n",
    "\n",
    "Generate a plot that you feel visualizes the data is an interesting way. Your plot should have the following elements:\n",
    "\n",
    ">1) Title\n",
    ">2) Legend\n",
    ">3) Axes or other Labels\n",
    ">4) Color\n",
    ">5) 1 sentence description of what your plot shows\n",
    ">6) Brief description of why you chose to make the plot the way you did.\n",
    "\n",
    "You may use pandas, matplotlib, or seaborn.\n",
    "\n",
    "Upload a pdf of the plot to Canvas."
   ]
  },
  {
   "cell_type": "code",
   "execution_count": null,
   "id": "9f784f4c",
   "metadata": {},
   "outputs": [],
   "source": []
  }
 ],
 "metadata": {
  "jupytext": {
   "formats": "ipynb"
  },
  "kernelspec": {
   "display_name": "Python 3",
   "language": "python",
   "name": "python3"
  }
 },
 "nbformat": 4,
 "nbformat_minor": 5
}

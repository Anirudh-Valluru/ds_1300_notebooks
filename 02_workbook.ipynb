{
 "cells": [
  {
   "cell_type": "markdown",
   "id": "576e3854",
   "metadata": {},
   "source": [
    "# Working with Data"
   ]
  },
  {
   "cell_type": "markdown",
   "id": "6e3b678d",
   "metadata": {},
   "source": [
    "By: Dr. Eric Godat and Dr. Rob Kalescky "
   ]
  },
  {
   "cell_type": "markdown",
   "id": "1e4f7e49",
   "metadata": {},
   "source": [
    "## Numbers as Data"
   ]
  },
  {
   "cell_type": "markdown",
   "id": "d81a5109",
   "metadata": {},
   "source": [
    "## Text as Data"
   ]
  },
  {
   "cell_type": "markdown",
   "id": "d84b56e6",
   "metadata": {},
   "source": [
    "## People as Data"
   ]
  },
  {
   "cell_type": "markdown",
   "id": "076630a0",
   "metadata": {},
   "source": [
    "## Common Issues"
   ]
  },
  {
   "cell_type": "markdown",
   "id": "0accb5c2",
   "metadata": {},
   "source": [
    "### Names and Unique Identifiers"
   ]
  },
  {
   "cell_type": "markdown",
   "id": "710d57f4",
   "metadata": {},
   "source": [
    "### Dates"
   ]
  },
  {
   "cell_type": "markdown",
   "id": "2f982e6c",
   "metadata": {},
   "source": [
    "## Loading Data into Python"
   ]
  },
  {
   "cell_type": "markdown",
   "id": "e2df6f20",
   "metadata": {},
   "source": [
    "### From csv"
   ]
  },
  {
   "cell_type": "markdown",
   "id": "ebbffbcc",
   "metadata": {},
   "source": [
    "## Getting Help"
   ]
  },
  {
   "cell_type": "markdown",
   "id": "4dd81a0a",
   "metadata": {},
   "source": [
    "### Python Documentation"
   ]
  },
  {
   "cell_type": "markdown",
   "id": "7deec26d",
   "metadata": {},
   "source": [
    "### Stack Overflow, Stack Exchange, and more"
   ]
  },
  {
   "cell_type": "code",
   "execution_count": null,
   "id": "81292dfc",
   "metadata": {},
   "outputs": [],
   "source": []
  }
 ],
 "metadata": {
  "jupytext": {
   "formats": "ipynb,md"
  },
  "kernelspec": {
   "display_name": "Python 3",
   "language": "python",
   "name": "python3"
  }
 },
 "nbformat": 4,
 "nbformat_minor": 5
}

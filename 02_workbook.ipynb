{
 "cells": [
  {
   "cell_type": "markdown",
   "id": "ea193ba7",
   "metadata": {},
   "source": [
    "# Working with Data"
   ]
  },
  {
   "cell_type": "markdown",
   "id": "2dc8ac76",
   "metadata": {},
   "source": [
    "By: Dr. Eric Godat and Dr. Rob Kalescky "
   ]
  },
  {
   "cell_type": "markdown",
   "id": "3cbea677",
   "metadata": {},
   "source": [
    "## Numbers as Data"
   ]
  },
  {
   "cell_type": "markdown",
   "id": "ac3babe0",
   "metadata": {},
   "source": [
    "## Text as Data"
   ]
  },
  {
   "cell_type": "markdown",
   "id": "d540e31f",
   "metadata": {},
   "source": [
    "## People as Data"
   ]
  },
  {
   "cell_type": "markdown",
   "id": "83025d47",
   "metadata": {},
   "source": [
    "## Common Issues"
   ]
  },
  {
   "cell_type": "markdown",
   "id": "70406728",
   "metadata": {},
   "source": [
    "### Names and Unique Identifiers"
   ]
  },
  {
   "cell_type": "markdown",
   "id": "e5f678b0",
   "metadata": {},
   "source": [
    "### Dates"
   ]
  },
  {
   "cell_type": "markdown",
   "id": "122e7330",
   "metadata": {},
   "source": [
    "## Loading Data into Python"
   ]
  },
  {
   "cell_type": "markdown",
   "id": "b0514b50",
   "metadata": {},
   "source": [
    "### From csv"
   ]
  },
  {
   "cell_type": "markdown",
   "id": "5a950327",
   "metadata": {},
   "source": [
    "## Getting Help"
   ]
  },
  {
   "cell_type": "markdown",
   "id": "3515d7bf",
   "metadata": {},
   "source": [
    "### Python Documentation"
   ]
  },
  {
   "cell_type": "markdown",
   "id": "2c9b644d",
   "metadata": {},
   "source": [
    "### Stack Overflow, Stack Exchange, and more"
   ]
  },
  {
   "cell_type": "code",
   "execution_count": null,
   "id": "7fcf0132",
   "metadata": {},
   "outputs": [],
   "source": []
  }
 ],
 "metadata": {
  "jupytext": {
   "formats": "ipynb,md"
  },
  "kernelspec": {
   "display_name": "Python 3",
   "language": "python",
   "name": "python3"
  }
 },
 "nbformat": 4,
 "nbformat_minor": 5
}

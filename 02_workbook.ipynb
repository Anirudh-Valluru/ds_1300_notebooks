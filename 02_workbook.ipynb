{
 "cells": [
  {
   "cell_type": "markdown",
   "id": "533e83c5",
   "metadata": {},
   "source": [
    "# Working with Data"
   ]
  },
  {
   "cell_type": "markdown",
   "id": "13888c6a",
   "metadata": {},
   "source": [
    "By: Dr. Eric Godat and Dr. Rob Kalescky "
   ]
  },
  {
   "cell_type": "markdown",
   "id": "a6cc39b0",
   "metadata": {},
   "source": [
    "As implied by the name, a Data Scientist needs to be able to work with data. However, what consitutes data can vary wildly depending on the project you're working on.\n",
    "\n",
    "In this notebook, we will dive into a few common types of data and some of the common pitfalls you'll encounter."
   ]
  },
  {
   "cell_type": "code",
   "execution_count": null,
   "id": "ea515ba7",
   "metadata": {},
   "outputs": [],
   "source": [
    "import pandas as pd"
   ]
  },
  {
   "cell_type": "markdown",
   "id": "f7376275",
   "metadata": {},
   "source": [
    "## Loading Data into Python"
   ]
  },
  {
   "cell_type": "markdown",
   "id": "d0d381af",
   "metadata": {},
   "source": [
    "The first step is getting data into python. While you could type the data into a dictionary, list, or other data format, that quickly becomes unsustainable. Fortunately there are several ways to load our data directly. "
   ]
  },
  {
   "cell_type": "markdown",
   "id": "19ceb909",
   "metadata": {},
   "source": [
    "### From csv"
   ]
  },
  {
   "cell_type": "markdown",
   "id": "dea2694d",
   "metadata": {},
   "source": [
    "The easiest way to load data is to use pandas to [read a csv](https://pandas.pydata.org/docs/reference/api/pandas.read_csv.html) (comma separated values) file into a data frame. This also works with other deliminators (things that split your data fields) too."
   ]
  },
  {
   "cell_type": "code",
   "execution_count": null,
   "id": "76e6f858",
   "metadata": {},
   "outputs": [],
   "source": [
    "df = pd.read_csv(\"../data/sample_data.csv\")\n",
    "df"
   ]
  },
  {
   "cell_type": "markdown",
   "id": "08b1c949",
   "metadata": {},
   "source": [
    "## Numbers as Data"
   ]
  },
  {
   "cell_type": "markdown",
   "id": "f0c7def2",
   "metadata": {},
   "source": [
    "The most classic example of data (and the one most people think of when you say data) is numerical data."
   ]
  },
  {
   "cell_type": "markdown",
   "id": "02539715",
   "metadata": {},
   "source": [
    "Using the data we just loaded. Let's do some basic calculations.\n",
    "\n",
    "We're going to start by summing our data."
   ]
  },
  {
   "cell_type": "code",
   "execution_count": null,
   "id": "36a3769b",
   "metadata": {},
   "outputs": [],
   "source": [
    "df.sum()"
   ]
  },
  {
   "cell_type": "markdown",
   "id": "7f8b4f40",
   "metadata": {},
   "source": [
    "> Obviously this doesn't make any sense, but why doesn't it?"
   ]
  },
  {
   "cell_type": "markdown",
   "id": "b69df681",
   "metadata": {},
   "source": [
    "How about the difference in price between two houses?"
   ]
  },
  {
   "cell_type": "code",
   "execution_count": null,
   "id": "8c09510d",
   "metadata": {},
   "outputs": [],
   "source": [
    "df['price_2'][0]-df['price_1'][0]"
   ]
  },
  {
   "cell_type": "markdown",
   "id": "32c668e8",
   "metadata": {},
   "source": [
    "## Text as Data"
   ]
  },
  {
   "cell_type": "code",
   "execution_count": null,
   "id": "b8cb9bea",
   "metadata": {},
   "outputs": [],
   "source": [
    "df = pd.read_csv(\"../data/folktales.csv\")"
   ]
  },
  {
   "cell_type": "code",
   "execution_count": null,
   "id": "531607f2",
   "metadata": {},
   "outputs": [],
   "source": [
    "df"
   ]
  },
  {
   "cell_type": "markdown",
   "id": "9a650433",
   "metadata": {},
   "source": [
    "## People as Data"
   ]
  },
  {
   "cell_type": "code",
   "execution_count": null,
   "id": "30703cc3",
   "metadata": {},
   "outputs": [],
   "source": [
    "pd.read_csv(\"../data/messy_data.csv\",delimiter=\";\")"
   ]
  },
  {
   "cell_type": "markdown",
   "id": "6e187728",
   "metadata": {},
   "source": [
    "## Common Issues"
   ]
  },
  {
   "cell_type": "markdown",
   "id": "70d90caa",
   "metadata": {},
   "source": [
    "### Names and Unique Identifiers"
   ]
  },
  {
   "cell_type": "markdown",
   "id": "03cfa2d8",
   "metadata": {},
   "source": [
    "### Dates"
   ]
  },
  {
   "cell_type": "markdown",
   "id": "4d5d7291",
   "metadata": {},
   "source": [
    "### Missing Values"
   ]
  },
  {
   "cell_type": "markdown",
   "id": "64a642cb",
   "metadata": {},
   "source": [
    "## Getting Help"
   ]
  },
  {
   "cell_type": "markdown",
   "id": "0cf27200",
   "metadata": {},
   "source": [
    "### Python Documentation"
   ]
  },
  {
   "cell_type": "markdown",
   "id": "aaa5c82e",
   "metadata": {},
   "source": [
    "### Stack Overflow, Stack Exchange, and more"
   ]
  },
  {
   "cell_type": "code",
   "execution_count": null,
   "id": "affbd1f2",
   "metadata": {},
   "outputs": [],
   "source": []
  }
 ],
 "metadata": {
  "jupytext": {
   "formats": "ipynb,md"
  },
  "kernelspec": {
   "display_name": "Python 3",
   "language": "python",
   "name": "python3"
  }
 },
 "nbformat": 4,
 "nbformat_minor": 5
}

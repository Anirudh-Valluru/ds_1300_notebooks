{
 "cells": [
  {
   "cell_type": "markdown",
   "id": "99fd0e44",
   "metadata": {},
   "source": [
    "# Working with Data"
   ]
  },
  {
   "cell_type": "markdown",
   "id": "f437ed69",
   "metadata": {},
   "source": [
    "By: Dr. Eric Godat and Dr. Rob Kalescky "
   ]
  },
  {
   "cell_type": "markdown",
   "id": "4f76be2f",
   "metadata": {},
   "source": [
    "As implied by the name, a Data Scientist needs to be able to work with data. However, what consitutes data can vary wildly depending on the project you're working on.\n",
    "\n",
    "In this notebook, we will dive into a few common types of data and some of the common pitfalls you'll encounter."
   ]
  },
  {
   "cell_type": "code",
   "execution_count": null,
   "id": "bbe65505",
   "metadata": {},
   "outputs": [],
   "source": [
    "import pandas as pd"
   ]
  },
  {
   "cell_type": "markdown",
   "id": "a67cc261",
   "metadata": {},
   "source": [
    "## Loading Data into Python"
   ]
  },
  {
   "cell_type": "markdown",
   "id": "8f4ead9e",
   "metadata": {},
   "source": [
    "The first step is getting data into python. While you could type the data into a dictionary, list, or other data format, that quickly becomes unsustainable. Fortunately there are several ways to load our data directly. "
   ]
  },
  {
   "cell_type": "markdown",
   "id": "b35308f0",
   "metadata": {},
   "source": [
    "### From csv"
   ]
  },
  {
   "cell_type": "markdown",
   "id": "a24cf621",
   "metadata": {},
   "source": [
    "The easiest way to load data is to use pandas to [read a csv](https://pandas.pydata.org/docs/reference/api/pandas.read_csv.html) (comma separated values) file into a data frame. This also works with other deliminators (things that split your data fields) too."
   ]
  },
  {
   "cell_type": "code",
   "execution_count": null,
   "id": "71fefe2c",
   "metadata": {},
   "outputs": [],
   "source": [
    "df = pd.read_csv(\"../data/sample_data.csv\")\n",
    "df"
   ]
  },
  {
   "cell_type": "markdown",
   "id": "b892a870",
   "metadata": {},
   "source": [
    "## Numbers as Data"
   ]
  },
  {
   "cell_type": "markdown",
   "id": "1d24023d",
   "metadata": {},
   "source": [
    "The most classic example of data (and the one most people think of when you say data) is numerical data."
   ]
  },
  {
   "cell_type": "markdown",
   "id": "1d4a347a",
   "metadata": {},
   "source": [
    "Using the data we just loaded. Let's do some basic calculations.\n",
    "\n",
    "We're going to start by summing our data."
   ]
  },
  {
   "cell_type": "code",
   "execution_count": null,
   "id": "88be8227",
   "metadata": {},
   "outputs": [],
   "source": [
    "df.sum()"
   ]
  },
  {
   "cell_type": "markdown",
   "id": "a95e53a7",
   "metadata": {},
   "source": [
    "> Obviously this doesn't make any sense, but why doesn't it?"
   ]
  },
  {
   "cell_type": "markdown",
   "id": "313b3ce7",
   "metadata": {},
   "source": [
    "How about the difference in price between two houses?"
   ]
  },
  {
   "cell_type": "code",
   "execution_count": null,
   "id": "4a392f90",
   "metadata": {},
   "outputs": [],
   "source": [
    "df['price_2'][0]-df['price_1'][0]"
   ]
  },
  {
   "cell_type": "markdown",
   "id": "f874a0ce",
   "metadata": {},
   "source": [
    "## Text as Data"
   ]
  },
  {
   "cell_type": "code",
   "execution_count": null,
   "id": "6ba4cf9a",
   "metadata": {},
   "outputs": [],
   "source": [
    "df = pd.read_csv(\"../data/folktales.csv\")"
   ]
  },
  {
   "cell_type": "code",
   "execution_count": null,
   "id": "a922b4b2",
   "metadata": {},
   "outputs": [],
   "source": [
    "df"
   ]
  },
  {
   "cell_type": "markdown",
   "id": "e1313939",
   "metadata": {},
   "source": [
    "## People as Data"
   ]
  },
  {
   "cell_type": "code",
   "execution_count": null,
   "id": "a18a393b",
   "metadata": {},
   "outputs": [],
   "source": [
    "pd.read_csv(\"../data/messy_data.csv\",delimiter=\";\")"
   ]
  },
  {
   "cell_type": "markdown",
   "id": "36db5597",
   "metadata": {},
   "source": [
    "## Common Issues"
   ]
  },
  {
   "cell_type": "markdown",
   "id": "a7fd7e60",
   "metadata": {},
   "source": [
    "### Names and Unique Identifiers"
   ]
  },
  {
   "cell_type": "markdown",
   "id": "b7088074",
   "metadata": {},
   "source": [
    "### Dates"
   ]
  },
  {
   "cell_type": "markdown",
   "id": "d375d985",
   "metadata": {},
   "source": [
    "### Missing Values"
   ]
  },
  {
   "cell_type": "markdown",
   "id": "dc74a0e8",
   "metadata": {},
   "source": [
    "## Getting Help"
   ]
  },
  {
   "cell_type": "markdown",
   "id": "722ae13e",
   "metadata": {},
   "source": [
    "### Python Documentation"
   ]
  },
  {
   "cell_type": "markdown",
   "id": "b28b7425",
   "metadata": {},
   "source": [
    "### Stack Overflow, Stack Exchange, and more"
   ]
  },
  {
   "cell_type": "code",
   "execution_count": null,
   "id": "239f33b5",
   "metadata": {},
   "outputs": [],
   "source": []
  }
 ],
 "metadata": {
  "jupytext": {
   "formats": "ipynb,md"
  },
  "kernelspec": {
   "display_name": "Python 3",
   "language": "python",
   "name": "python3"
  }
 },
 "nbformat": 4,
 "nbformat_minor": 5
}

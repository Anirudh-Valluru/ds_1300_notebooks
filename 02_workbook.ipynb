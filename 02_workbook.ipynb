{
 "cells": [
  {
   "cell_type": "markdown",
   "id": "62a30cfd",
   "metadata": {},
   "source": [
    "# Working with Data"
   ]
  },
  {
   "cell_type": "markdown",
   "id": "6f6b7a2f",
   "metadata": {},
   "source": [
    "By: Dr. Eric Godat and Dr. Rob Kalescky "
   ]
  },
  {
   "cell_type": "markdown",
   "id": "ae8ad4ec",
   "metadata": {},
   "source": [
    "As implied by the name, a Data Scientist needs to be able to work with data. However, what consitutes data can vary wildly depending on the project you're working on.\n",
    "\n",
    "In this notebook, we will dive into a few common types of data and some of the common pitfalls you'll encounter."
   ]
  },
  {
   "cell_type": "code",
   "execution_count": null,
   "id": "0928587a",
   "metadata": {},
   "outputs": [],
   "source": [
    "import pandas as pd"
   ]
  },
  {
   "cell_type": "markdown",
   "id": "fcd8235b",
   "metadata": {},
   "source": [
    "## Loading Data into Python"
   ]
  },
  {
   "cell_type": "markdown",
   "id": "cdbbec44",
   "metadata": {},
   "source": [
    "The first step is getting data into python. While you could type the data into a dictionary, list, or other data format, that quickly becomes unsustainable. Fortunately there are several ways to load our data directly. "
   ]
  },
  {
   "cell_type": "markdown",
   "id": "646a2360",
   "metadata": {},
   "source": [
    "### From csv"
   ]
  },
  {
   "cell_type": "markdown",
   "id": "bb0d4dca",
   "metadata": {},
   "source": [
    "The easiest way to load data is to use pandas to [read a csv](https://pandas.pydata.org/docs/reference/api/pandas.read_csv.html) (comma separated values) file into a data frame. This also works with other deliminators (things that split your data fields) too."
   ]
  },
  {
   "cell_type": "code",
   "execution_count": null,
   "id": "39d3bfe8",
   "metadata": {},
   "outputs": [],
   "source": [
    "df = pd.read_csv(\"../data/sample_data.csv\")\n",
    "df"
   ]
  },
  {
   "cell_type": "markdown",
   "id": "204d2255",
   "metadata": {},
   "source": [
    "## Numbers as Data"
   ]
  },
  {
   "cell_type": "markdown",
   "id": "b8295399",
   "metadata": {},
   "source": [
    "The most classic example of data (and the one most people think of when you say data) is numerical data."
   ]
  },
  {
   "cell_type": "markdown",
   "id": "2d8ea6e8",
   "metadata": {},
   "source": [
    "Using the data we just loaded. Let's do some basic calculations.\n",
    "\n",
    "We're going to start by summing our data."
   ]
  },
  {
   "cell_type": "code",
   "execution_count": null,
   "id": "36712f49",
   "metadata": {},
   "outputs": [],
   "source": [
    "df.sum()"
   ]
  },
  {
   "cell_type": "markdown",
   "id": "c12aed0c",
   "metadata": {},
   "source": [
    "> Obviously this doesn't make any sense, but why doesn't it?"
   ]
  },
  {
   "cell_type": "markdown",
   "id": "4cb6fd1a",
   "metadata": {},
   "source": [
    "How about the difference in price between two houses?"
   ]
  },
  {
   "cell_type": "code",
   "execution_count": null,
   "id": "f715dc92",
   "metadata": {},
   "outputs": [],
   "source": [
    "df['price_2'][0]-df['price_1'][0]"
   ]
  },
  {
   "cell_type": "markdown",
   "id": "d8682a8f",
   "metadata": {},
   "source": [
    "## Text as Data"
   ]
  },
  {
   "cell_type": "code",
   "execution_count": null,
   "id": "ddab3c2b",
   "metadata": {},
   "outputs": [],
   "source": [
    "df = pd.read_csv(\"../data/folktales.csv\")"
   ]
  },
  {
   "cell_type": "code",
   "execution_count": null,
   "id": "774a9881",
   "metadata": {},
   "outputs": [],
   "source": [
    "df"
   ]
  },
  {
   "cell_type": "markdown",
   "id": "7c95279a",
   "metadata": {},
   "source": [
    "## People as Data"
   ]
  },
  {
   "cell_type": "code",
   "execution_count": null,
   "id": "55b629eb",
   "metadata": {},
   "outputs": [],
   "source": [
    "pd.read_csv(\"../data/messy_data.csv\",delimiter=\";\")"
   ]
  },
  {
   "cell_type": "markdown",
   "id": "d41c7be8",
   "metadata": {},
   "source": [
    "## Common Issues"
   ]
  },
  {
   "cell_type": "markdown",
   "id": "53abfc04",
   "metadata": {},
   "source": [
    "### Names and Unique Identifiers"
   ]
  },
  {
   "cell_type": "markdown",
   "id": "33b706ec",
   "metadata": {},
   "source": [
    "### Dates"
   ]
  },
  {
   "cell_type": "markdown",
   "id": "83f1b288",
   "metadata": {},
   "source": [
    "### Missing Values"
   ]
  },
  {
   "cell_type": "markdown",
   "id": "981ee19a",
   "metadata": {},
   "source": [
    "## Getting Help"
   ]
  },
  {
   "cell_type": "markdown",
   "id": "57639ffa",
   "metadata": {},
   "source": [
    "### Python Documentation"
   ]
  },
  {
   "cell_type": "markdown",
   "id": "2bd7fd2e",
   "metadata": {},
   "source": [
    "### Stack Overflow, Stack Exchange, and more"
   ]
  },
  {
   "cell_type": "code",
   "execution_count": null,
   "id": "d5535bea",
   "metadata": {},
   "outputs": [],
   "source": []
  }
 ],
 "metadata": {
  "jupytext": {
   "formats": "ipynb,md"
  },
  "kernelspec": {
   "display_name": "Python 3",
   "language": "python",
   "name": "python3"
  }
 },
 "nbformat": 4,
 "nbformat_minor": 5
}

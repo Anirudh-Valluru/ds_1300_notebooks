{
 "cells": [
  {
   "cell_type": "markdown",
   "id": "57b1fd69",
   "metadata": {},
   "source": [
    "# Working with Data"
   ]
  },
  {
   "cell_type": "markdown",
   "id": "cdf50bf3",
   "metadata": {},
   "source": [
    "By: Dr. Eric Godat and Dr. Rob Kalescky "
   ]
  },
  {
   "cell_type": "markdown",
   "id": "df13918d",
   "metadata": {},
   "source": [
    "## Numbers as Data"
   ]
  },
  {
   "cell_type": "markdown",
   "id": "37a378b8",
   "metadata": {},
   "source": [
    "## Text as Data"
   ]
  },
  {
   "cell_type": "markdown",
   "id": "79631438",
   "metadata": {},
   "source": [
    "## People as Data"
   ]
  },
  {
   "cell_type": "markdown",
   "id": "2eaf11ad",
   "metadata": {},
   "source": [
    "## Common Issues"
   ]
  },
  {
   "cell_type": "markdown",
   "id": "0c94092a",
   "metadata": {},
   "source": [
    "### Names and Unique Identifiers"
   ]
  },
  {
   "cell_type": "markdown",
   "id": "6a5e23d3",
   "metadata": {},
   "source": [
    "### Dates"
   ]
  },
  {
   "cell_type": "markdown",
   "id": "4b360d11",
   "metadata": {},
   "source": [
    "## Loading Data into Python"
   ]
  },
  {
   "cell_type": "markdown",
   "id": "3b679cfe",
   "metadata": {},
   "source": [
    "### From csv"
   ]
  },
  {
   "cell_type": "markdown",
   "id": "91953182",
   "metadata": {},
   "source": [
    "## Getting Help"
   ]
  },
  {
   "cell_type": "markdown",
   "id": "ae77c20e",
   "metadata": {},
   "source": [
    "### Python Documentation"
   ]
  },
  {
   "cell_type": "markdown",
   "id": "d32a5ff0",
   "metadata": {},
   "source": [
    "### Stack Overflow, Stack Exchange, and more"
   ]
  },
  {
   "cell_type": "code",
   "execution_count": null,
   "id": "7ccdac52",
   "metadata": {},
   "outputs": [],
   "source": []
  }
 ],
 "metadata": {
  "jupytext": {
   "formats": "ipynb,md"
  },
  "kernelspec": {
   "display_name": "Python 3",
   "language": "python",
   "name": "python3"
  }
 },
 "nbformat": 4,
 "nbformat_minor": 5
}
